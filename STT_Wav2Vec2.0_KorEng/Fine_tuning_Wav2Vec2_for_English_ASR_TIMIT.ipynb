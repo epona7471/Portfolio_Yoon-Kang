{
  "nbformat": 4,
  "nbformat_minor": 0,
  "metadata": {
    "colab": {
      "name": "Fine_tuning_Wav2Vec2_for_English_ASR_2.ipynb",
      "provenance": [],
      "collapsed_sections": [],
      "machine_shape": "hm"
    },
    "kernelspec": {
      "name": "python3",
      "display_name": "Python 3"
    },
    "accelerator": "GPU",
    "widgets": {
      "application/vnd.jupyter.widget-state+json": {
        "4b02c82d1b6242a596f87050db4e0d13": {
          "model_module": "@jupyter-widgets/controls",
          "model_name": "HBoxModel",
          "model_module_version": "1.5.0",
          "state": {
            "_view_name": "HBoxView",
            "_dom_classes": [],
            "_model_name": "HBoxModel",
            "_view_module": "@jupyter-widgets/controls",
            "_model_module_version": "1.5.0",
            "_view_count": null,
            "_view_module_version": "1.5.0",
            "box_style": "",
            "layout": "IPY_MODEL_7226e9d79e9144e3adff733bbb053398",
            "_model_module": "@jupyter-widgets/controls",
            "children": [
              "IPY_MODEL_42668dbc06694450afacfdece4c0424d",
              "IPY_MODEL_5381251b020446e9b03fbc68e9ebec33",
              "IPY_MODEL_abfb2ecb6ff64339ae99692b0fb1e742"
            ]
          }
        },
        "7226e9d79e9144e3adff733bbb053398": {
          "model_module": "@jupyter-widgets/base",
          "model_name": "LayoutModel",
          "model_module_version": "1.2.0",
          "state": {
            "_view_name": "LayoutView",
            "grid_template_rows": null,
            "right": null,
            "justify_content": null,
            "_view_module": "@jupyter-widgets/base",
            "overflow": null,
            "_model_module_version": "1.2.0",
            "_view_count": null,
            "flex_flow": null,
            "width": null,
            "min_width": null,
            "border": null,
            "align_items": null,
            "bottom": null,
            "_model_module": "@jupyter-widgets/base",
            "top": null,
            "grid_column": null,
            "overflow_y": null,
            "overflow_x": null,
            "grid_auto_flow": null,
            "grid_area": null,
            "grid_template_columns": null,
            "flex": null,
            "_model_name": "LayoutModel",
            "justify_items": null,
            "grid_row": null,
            "max_height": null,
            "align_content": null,
            "visibility": null,
            "align_self": null,
            "height": null,
            "min_height": null,
            "padding": null,
            "grid_auto_rows": null,
            "grid_gap": null,
            "max_width": null,
            "order": null,
            "_view_module_version": "1.2.0",
            "grid_template_areas": null,
            "object_position": null,
            "object_fit": null,
            "grid_auto_columns": null,
            "margin": null,
            "display": null,
            "left": null
          }
        },
        "42668dbc06694450afacfdece4c0424d": {
          "model_module": "@jupyter-widgets/controls",
          "model_name": "HTMLModel",
          "model_module_version": "1.5.0",
          "state": {
            "_view_name": "HTMLView",
            "style": "IPY_MODEL_848816e334e3404eb7635c6131522f58",
            "_dom_classes": [],
            "description": "",
            "_model_name": "HTMLModel",
            "placeholder": "​",
            "_view_module": "@jupyter-widgets/controls",
            "_model_module_version": "1.5.0",
            "value": "100%",
            "_view_count": null,
            "_view_module_version": "1.5.0",
            "description_tooltip": null,
            "_model_module": "@jupyter-widgets/controls",
            "layout": "IPY_MODEL_4256ea8b903b43928ecf32c630db8ce2"
          }
        },
        "5381251b020446e9b03fbc68e9ebec33": {
          "model_module": "@jupyter-widgets/controls",
          "model_name": "FloatProgressModel",
          "model_module_version": "1.5.0",
          "state": {
            "_view_name": "ProgressView",
            "style": "IPY_MODEL_6f9f3a074b25402ab42d2b579a7b4e3a",
            "_dom_classes": [],
            "description": "",
            "_model_name": "FloatProgressModel",
            "bar_style": "success",
            "max": 2,
            "_view_module": "@jupyter-widgets/controls",
            "_model_module_version": "1.5.0",
            "value": 2,
            "_view_count": null,
            "_view_module_version": "1.5.0",
            "orientation": "horizontal",
            "min": 0,
            "description_tooltip": null,
            "_model_module": "@jupyter-widgets/controls",
            "layout": "IPY_MODEL_5cfb293766f7419096642dc8ba8c4252"
          }
        },
        "abfb2ecb6ff64339ae99692b0fb1e742": {
          "model_module": "@jupyter-widgets/controls",
          "model_name": "HTMLModel",
          "model_module_version": "1.5.0",
          "state": {
            "_view_name": "HTMLView",
            "style": "IPY_MODEL_6faa658479cd48a89fc70bde3cb42b7b",
            "_dom_classes": [],
            "description": "",
            "_model_name": "HTMLModel",
            "placeholder": "​",
            "_view_module": "@jupyter-widgets/controls",
            "_model_module_version": "1.5.0",
            "value": " 2/2 [00:00&lt;00:00, 19.28it/s]",
            "_view_count": null,
            "_view_module_version": "1.5.0",
            "description_tooltip": null,
            "_model_module": "@jupyter-widgets/controls",
            "layout": "IPY_MODEL_82e4e712a14e42789b8e21f51a171eb3"
          }
        },
        "848816e334e3404eb7635c6131522f58": {
          "model_module": "@jupyter-widgets/controls",
          "model_name": "DescriptionStyleModel",
          "model_module_version": "1.5.0",
          "state": {
            "_view_name": "StyleView",
            "_model_name": "DescriptionStyleModel",
            "description_width": "",
            "_view_module": "@jupyter-widgets/base",
            "_model_module_version": "1.5.0",
            "_view_count": null,
            "_view_module_version": "1.2.0",
            "_model_module": "@jupyter-widgets/controls"
          }
        },
        "4256ea8b903b43928ecf32c630db8ce2": {
          "model_module": "@jupyter-widgets/base",
          "model_name": "LayoutModel",
          "model_module_version": "1.2.0",
          "state": {
            "_view_name": "LayoutView",
            "grid_template_rows": null,
            "right": null,
            "justify_content": null,
            "_view_module": "@jupyter-widgets/base",
            "overflow": null,
            "_model_module_version": "1.2.0",
            "_view_count": null,
            "flex_flow": null,
            "width": null,
            "min_width": null,
            "border": null,
            "align_items": null,
            "bottom": null,
            "_model_module": "@jupyter-widgets/base",
            "top": null,
            "grid_column": null,
            "overflow_y": null,
            "overflow_x": null,
            "grid_auto_flow": null,
            "grid_area": null,
            "grid_template_columns": null,
            "flex": null,
            "_model_name": "LayoutModel",
            "justify_items": null,
            "grid_row": null,
            "max_height": null,
            "align_content": null,
            "visibility": null,
            "align_self": null,
            "height": null,
            "min_height": null,
            "padding": null,
            "grid_auto_rows": null,
            "grid_gap": null,
            "max_width": null,
            "order": null,
            "_view_module_version": "1.2.0",
            "grid_template_areas": null,
            "object_position": null,
            "object_fit": null,
            "grid_auto_columns": null,
            "margin": null,
            "display": null,
            "left": null
          }
        },
        "6f9f3a074b25402ab42d2b579a7b4e3a": {
          "model_module": "@jupyter-widgets/controls",
          "model_name": "ProgressStyleModel",
          "model_module_version": "1.5.0",
          "state": {
            "_view_name": "StyleView",
            "_model_name": "ProgressStyleModel",
            "description_width": "",
            "_view_module": "@jupyter-widgets/base",
            "_model_module_version": "1.5.0",
            "_view_count": null,
            "_view_module_version": "1.2.0",
            "bar_color": null,
            "_model_module": "@jupyter-widgets/controls"
          }
        },
        "5cfb293766f7419096642dc8ba8c4252": {
          "model_module": "@jupyter-widgets/base",
          "model_name": "LayoutModel",
          "model_module_version": "1.2.0",
          "state": {
            "_view_name": "LayoutView",
            "grid_template_rows": null,
            "right": null,
            "justify_content": null,
            "_view_module": "@jupyter-widgets/base",
            "overflow": null,
            "_model_module_version": "1.2.0",
            "_view_count": null,
            "flex_flow": null,
            "width": null,
            "min_width": null,
            "border": null,
            "align_items": null,
            "bottom": null,
            "_model_module": "@jupyter-widgets/base",
            "top": null,
            "grid_column": null,
            "overflow_y": null,
            "overflow_x": null,
            "grid_auto_flow": null,
            "grid_area": null,
            "grid_template_columns": null,
            "flex": null,
            "_model_name": "LayoutModel",
            "justify_items": null,
            "grid_row": null,
            "max_height": null,
            "align_content": null,
            "visibility": null,
            "align_self": null,
            "height": null,
            "min_height": null,
            "padding": null,
            "grid_auto_rows": null,
            "grid_gap": null,
            "max_width": null,
            "order": null,
            "_view_module_version": "1.2.0",
            "grid_template_areas": null,
            "object_position": null,
            "object_fit": null,
            "grid_auto_columns": null,
            "margin": null,
            "display": null,
            "left": null
          }
        },
        "6faa658479cd48a89fc70bde3cb42b7b": {
          "model_module": "@jupyter-widgets/controls",
          "model_name": "DescriptionStyleModel",
          "model_module_version": "1.5.0",
          "state": {
            "_view_name": "StyleView",
            "_model_name": "DescriptionStyleModel",
            "description_width": "",
            "_view_module": "@jupyter-widgets/base",
            "_model_module_version": "1.5.0",
            "_view_count": null,
            "_view_module_version": "1.2.0",
            "_model_module": "@jupyter-widgets/controls"
          }
        },
        "82e4e712a14e42789b8e21f51a171eb3": {
          "model_module": "@jupyter-widgets/base",
          "model_name": "LayoutModel",
          "model_module_version": "1.2.0",
          "state": {
            "_view_name": "LayoutView",
            "grid_template_rows": null,
            "right": null,
            "justify_content": null,
            "_view_module": "@jupyter-widgets/base",
            "overflow": null,
            "_model_module_version": "1.2.0",
            "_view_count": null,
            "flex_flow": null,
            "width": null,
            "min_width": null,
            "border": null,
            "align_items": null,
            "bottom": null,
            "_model_module": "@jupyter-widgets/base",
            "top": null,
            "grid_column": null,
            "overflow_y": null,
            "overflow_x": null,
            "grid_auto_flow": null,
            "grid_area": null,
            "grid_template_columns": null,
            "flex": null,
            "_model_name": "LayoutModel",
            "justify_items": null,
            "grid_row": null,
            "max_height": null,
            "align_content": null,
            "visibility": null,
            "align_self": null,
            "height": null,
            "min_height": null,
            "padding": null,
            "grid_auto_rows": null,
            "grid_gap": null,
            "max_width": null,
            "order": null,
            "_view_module_version": "1.2.0",
            "grid_template_areas": null,
            "object_position": null,
            "object_fit": null,
            "grid_auto_columns": null,
            "margin": null,
            "display": null,
            "left": null
          }
        },
        "716e3323ef254a879104ab60fba84dd0": {
          "model_module": "@jupyter-widgets/controls",
          "model_name": "HBoxModel",
          "model_module_version": "1.5.0",
          "state": {
            "_view_name": "HBoxView",
            "_dom_classes": [],
            "_model_name": "HBoxModel",
            "_view_module": "@jupyter-widgets/controls",
            "_model_module_version": "1.5.0",
            "_view_count": null,
            "_view_module_version": "1.5.0",
            "box_style": "",
            "layout": "IPY_MODEL_3947ffe38d3b4642a509c6c2a0a89c82",
            "_model_module": "@jupyter-widgets/controls",
            "children": [
              "IPY_MODEL_f1240b519e924120bd95e93185b656e7",
              "IPY_MODEL_f36b1399b1c04e7596b076352a7955fe",
              "IPY_MODEL_63493aa303c840b1a512061ef5bd393e"
            ]
          }
        },
        "3947ffe38d3b4642a509c6c2a0a89c82": {
          "model_module": "@jupyter-widgets/base",
          "model_name": "LayoutModel",
          "model_module_version": "1.2.0",
          "state": {
            "_view_name": "LayoutView",
            "grid_template_rows": null,
            "right": null,
            "justify_content": null,
            "_view_module": "@jupyter-widgets/base",
            "overflow": null,
            "_model_module_version": "1.2.0",
            "_view_count": null,
            "flex_flow": null,
            "width": null,
            "min_width": null,
            "border": null,
            "align_items": null,
            "bottom": null,
            "_model_module": "@jupyter-widgets/base",
            "top": null,
            "grid_column": null,
            "overflow_y": null,
            "overflow_x": null,
            "grid_auto_flow": null,
            "grid_area": null,
            "grid_template_columns": null,
            "flex": null,
            "_model_name": "LayoutModel",
            "justify_items": null,
            "grid_row": null,
            "max_height": null,
            "align_content": null,
            "visibility": null,
            "align_self": null,
            "height": null,
            "min_height": null,
            "padding": null,
            "grid_auto_rows": null,
            "grid_gap": null,
            "max_width": null,
            "order": null,
            "_view_module_version": "1.2.0",
            "grid_template_areas": null,
            "object_position": null,
            "object_fit": null,
            "grid_auto_columns": null,
            "margin": null,
            "display": null,
            "left": null
          }
        },
        "f1240b519e924120bd95e93185b656e7": {
          "model_module": "@jupyter-widgets/controls",
          "model_name": "HTMLModel",
          "model_module_version": "1.5.0",
          "state": {
            "_view_name": "HTMLView",
            "style": "IPY_MODEL_a301260b1dfa47db9fc44dcfa18a933a",
            "_dom_classes": [],
            "description": "",
            "_model_name": "HTMLModel",
            "placeholder": "​",
            "_view_module": "@jupyter-widgets/controls",
            "_model_module_version": "1.5.0",
            "value": "100%",
            "_view_count": null,
            "_view_module_version": "1.5.0",
            "description_tooltip": null,
            "_model_module": "@jupyter-widgets/controls",
            "layout": "IPY_MODEL_995433a4adab4c64b30068a7b5eb69c3"
          }
        },
        "f36b1399b1c04e7596b076352a7955fe": {
          "model_module": "@jupyter-widgets/controls",
          "model_name": "FloatProgressModel",
          "model_module_version": "1.5.0",
          "state": {
            "_view_name": "ProgressView",
            "style": "IPY_MODEL_4a6dcd7860f2435da348e6e5721aef0c",
            "_dom_classes": [],
            "description": "",
            "_model_name": "FloatProgressModel",
            "bar_style": "success",
            "max": 1,
            "_view_module": "@jupyter-widgets/controls",
            "_model_module_version": "1.5.0",
            "value": 1,
            "_view_count": null,
            "_view_module_version": "1.5.0",
            "orientation": "horizontal",
            "min": 0,
            "description_tooltip": null,
            "_model_module": "@jupyter-widgets/controls",
            "layout": "IPY_MODEL_fcb9adb3a09c410387f0bba3a550828a"
          }
        },
        "63493aa303c840b1a512061ef5bd393e": {
          "model_module": "@jupyter-widgets/controls",
          "model_name": "HTMLModel",
          "model_module_version": "1.5.0",
          "state": {
            "_view_name": "HTMLView",
            "style": "IPY_MODEL_66002006d72545ca8b8be876b8dc5fcd",
            "_dom_classes": [],
            "description": "",
            "_model_name": "HTMLModel",
            "placeholder": "​",
            "_view_module": "@jupyter-widgets/controls",
            "_model_module_version": "1.5.0",
            "value": " 1/1 [00:00&lt;00:00, 22.28ba/s]",
            "_view_count": null,
            "_view_module_version": "1.5.0",
            "description_tooltip": null,
            "_model_module": "@jupyter-widgets/controls",
            "layout": "IPY_MODEL_73ca0e8eebce4b68a3aff76febc68655"
          }
        },
        "a301260b1dfa47db9fc44dcfa18a933a": {
          "model_module": "@jupyter-widgets/controls",
          "model_name": "DescriptionStyleModel",
          "model_module_version": "1.5.0",
          "state": {
            "_view_name": "StyleView",
            "_model_name": "DescriptionStyleModel",
            "description_width": "",
            "_view_module": "@jupyter-widgets/base",
            "_model_module_version": "1.5.0",
            "_view_count": null,
            "_view_module_version": "1.2.0",
            "_model_module": "@jupyter-widgets/controls"
          }
        },
        "995433a4adab4c64b30068a7b5eb69c3": {
          "model_module": "@jupyter-widgets/base",
          "model_name": "LayoutModel",
          "model_module_version": "1.2.0",
          "state": {
            "_view_name": "LayoutView",
            "grid_template_rows": null,
            "right": null,
            "justify_content": null,
            "_view_module": "@jupyter-widgets/base",
            "overflow": null,
            "_model_module_version": "1.2.0",
            "_view_count": null,
            "flex_flow": null,
            "width": null,
            "min_width": null,
            "border": null,
            "align_items": null,
            "bottom": null,
            "_model_module": "@jupyter-widgets/base",
            "top": null,
            "grid_column": null,
            "overflow_y": null,
            "overflow_x": null,
            "grid_auto_flow": null,
            "grid_area": null,
            "grid_template_columns": null,
            "flex": null,
            "_model_name": "LayoutModel",
            "justify_items": null,
            "grid_row": null,
            "max_height": null,
            "align_content": null,
            "visibility": null,
            "align_self": null,
            "height": null,
            "min_height": null,
            "padding": null,
            "grid_auto_rows": null,
            "grid_gap": null,
            "max_width": null,
            "order": null,
            "_view_module_version": "1.2.0",
            "grid_template_areas": null,
            "object_position": null,
            "object_fit": null,
            "grid_auto_columns": null,
            "margin": null,
            "display": null,
            "left": null
          }
        },
        "4a6dcd7860f2435da348e6e5721aef0c": {
          "model_module": "@jupyter-widgets/controls",
          "model_name": "ProgressStyleModel",
          "model_module_version": "1.5.0",
          "state": {
            "_view_name": "StyleView",
            "_model_name": "ProgressStyleModel",
            "description_width": "",
            "_view_module": "@jupyter-widgets/base",
            "_model_module_version": "1.5.0",
            "_view_count": null,
            "_view_module_version": "1.2.0",
            "bar_color": null,
            "_model_module": "@jupyter-widgets/controls"
          }
        },
        "fcb9adb3a09c410387f0bba3a550828a": {
          "model_module": "@jupyter-widgets/base",
          "model_name": "LayoutModel",
          "model_module_version": "1.2.0",
          "state": {
            "_view_name": "LayoutView",
            "grid_template_rows": null,
            "right": null,
            "justify_content": null,
            "_view_module": "@jupyter-widgets/base",
            "overflow": null,
            "_model_module_version": "1.2.0",
            "_view_count": null,
            "flex_flow": null,
            "width": null,
            "min_width": null,
            "border": null,
            "align_items": null,
            "bottom": null,
            "_model_module": "@jupyter-widgets/base",
            "top": null,
            "grid_column": null,
            "overflow_y": null,
            "overflow_x": null,
            "grid_auto_flow": null,
            "grid_area": null,
            "grid_template_columns": null,
            "flex": null,
            "_model_name": "LayoutModel",
            "justify_items": null,
            "grid_row": null,
            "max_height": null,
            "align_content": null,
            "visibility": null,
            "align_self": null,
            "height": null,
            "min_height": null,
            "padding": null,
            "grid_auto_rows": null,
            "grid_gap": null,
            "max_width": null,
            "order": null,
            "_view_module_version": "1.2.0",
            "grid_template_areas": null,
            "object_position": null,
            "object_fit": null,
            "grid_auto_columns": null,
            "margin": null,
            "display": null,
            "left": null
          }
        },
        "66002006d72545ca8b8be876b8dc5fcd": {
          "model_module": "@jupyter-widgets/controls",
          "model_name": "DescriptionStyleModel",
          "model_module_version": "1.5.0",
          "state": {
            "_view_name": "StyleView",
            "_model_name": "DescriptionStyleModel",
            "description_width": "",
            "_view_module": "@jupyter-widgets/base",
            "_model_module_version": "1.5.0",
            "_view_count": null,
            "_view_module_version": "1.2.0",
            "_model_module": "@jupyter-widgets/controls"
          }
        },
        "73ca0e8eebce4b68a3aff76febc68655": {
          "model_module": "@jupyter-widgets/base",
          "model_name": "LayoutModel",
          "model_module_version": "1.2.0",
          "state": {
            "_view_name": "LayoutView",
            "grid_template_rows": null,
            "right": null,
            "justify_content": null,
            "_view_module": "@jupyter-widgets/base",
            "overflow": null,
            "_model_module_version": "1.2.0",
            "_view_count": null,
            "flex_flow": null,
            "width": null,
            "min_width": null,
            "border": null,
            "align_items": null,
            "bottom": null,
            "_model_module": "@jupyter-widgets/base",
            "top": null,
            "grid_column": null,
            "overflow_y": null,
            "overflow_x": null,
            "grid_auto_flow": null,
            "grid_area": null,
            "grid_template_columns": null,
            "flex": null,
            "_model_name": "LayoutModel",
            "justify_items": null,
            "grid_row": null,
            "max_height": null,
            "align_content": null,
            "visibility": null,
            "align_self": null,
            "height": null,
            "min_height": null,
            "padding": null,
            "grid_auto_rows": null,
            "grid_gap": null,
            "max_width": null,
            "order": null,
            "_view_module_version": "1.2.0",
            "grid_template_areas": null,
            "object_position": null,
            "object_fit": null,
            "grid_auto_columns": null,
            "margin": null,
            "display": null,
            "left": null
          }
        },
        "96dd4ac4b331463c887e9e92a9b25aa7": {
          "model_module": "@jupyter-widgets/controls",
          "model_name": "HBoxModel",
          "model_module_version": "1.5.0",
          "state": {
            "_view_name": "HBoxView",
            "_dom_classes": [],
            "_model_name": "HBoxModel",
            "_view_module": "@jupyter-widgets/controls",
            "_model_module_version": "1.5.0",
            "_view_count": null,
            "_view_module_version": "1.5.0",
            "box_style": "",
            "layout": "IPY_MODEL_d8e9d5f094c8467cb81945db5a26be72",
            "_model_module": "@jupyter-widgets/controls",
            "children": [
              "IPY_MODEL_aace449e260b42ac9a642bb3d1838931",
              "IPY_MODEL_a271d9eba38b4495a309b2176e36bab3",
              "IPY_MODEL_0e3f9e6dea5f4cecb148cad430ef22cd"
            ]
          }
        },
        "d8e9d5f094c8467cb81945db5a26be72": {
          "model_module": "@jupyter-widgets/base",
          "model_name": "LayoutModel",
          "model_module_version": "1.2.0",
          "state": {
            "_view_name": "LayoutView",
            "grid_template_rows": null,
            "right": null,
            "justify_content": null,
            "_view_module": "@jupyter-widgets/base",
            "overflow": null,
            "_model_module_version": "1.2.0",
            "_view_count": null,
            "flex_flow": null,
            "width": null,
            "min_width": null,
            "border": null,
            "align_items": null,
            "bottom": null,
            "_model_module": "@jupyter-widgets/base",
            "top": null,
            "grid_column": null,
            "overflow_y": null,
            "overflow_x": null,
            "grid_auto_flow": null,
            "grid_area": null,
            "grid_template_columns": null,
            "flex": null,
            "_model_name": "LayoutModel",
            "justify_items": null,
            "grid_row": null,
            "max_height": null,
            "align_content": null,
            "visibility": null,
            "align_self": null,
            "height": null,
            "min_height": null,
            "padding": null,
            "grid_auto_rows": null,
            "grid_gap": null,
            "max_width": null,
            "order": null,
            "_view_module_version": "1.2.0",
            "grid_template_areas": null,
            "object_position": null,
            "object_fit": null,
            "grid_auto_columns": null,
            "margin": null,
            "display": null,
            "left": null
          }
        },
        "aace449e260b42ac9a642bb3d1838931": {
          "model_module": "@jupyter-widgets/controls",
          "model_name": "HTMLModel",
          "model_module_version": "1.5.0",
          "state": {
            "_view_name": "HTMLView",
            "style": "IPY_MODEL_175438e5f6aa49ba9918b72d55018abc",
            "_dom_classes": [],
            "description": "",
            "_model_name": "HTMLModel",
            "placeholder": "​",
            "_view_module": "@jupyter-widgets/controls",
            "_model_module_version": "1.5.0",
            "value": "100%",
            "_view_count": null,
            "_view_module_version": "1.5.0",
            "description_tooltip": null,
            "_model_module": "@jupyter-widgets/controls",
            "layout": "IPY_MODEL_6d9e9ca282e74ec8aad6d110b3d76c4e"
          }
        },
        "a271d9eba38b4495a309b2176e36bab3": {
          "model_module": "@jupyter-widgets/controls",
          "model_name": "FloatProgressModel",
          "model_module_version": "1.5.0",
          "state": {
            "_view_name": "ProgressView",
            "style": "IPY_MODEL_7e33add4747148859a3119ed9d857e50",
            "_dom_classes": [],
            "description": "",
            "_model_name": "FloatProgressModel",
            "bar_style": "success",
            "max": 1,
            "_view_module": "@jupyter-widgets/controls",
            "_model_module_version": "1.5.0",
            "value": 1,
            "_view_count": null,
            "_view_module_version": "1.5.0",
            "orientation": "horizontal",
            "min": 0,
            "description_tooltip": null,
            "_model_module": "@jupyter-widgets/controls",
            "layout": "IPY_MODEL_cbb09eb1114f4debabb5873c2befa20d"
          }
        },
        "0e3f9e6dea5f4cecb148cad430ef22cd": {
          "model_module": "@jupyter-widgets/controls",
          "model_name": "HTMLModel",
          "model_module_version": "1.5.0",
          "state": {
            "_view_name": "HTMLView",
            "style": "IPY_MODEL_e32014f7024547d69060ff5aa86ee04a",
            "_dom_classes": [],
            "description": "",
            "_model_name": "HTMLModel",
            "placeholder": "​",
            "_view_module": "@jupyter-widgets/controls",
            "_model_module_version": "1.5.0",
            "value": " 1/1 [00:00&lt;00:00, 32.22ba/s]",
            "_view_count": null,
            "_view_module_version": "1.5.0",
            "description_tooltip": null,
            "_model_module": "@jupyter-widgets/controls",
            "layout": "IPY_MODEL_b8ba4d2450664682acbd3ae65dc39f46"
          }
        },
        "175438e5f6aa49ba9918b72d55018abc": {
          "model_module": "@jupyter-widgets/controls",
          "model_name": "DescriptionStyleModel",
          "model_module_version": "1.5.0",
          "state": {
            "_view_name": "StyleView",
            "_model_name": "DescriptionStyleModel",
            "description_width": "",
            "_view_module": "@jupyter-widgets/base",
            "_model_module_version": "1.5.0",
            "_view_count": null,
            "_view_module_version": "1.2.0",
            "_model_module": "@jupyter-widgets/controls"
          }
        },
        "6d9e9ca282e74ec8aad6d110b3d76c4e": {
          "model_module": "@jupyter-widgets/base",
          "model_name": "LayoutModel",
          "model_module_version": "1.2.0",
          "state": {
            "_view_name": "LayoutView",
            "grid_template_rows": null,
            "right": null,
            "justify_content": null,
            "_view_module": "@jupyter-widgets/base",
            "overflow": null,
            "_model_module_version": "1.2.0",
            "_view_count": null,
            "flex_flow": null,
            "width": null,
            "min_width": null,
            "border": null,
            "align_items": null,
            "bottom": null,
            "_model_module": "@jupyter-widgets/base",
            "top": null,
            "grid_column": null,
            "overflow_y": null,
            "overflow_x": null,
            "grid_auto_flow": null,
            "grid_area": null,
            "grid_template_columns": null,
            "flex": null,
            "_model_name": "LayoutModel",
            "justify_items": null,
            "grid_row": null,
            "max_height": null,
            "align_content": null,
            "visibility": null,
            "align_self": null,
            "height": null,
            "min_height": null,
            "padding": null,
            "grid_auto_rows": null,
            "grid_gap": null,
            "max_width": null,
            "order": null,
            "_view_module_version": "1.2.0",
            "grid_template_areas": null,
            "object_position": null,
            "object_fit": null,
            "grid_auto_columns": null,
            "margin": null,
            "display": null,
            "left": null
          }
        },
        "7e33add4747148859a3119ed9d857e50": {
          "model_module": "@jupyter-widgets/controls",
          "model_name": "ProgressStyleModel",
          "model_module_version": "1.5.0",
          "state": {
            "_view_name": "StyleView",
            "_model_name": "ProgressStyleModel",
            "description_width": "",
            "_view_module": "@jupyter-widgets/base",
            "_model_module_version": "1.5.0",
            "_view_count": null,
            "_view_module_version": "1.2.0",
            "bar_color": null,
            "_model_module": "@jupyter-widgets/controls"
          }
        },
        "cbb09eb1114f4debabb5873c2befa20d": {
          "model_module": "@jupyter-widgets/base",
          "model_name": "LayoutModel",
          "model_module_version": "1.2.0",
          "state": {
            "_view_name": "LayoutView",
            "grid_template_rows": null,
            "right": null,
            "justify_content": null,
            "_view_module": "@jupyter-widgets/base",
            "overflow": null,
            "_model_module_version": "1.2.0",
            "_view_count": null,
            "flex_flow": null,
            "width": null,
            "min_width": null,
            "border": null,
            "align_items": null,
            "bottom": null,
            "_model_module": "@jupyter-widgets/base",
            "top": null,
            "grid_column": null,
            "overflow_y": null,
            "overflow_x": null,
            "grid_auto_flow": null,
            "grid_area": null,
            "grid_template_columns": null,
            "flex": null,
            "_model_name": "LayoutModel",
            "justify_items": null,
            "grid_row": null,
            "max_height": null,
            "align_content": null,
            "visibility": null,
            "align_self": null,
            "height": null,
            "min_height": null,
            "padding": null,
            "grid_auto_rows": null,
            "grid_gap": null,
            "max_width": null,
            "order": null,
            "_view_module_version": "1.2.0",
            "grid_template_areas": null,
            "object_position": null,
            "object_fit": null,
            "grid_auto_columns": null,
            "margin": null,
            "display": null,
            "left": null
          }
        },
        "e32014f7024547d69060ff5aa86ee04a": {
          "model_module": "@jupyter-widgets/controls",
          "model_name": "DescriptionStyleModel",
          "model_module_version": "1.5.0",
          "state": {
            "_view_name": "StyleView",
            "_model_name": "DescriptionStyleModel",
            "description_width": "",
            "_view_module": "@jupyter-widgets/base",
            "_model_module_version": "1.5.0",
            "_view_count": null,
            "_view_module_version": "1.2.0",
            "_model_module": "@jupyter-widgets/controls"
          }
        },
        "b8ba4d2450664682acbd3ae65dc39f46": {
          "model_module": "@jupyter-widgets/base",
          "model_name": "LayoutModel",
          "model_module_version": "1.2.0",
          "state": {
            "_view_name": "LayoutView",
            "grid_template_rows": null,
            "right": null,
            "justify_content": null,
            "_view_module": "@jupyter-widgets/base",
            "overflow": null,
            "_model_module_version": "1.2.0",
            "_view_count": null,
            "flex_flow": null,
            "width": null,
            "min_width": null,
            "border": null,
            "align_items": null,
            "bottom": null,
            "_model_module": "@jupyter-widgets/base",
            "top": null,
            "grid_column": null,
            "overflow_y": null,
            "overflow_x": null,
            "grid_auto_flow": null,
            "grid_area": null,
            "grid_template_columns": null,
            "flex": null,
            "_model_name": "LayoutModel",
            "justify_items": null,
            "grid_row": null,
            "max_height": null,
            "align_content": null,
            "visibility": null,
            "align_self": null,
            "height": null,
            "min_height": null,
            "padding": null,
            "grid_auto_rows": null,
            "grid_gap": null,
            "max_width": null,
            "order": null,
            "_view_module_version": "1.2.0",
            "grid_template_areas": null,
            "object_position": null,
            "object_fit": null,
            "grid_auto_columns": null,
            "margin": null,
            "display": null,
            "left": null
          }
        },
        "37304503f7734068bb958b49ebbc0b74": {
          "model_module": "@jupyter-widgets/controls",
          "model_name": "HBoxModel",
          "model_module_version": "1.5.0",
          "state": {
            "_view_name": "HBoxView",
            "_dom_classes": [],
            "_model_name": "HBoxModel",
            "_view_module": "@jupyter-widgets/controls",
            "_model_module_version": "1.5.0",
            "_view_count": null,
            "_view_module_version": "1.5.0",
            "box_style": "",
            "layout": "IPY_MODEL_4df08fc18b4b4a908707c347128f9def",
            "_model_module": "@jupyter-widgets/controls",
            "children": [
              "IPY_MODEL_0c00927cba6542719c9579af48fe1799",
              "IPY_MODEL_6f68e3a517754460bfe9d5c038f1e753",
              "IPY_MODEL_2030c3a01215456da074ff83bde2167a"
            ]
          }
        },
        "4df08fc18b4b4a908707c347128f9def": {
          "model_module": "@jupyter-widgets/base",
          "model_name": "LayoutModel",
          "model_module_version": "1.2.0",
          "state": {
            "_view_name": "LayoutView",
            "grid_template_rows": null,
            "right": null,
            "justify_content": null,
            "_view_module": "@jupyter-widgets/base",
            "overflow": null,
            "_model_module_version": "1.2.0",
            "_view_count": null,
            "flex_flow": null,
            "width": null,
            "min_width": null,
            "border": null,
            "align_items": null,
            "bottom": null,
            "_model_module": "@jupyter-widgets/base",
            "top": null,
            "grid_column": null,
            "overflow_y": null,
            "overflow_x": null,
            "grid_auto_flow": null,
            "grid_area": null,
            "grid_template_columns": null,
            "flex": null,
            "_model_name": "LayoutModel",
            "justify_items": null,
            "grid_row": null,
            "max_height": null,
            "align_content": null,
            "visibility": null,
            "align_self": null,
            "height": null,
            "min_height": null,
            "padding": null,
            "grid_auto_rows": null,
            "grid_gap": null,
            "max_width": null,
            "order": null,
            "_view_module_version": "1.2.0",
            "grid_template_areas": null,
            "object_position": null,
            "object_fit": null,
            "grid_auto_columns": null,
            "margin": null,
            "display": null,
            "left": null
          }
        },
        "0c00927cba6542719c9579af48fe1799": {
          "model_module": "@jupyter-widgets/controls",
          "model_name": "HTMLModel",
          "model_module_version": "1.5.0",
          "state": {
            "_view_name": "HTMLView",
            "style": "IPY_MODEL_818533bf8a904d69b4ff6719e2679e2a",
            "_dom_classes": [],
            "description": "",
            "_model_name": "HTMLModel",
            "placeholder": "​",
            "_view_module": "@jupyter-widgets/controls",
            "_model_module_version": "1.5.0",
            "value": "100%",
            "_view_count": null,
            "_view_module_version": "1.5.0",
            "description_tooltip": null,
            "_model_module": "@jupyter-widgets/controls",
            "layout": "IPY_MODEL_17c9ecaf6aed4350a09b9b17cbbc93e0"
          }
        },
        "6f68e3a517754460bfe9d5c038f1e753": {
          "model_module": "@jupyter-widgets/controls",
          "model_name": "FloatProgressModel",
          "model_module_version": "1.5.0",
          "state": {
            "_view_name": "ProgressView",
            "style": "IPY_MODEL_8a8449746a374e60bcb49f1b597120bc",
            "_dom_classes": [],
            "description": "",
            "_model_name": "FloatProgressModel",
            "bar_style": "success",
            "max": 1680,
            "_view_module": "@jupyter-widgets/controls",
            "_model_module_version": "1.5.0",
            "value": 1680,
            "_view_count": null,
            "_view_module_version": "1.5.0",
            "orientation": "horizontal",
            "min": 0,
            "description_tooltip": null,
            "_model_module": "@jupyter-widgets/controls",
            "layout": "IPY_MODEL_76319b06f4ca464ba031e4709f7b860a"
          }
        },
        "2030c3a01215456da074ff83bde2167a": {
          "model_module": "@jupyter-widgets/controls",
          "model_name": "HTMLModel",
          "model_module_version": "1.5.0",
          "state": {
            "_view_name": "HTMLView",
            "style": "IPY_MODEL_c2fa71a8c9254123a340042684df91e2",
            "_dom_classes": [],
            "description": "",
            "_model_name": "HTMLModel",
            "placeholder": "​",
            "_view_module": "@jupyter-widgets/controls",
            "_model_module_version": "1.5.0",
            "value": " 1680/1680 [01:18&lt;00:00, 23.51ex/s]",
            "_view_count": null,
            "_view_module_version": "1.5.0",
            "description_tooltip": null,
            "_model_module": "@jupyter-widgets/controls",
            "layout": "IPY_MODEL_7e4744e7d58d4c4391863d7e9780df85"
          }
        },
        "818533bf8a904d69b4ff6719e2679e2a": {
          "model_module": "@jupyter-widgets/controls",
          "model_name": "DescriptionStyleModel",
          "model_module_version": "1.5.0",
          "state": {
            "_view_name": "StyleView",
            "_model_name": "DescriptionStyleModel",
            "description_width": "",
            "_view_module": "@jupyter-widgets/base",
            "_model_module_version": "1.5.0",
            "_view_count": null,
            "_view_module_version": "1.2.0",
            "_model_module": "@jupyter-widgets/controls"
          }
        },
        "17c9ecaf6aed4350a09b9b17cbbc93e0": {
          "model_module": "@jupyter-widgets/base",
          "model_name": "LayoutModel",
          "model_module_version": "1.2.0",
          "state": {
            "_view_name": "LayoutView",
            "grid_template_rows": null,
            "right": null,
            "justify_content": null,
            "_view_module": "@jupyter-widgets/base",
            "overflow": null,
            "_model_module_version": "1.2.0",
            "_view_count": null,
            "flex_flow": null,
            "width": null,
            "min_width": null,
            "border": null,
            "align_items": null,
            "bottom": null,
            "_model_module": "@jupyter-widgets/base",
            "top": null,
            "grid_column": null,
            "overflow_y": null,
            "overflow_x": null,
            "grid_auto_flow": null,
            "grid_area": null,
            "grid_template_columns": null,
            "flex": null,
            "_model_name": "LayoutModel",
            "justify_items": null,
            "grid_row": null,
            "max_height": null,
            "align_content": null,
            "visibility": null,
            "align_self": null,
            "height": null,
            "min_height": null,
            "padding": null,
            "grid_auto_rows": null,
            "grid_gap": null,
            "max_width": null,
            "order": null,
            "_view_module_version": "1.2.0",
            "grid_template_areas": null,
            "object_position": null,
            "object_fit": null,
            "grid_auto_columns": null,
            "margin": null,
            "display": null,
            "left": null
          }
        },
        "8a8449746a374e60bcb49f1b597120bc": {
          "model_module": "@jupyter-widgets/controls",
          "model_name": "ProgressStyleModel",
          "model_module_version": "1.5.0",
          "state": {
            "_view_name": "StyleView",
            "_model_name": "ProgressStyleModel",
            "description_width": "",
            "_view_module": "@jupyter-widgets/base",
            "_model_module_version": "1.5.0",
            "_view_count": null,
            "_view_module_version": "1.2.0",
            "bar_color": null,
            "_model_module": "@jupyter-widgets/controls"
          }
        },
        "76319b06f4ca464ba031e4709f7b860a": {
          "model_module": "@jupyter-widgets/base",
          "model_name": "LayoutModel",
          "model_module_version": "1.2.0",
          "state": {
            "_view_name": "LayoutView",
            "grid_template_rows": null,
            "right": null,
            "justify_content": null,
            "_view_module": "@jupyter-widgets/base",
            "overflow": null,
            "_model_module_version": "1.2.0",
            "_view_count": null,
            "flex_flow": null,
            "width": null,
            "min_width": null,
            "border": null,
            "align_items": null,
            "bottom": null,
            "_model_module": "@jupyter-widgets/base",
            "top": null,
            "grid_column": null,
            "overflow_y": null,
            "overflow_x": null,
            "grid_auto_flow": null,
            "grid_area": null,
            "grid_template_columns": null,
            "flex": null,
            "_model_name": "LayoutModel",
            "justify_items": null,
            "grid_row": null,
            "max_height": null,
            "align_content": null,
            "visibility": null,
            "align_self": null,
            "height": null,
            "min_height": null,
            "padding": null,
            "grid_auto_rows": null,
            "grid_gap": null,
            "max_width": null,
            "order": null,
            "_view_module_version": "1.2.0",
            "grid_template_areas": null,
            "object_position": null,
            "object_fit": null,
            "grid_auto_columns": null,
            "margin": null,
            "display": null,
            "left": null
          }
        },
        "c2fa71a8c9254123a340042684df91e2": {
          "model_module": "@jupyter-widgets/controls",
          "model_name": "DescriptionStyleModel",
          "model_module_version": "1.5.0",
          "state": {
            "_view_name": "StyleView",
            "_model_name": "DescriptionStyleModel",
            "description_width": "",
            "_view_module": "@jupyter-widgets/base",
            "_model_module_version": "1.5.0",
            "_view_count": null,
            "_view_module_version": "1.2.0",
            "_model_module": "@jupyter-widgets/controls"
          }
        },
        "7e4744e7d58d4c4391863d7e9780df85": {
          "model_module": "@jupyter-widgets/base",
          "model_name": "LayoutModel",
          "model_module_version": "1.2.0",
          "state": {
            "_view_name": "LayoutView",
            "grid_template_rows": null,
            "right": null,
            "justify_content": null,
            "_view_module": "@jupyter-widgets/base",
            "overflow": null,
            "_model_module_version": "1.2.0",
            "_view_count": null,
            "flex_flow": null,
            "width": null,
            "min_width": null,
            "border": null,
            "align_items": null,
            "bottom": null,
            "_model_module": "@jupyter-widgets/base",
            "top": null,
            "grid_column": null,
            "overflow_y": null,
            "overflow_x": null,
            "grid_auto_flow": null,
            "grid_area": null,
            "grid_template_columns": null,
            "flex": null,
            "_model_name": "LayoutModel",
            "justify_items": null,
            "grid_row": null,
            "max_height": null,
            "align_content": null,
            "visibility": null,
            "align_self": null,
            "height": null,
            "min_height": null,
            "padding": null,
            "grid_auto_rows": null,
            "grid_gap": null,
            "max_width": null,
            "order": null,
            "_view_module_version": "1.2.0",
            "grid_template_areas": null,
            "object_position": null,
            "object_fit": null,
            "grid_auto_columns": null,
            "margin": null,
            "display": null,
            "left": null
          }
        }
      }
    }
  },
  "cells": [
    {
      "cell_type": "markdown",
      "metadata": {
        "id": "LBSYoWbi-45k"
      },
      "source": [
        "# **Fine-tuning Wav2Vec2 for English ASR with 🤗 Transformers**"
      ]
    },
    {
      "cell_type": "markdown",
      "metadata": {
        "id": "V7YOT2mnUiea"
      },
      "source": [
        "Wav2Vec2 is a pretrained model for Automatic Speech Recognition (ASR) and was released in [September 2020](https://ai.facebook.com/blog/wav2vec-20-learning-the-structure-of-speech-from-raw-audio/) by Alexei Baevski, Michael Auli, and Alex Conneau.\n",
        "\n",
        "Using a novel contrastive pretraining objective, Wav2Vec2 learns powerful speech representations from more than 50.000 hours of unlabeled speech. Similar, to [BERT's masked language modeling](http://jalammar.github.io/illustrated-bert/), the model learns contextualized speech representations by randomly masking feature vectors before passing them to a transformer network.\n",
        "\n",
        "![wav2vec2_structure](https://raw.githubusercontent.com/patrickvonplaten/scientific_images/master/wav2vec2.png)\n",
        "\n",
        "For the first time, it has been shown that pretraining, followed by fine-tuning on very little labeled speech data achieves competitive results to state-of-the-art ASR systems. Using as little as 10 minutes of labeled data, Wav2Vec2 yields a word error rate (WER) of less than 5% on the clean test set of [LibriSpeech](https://huggingface.co/datasets/librispeech_asr) - *cf.* with Table 9 of the [paper](https://arxiv.org/pdf/2006.11477.pdf)."
      ]
    },
    {
      "cell_type": "markdown",
      "metadata": {
        "id": "nT_QrfWtsxIz"
      },
      "source": [
        "In this notebook, we will give an in-detail explanation of how Wav2Vec2's pretrained checkpoints can be fine-tuned on any English ASR dataset. Note that in this notebook, we will fine-tune Wav2Vec2 without making use of a language model. It is much simpler to use Wav2Vec2 without a language model as an end-to-end ASR system and it has been shown that a standalone Wav2Vec2 acoustic model achieves impressive results. For demonstration purposes, we fine-tune the \"base\"-sized [pretrained checkpoint](https://huggingface.co/facebook/wav2vec2-base) on the rather small [Timit](https://huggingface.co/datasets/timit_asr) dataset that contains just 5h of training data."
      ]
    },
    {
      "cell_type": "markdown",
      "metadata": {
        "id": "Gx9OdDYrCtQ1"
      },
      "source": [
        "Wav2Vec2 is fine-tuned using Connectionist Temporal Classification (CTC), which is an algorithm that is used to train neural networks for sequence-to-sequence problems and mainly in Automatic Speech Recognition and handwriting recognition. \n",
        "\n",
        "I highly recommend reading the blog post [Sequence Modeling with CTC (2017)](https://distill.pub/2017/ctc/) very well-written blog post by Awni Hannun."
      ]
    },
    {
      "cell_type": "markdown",
      "metadata": {
        "id": "e335hPmdtASZ"
      },
      "source": [
        "Before we start, let's install both `datasets` and `transformers` from master. Also, we need the `soundfile` package to load audio files and the `jiwer` to evaluate our fine-tuned model using the [word error rate (WER)](https://huggingface.co/metrics/wer) metric ${}^1$."
      ]
    },
    {
      "cell_type": "code",
      "metadata": {
        "id": "c8eh87Hoee5d"
      },
      "source": [
        "%%capture\n",
        "#!pip install datasets==1.8.0\n",
        "!pip install git+https://github.com/huggingface/datasets # new dataset\n",
        "!pip install transformers==4.4.0\n",
        "!pip install soundfile\n",
        "!pip install jiwer"
      ],
      "execution_count": 1,
      "outputs": []
    },
    {
      "cell_type": "markdown",
      "metadata": {
        "id": "Mn9swf6EQ9Vd"
      },
      "source": [
        "\n",
        "\n",
        "\n",
        "---\n",
        "\n",
        "${}^1$ Timit is usually evaluated using the phoneme error rate (PER), but by far the most common metric in ASR is the word error rate (WER). To keep this notebook as general as possible we decided to evaluate the model using WER."
      ]
    },
    {
      "cell_type": "markdown",
      "metadata": {
        "id": "0mW-C1Nt-j7k"
      },
      "source": [
        "## Prepare Data, Tokenizer, Feature Extractor"
      ]
    },
    {
      "cell_type": "markdown",
      "metadata": {
        "id": "BeBosnY9BH3e"
      },
      "source": [
        "ASR models transcribe speech to text, which means that we both need a feature extractor that processes the speech signal to the model's input format, *e.g.* a feature vector, and a tokenizer that processes the model's output format to text. \n",
        "\n",
        "In 🤗 Transformers, the Wav2Vec2 model is thus accompanied by both a tokenizer, called [Wav2Vec2CTCTokenizer](https://huggingface.co/transformers/master/model_doc/wav2vec2.html#wav2vec2ctctokenizer), and a feature extractor, called [Wav2Vec2FeatureExtractor](https://huggingface.co/transformers/master/model_doc/wav2vec2.html#wav2vec2featureextractor).\n",
        "\n",
        "Let's start by creating the tokenizer responsible for decoding the model's predictions."
      ]
    },
    {
      "cell_type": "markdown",
      "metadata": {
        "id": "sEXEWEJGQPqD"
      },
      "source": [
        "### Create Wav2Vec2CTCTokenizer"
      ]
    },
    {
      "cell_type": "markdown",
      "metadata": {
        "id": "tWmMikuNEKl_"
      },
      "source": [
        "The [pretrained Wav2Vec2 checkpoint]( ) maps the speech signal to a sequence of context representations as illustrated in the figure above. A fine-tuned Wav2Vec2 checkpoint needs to map this sequence of context representations to its corresponding transcription so that a linear layer has to be added on top of the transformer block (shown in yellow). This linear layer is used to classifies each context representation to a token class analogous how, *e.g.*, after pretraining a linear layer is added on top of BERT's embeddings for further classification - *cf.* with *\"BERT\"* section of this [blog post](https://huggingface.co/blog/warm-starting-encoder-decoder).\n",
        "\n",
        "The output size of this layer corresponds to the number of tokens in the vocabulary, which does **not** depend on Wav2Vec2's pretraining task, but only on the labeled dataset used for fine-tuning. So in the first step, we will take a look at Timit and define a vocabulary based on the dataset's transcriptions."
      ]
    },
    {
      "cell_type": "markdown",
      "metadata": {
        "id": "bee4g9rpLxll"
      },
      "source": [
        "Let's start by loading the dataset and taking a look at its structure."
      ]
    },
    {
      "cell_type": "code",
      "metadata": {
        "id": "2MMXcWFFgCXU",
        "colab": {
          "base_uri": "https://localhost:8080/",
          "height": 67,
          "referenced_widgets": [
            "4b02c82d1b6242a596f87050db4e0d13",
            "7226e9d79e9144e3adff733bbb053398",
            "42668dbc06694450afacfdece4c0424d",
            "5381251b020446e9b03fbc68e9ebec33",
            "abfb2ecb6ff64339ae99692b0fb1e742",
            "848816e334e3404eb7635c6131522f58",
            "4256ea8b903b43928ecf32c630db8ce2",
            "6f9f3a074b25402ab42d2b579a7b4e3a",
            "5cfb293766f7419096642dc8ba8c4252",
            "6faa658479cd48a89fc70bde3cb42b7b",
            "82e4e712a14e42789b8e21f51a171eb3"
          ]
        },
        "outputId": "4d63c8ba-62d4-457a-c74e-468132402566"
      },
      "source": [
        "from datasets import load_dataset, load_metric\n",
        "\n",
        "timit = load_dataset(\"timit_asr\")"
      ],
      "execution_count": null,
      "outputs": [
        {
          "output_type": "stream",
          "name": "stderr",
          "text": [
            "Reusing dataset timit_asr (/root/.cache/huggingface/datasets/timit_asr/clean/2.0.1/bce749dca50ede2d9692e53bf7eede501996e25b8aa318280ec9041a9f4c3057)\n"
          ]
        },
        {
          "output_type": "display_data",
          "data": {
            "application/vnd.jupyter.widget-view+json": {
              "model_id": "4b02c82d1b6242a596f87050db4e0d13",
              "version_minor": 0,
              "version_major": 2
            },
            "text/plain": [
              "  0%|          | 0/2 [00:00<?, ?it/s]"
            ]
          },
          "metadata": {}
        }
      ]
    },
    {
      "cell_type": "code",
      "metadata": {
        "colab": {
          "base_uri": "https://localhost:8080/"
        },
        "id": "QbIM-L0xdvf4",
        "outputId": "2d3d17f8-f68b-46d9-f4a2-2eb9046e6971"
      },
      "source": [
        "timit"
      ],
      "execution_count": null,
      "outputs": [
        {
          "output_type": "execute_result",
          "data": {
            "text/plain": [
              "DatasetDict({\n",
              "    train: Dataset({\n",
              "        features: ['file', 'text', 'phonetic_detail', 'word_detail', 'dialect_region', 'sentence_type', 'speaker_id', 'id'],\n",
              "        num_rows: 4620\n",
              "    })\n",
              "    test: Dataset({\n",
              "        features: ['file', 'text', 'phonetic_detail', 'word_detail', 'dialect_region', 'sentence_type', 'speaker_id', 'id'],\n",
              "        num_rows: 1680\n",
              "    })\n",
              "})"
            ]
          },
          "metadata": {},
          "execution_count": 3
        }
      ]
    },
    {
      "cell_type": "markdown",
      "metadata": {
        "id": "ri5y5N_HMANq"
      },
      "source": [
        "Many ASR datasets only provide the target text, `'text'` for each audio file `'file'`. Timit actually provides much more information about each audio file, such as the `'phonetic_detail'`, etc., which is why many researchers choose to evaluate their models on phoneme classification instead of speech recognition when working with Timit. However, we want to keep the notebook as general as possible, so that we will only consider the transcribed text for fine-tuning.\n",
        "\n"
      ]
    },
    {
      "cell_type": "code",
      "metadata": {
        "id": "kbyq6lDgQc2a"
      },
      "source": [
        "timit = timit.remove_columns([\"phonetic_detail\", \"word_detail\", \"dialect_region\", \"id\", \"sentence_type\", \"speaker_id\"])"
      ],
      "execution_count": null,
      "outputs": []
    },
    {
      "cell_type": "markdown",
      "metadata": {
        "id": "Go9Hq4e4NDT9"
      },
      "source": [
        "Let's write a short function to display some random samples of the dataset and run it a couple of times to get a feeling for the transcriptions."
      ]
    },
    {
      "cell_type": "code",
      "metadata": {
        "id": "72737oog2F6U"
      },
      "source": [
        "from datasets import ClassLabel\n",
        "import random\n",
        "import pandas as pd\n",
        "from IPython.display import display, HTML\n",
        "\n",
        "def show_random_elements(dataset, num_examples=10):\n",
        "    assert num_examples <= len(dataset), \"Can't pick more elements than there are in the dataset.\"\n",
        "    picks = []\n",
        "    for _ in range(num_examples):\n",
        "        pick = random.randint(0, len(dataset)-1)\n",
        "        while pick in picks:\n",
        "            pick = random.randint(0, len(dataset)-1)\n",
        "        picks.append(pick)\n",
        "    \n",
        "    df = pd.DataFrame(dataset[picks])\n",
        "    display(HTML(df.to_html()))"
      ],
      "execution_count": null,
      "outputs": []
    },
    {
      "cell_type": "code",
      "metadata": {
        "colab": {
          "base_uri": "https://localhost:8080/",
          "height": 669
        },
        "id": "K_JUmf3G3b9S",
        "outputId": "bf0379a3-cbfa-4571-c87a-3c5510d5b5fb"
      },
      "source": [
        "show_random_elements(timit[\"train\"].remove_columns([\"file\"]), num_examples=20)"
      ],
      "execution_count": null,
      "outputs": [
        {
          "output_type": "display_data",
          "data": {
            "text/html": [
              "<table border=\"1\" class=\"dataframe\">\n",
              "  <thead>\n",
              "    <tr style=\"text-align: right;\">\n",
              "      <th></th>\n",
              "      <th>text</th>\n",
              "    </tr>\n",
              "  </thead>\n",
              "  <tbody>\n",
              "    <tr>\n",
              "      <th>0</th>\n",
              "      <td>How on earth do you manage it?</td>\n",
              "    </tr>\n",
              "    <tr>\n",
              "      <th>1</th>\n",
              "      <td>We got drenched from the uninterrupted rain.</td>\n",
              "    </tr>\n",
              "    <tr>\n",
              "      <th>2</th>\n",
              "      <td>In earlier years, the preservation of food was essentially related to survival.</td>\n",
              "    </tr>\n",
              "    <tr>\n",
              "      <th>3</th>\n",
              "      <td>You always come up with pathological examples.</td>\n",
              "    </tr>\n",
              "    <tr>\n",
              "      <th>4</th>\n",
              "      <td>Roy ignored the spurious data points in drawing the graph.</td>\n",
              "    </tr>\n",
              "    <tr>\n",
              "      <th>5</th>\n",
              "      <td>This is our singular goal.</td>\n",
              "    </tr>\n",
              "    <tr>\n",
              "      <th>6</th>\n",
              "      <td>How would you evaluate this algebraic expression?</td>\n",
              "    </tr>\n",
              "    <tr>\n",
              "      <th>7</th>\n",
              "      <td>She had your dark suit in greasy wash water all year.</td>\n",
              "    </tr>\n",
              "    <tr>\n",
              "      <th>8</th>\n",
              "      <td>Ironically enough, in this instance such personal virtues were a luxury.</td>\n",
              "    </tr>\n",
              "    <tr>\n",
              "      <th>9</th>\n",
              "      <td>Often they are able to get in only because the area is declining economically.</td>\n",
              "    </tr>\n",
              "    <tr>\n",
              "      <th>10</th>\n",
              "      <td>Don't ask me to carry an oily rag like that.</td>\n",
              "    </tr>\n",
              "    <tr>\n",
              "      <th>11</th>\n",
              "      <td>The hallway opens into a huge chamber.</td>\n",
              "    </tr>\n",
              "    <tr>\n",
              "      <th>12</th>\n",
              "      <td>A huge tapestry hung in her hallway.</td>\n",
              "    </tr>\n",
              "    <tr>\n",
              "      <th>13</th>\n",
              "      <td>He earnestly urged a cease-fire.</td>\n",
              "    </tr>\n",
              "    <tr>\n",
              "      <th>14</th>\n",
              "      <td>Should giraffes be kept in small zoos?</td>\n",
              "    </tr>\n",
              "    <tr>\n",
              "      <th>15</th>\n",
              "      <td>Anything to do with an ace o' spades, bad luck.</td>\n",
              "    </tr>\n",
              "    <tr>\n",
              "      <th>16</th>\n",
              "      <td>Now a distinguished old man called on nine divinities to come and join us.</td>\n",
              "    </tr>\n",
              "    <tr>\n",
              "      <th>17</th>\n",
              "      <td>The government sought authorization of his citizenship.</td>\n",
              "    </tr>\n",
              "    <tr>\n",
              "      <th>18</th>\n",
              "      <td>Suddenly she was very mysterious and dramatic.</td>\n",
              "    </tr>\n",
              "    <tr>\n",
              "      <th>19</th>\n",
              "      <td>She had your dark suit in greasy wash water all year.</td>\n",
              "    </tr>\n",
              "  </tbody>\n",
              "</table>"
            ],
            "text/plain": [
              "<IPython.core.display.HTML object>"
            ]
          },
          "metadata": {}
        }
      ]
    },
    {
      "cell_type": "markdown",
      "metadata": {
        "id": "fowcOllGNNju"
      },
      "source": [
        "Alright! The transcriptions look very clean and the language seems to correspond more to written text than dialogue. This makes sense taking into account that [Timit](https://huggingface.co/datasets/timit_asr) is a read speech corpus."
      ]
    },
    {
      "cell_type": "markdown",
      "metadata": {
        "id": "vq7OR50LN49m"
      },
      "source": [
        "We can see that the transcriptions contain some special characters, such as `,.?!;:`. Without a language model, it is much harder to classify speech chunks to such special characters because they don't really correspond to a characteristic sound unit. *E.g.*, the letter `\"s\"` has a more or less clear sound, whereas the special character `\".\"` does not.\n",
        "Also in order to understand the meaning of a speech signal, it is usually not necessary to include special characters in the transcription.\n",
        "\n",
        "In addition, we normalize the text to only have lower case letters and append a word separator token at the end."
      ]
    },
    {
      "cell_type": "code",
      "metadata": {
        "id": "svKzVJ_hQGK6"
      },
      "source": [
        "import re\n",
        "chars_to_ignore_regex = '[\\,\\?\\.\\!\\-\\;\\:\\\"]'\n",
        "\n",
        "def remove_special_characters(batch):\n",
        "    batch[\"text\"] = re.sub(chars_to_ignore_regex, '', batch[\"text\"]).lower() + \" \"\n",
        "    return batch"
      ],
      "execution_count": null,
      "outputs": []
    },
    {
      "cell_type": "code",
      "metadata": {
        "colab": {
          "base_uri": "https://localhost:8080/"
        },
        "id": "XIHocAuTQbBR",
        "outputId": "120a86f3-1a62-4b5f-dba1-bed49437bf0b"
      },
      "source": [
        "timit = timit.map(remove_special_characters)"
      ],
      "execution_count": null,
      "outputs": [
        {
          "output_type": "stream",
          "name": "stderr",
          "text": [
            "Loading cached processed dataset at /root/.cache/huggingface/datasets/timit_asr/clean/2.0.1/bce749dca50ede2d9692e53bf7eede501996e25b8aa318280ec9041a9f4c3057/cache-22aeb5f2576d4808.arrow\n",
            "Loading cached processed dataset at /root/.cache/huggingface/datasets/timit_asr/clean/2.0.1/bce749dca50ede2d9692e53bf7eede501996e25b8aa318280ec9041a9f4c3057/cache-379f2244535394f4.arrow\n"
          ]
        }
      ]
    },
    {
      "cell_type": "code",
      "metadata": {
        "colab": {
          "base_uri": "https://localhost:8080/",
          "height": 359
        },
        "id": "RBDRAAYxRE6n",
        "outputId": "2c012f75-b4a8-433e-939e-71ca8d62dff8"
      },
      "source": [
        "show_random_elements(timit[\"train\"].remove_columns([\"file\"]))"
      ],
      "execution_count": null,
      "outputs": [
        {
          "output_type": "display_data",
          "data": {
            "text/html": [
              "<table border=\"1\" class=\"dataframe\">\n",
              "  <thead>\n",
              "    <tr style=\"text-align: right;\">\n",
              "      <th></th>\n",
              "      <th>text</th>\n",
              "    </tr>\n",
              "  </thead>\n",
              "  <tbody>\n",
              "    <tr>\n",
              "      <th>0</th>\n",
              "      <td>be careful not to plow over the flower beds</td>\n",
              "    </tr>\n",
              "    <tr>\n",
              "      <th>1</th>\n",
              "      <td>an official deadline cannot be postponed</td>\n",
              "    </tr>\n",
              "    <tr>\n",
              "      <th>2</th>\n",
              "      <td>you can build this vacation cottage yourself</td>\n",
              "    </tr>\n",
              "    <tr>\n",
              "      <th>3</th>\n",
              "      <td>he holds that goodness and badness lie in feelings of approval or disapproval</td>\n",
              "    </tr>\n",
              "    <tr>\n",
              "      <th>4</th>\n",
              "      <td>the avalanche triggered a minor earthquake</td>\n",
              "    </tr>\n",
              "    <tr>\n",
              "      <th>5</th>\n",
              "      <td>then came coconuts eggs and rice wine</td>\n",
              "    </tr>\n",
              "    <tr>\n",
              "      <th>6</th>\n",
              "      <td>the local drugstore was charged with illegally dispensing tranquilizers</td>\n",
              "    </tr>\n",
              "    <tr>\n",
              "      <th>7</th>\n",
              "      <td>who took the kayak down the bayou</td>\n",
              "    </tr>\n",
              "    <tr>\n",
              "      <th>8</th>\n",
              "      <td>as such it acts as an anchor for the people</td>\n",
              "    </tr>\n",
              "    <tr>\n",
              "      <th>9</th>\n",
              "      <td>she had your dark suit in greasy wash water all year</td>\n",
              "    </tr>\n",
              "  </tbody>\n",
              "</table>"
            ],
            "text/plain": [
              "<IPython.core.display.HTML object>"
            ]
          },
          "metadata": {}
        }
      ]
    },
    {
      "cell_type": "code",
      "metadata": {
        "colab": {
          "base_uri": "https://localhost:8080/"
        },
        "id": "PVXLVqXby0xl",
        "outputId": "4e23dc4e-3710-4386-cf6a-a40f3da67dd5"
      },
      "source": [
        "timit['train']['target_text'][:5]"
      ],
      "execution_count": null,
      "outputs": [
        {
          "output_type": "execute_result",
          "data": {
            "text/plain": [
              "['would such an act of refusal be useful ',\n",
              " \"don't ask me to carry an oily rag like that \",\n",
              " 'butterscotch fudge goes well with vanilla ice cream ',\n",
              " 'she had your dark suit in greasy wash water all year ',\n",
              " 'i honor my mom ']"
            ]
          },
          "metadata": {},
          "execution_count": 175
        }
      ]
    },
    {
      "cell_type": "markdown",
      "metadata": {
        "id": "jwfaptH5RJwA"
      },
      "source": [
        "Good! This looks better. We have removed most special characters from transcriptions and normalized them to lower-case only.\n",
        "\n",
        "In CTC, it is common to classify speech chunks into letters, so we will do the same here. \n",
        "Let's extract all distinct letters of the training and test data and build our vocabulary from this set of letters.\n",
        "\n",
        "We write a mapping function that concatenates all transcriptions into one long transcription and then transforms the string into a set of chars. \n",
        "It is important to pass the argument `batched=True` to the `map(...)` function so that the mapping function has access to all transcriptions at once."
      ]
    },
    {
      "cell_type": "code",
      "metadata": {
        "id": "LwCshNbbeRZR"
      },
      "source": [
        "def extract_all_chars(batch):\n",
        "  all_text = \" \".join(batch[\"text\"])\n",
        "  vocab = list(set(all_text))\n",
        "  return {\"vocab\": [vocab], \"all_text\": [all_text]}"
      ],
      "execution_count": null,
      "outputs": []
    },
    {
      "cell_type": "code",
      "metadata": {
        "colab": {
          "base_uri": "https://localhost:8080/",
          "height": 81,
          "referenced_widgets": [
            "716e3323ef254a879104ab60fba84dd0",
            "3947ffe38d3b4642a509c6c2a0a89c82",
            "f1240b519e924120bd95e93185b656e7",
            "f36b1399b1c04e7596b076352a7955fe",
            "63493aa303c840b1a512061ef5bd393e",
            "a301260b1dfa47db9fc44dcfa18a933a",
            "995433a4adab4c64b30068a7b5eb69c3",
            "4a6dcd7860f2435da348e6e5721aef0c",
            "fcb9adb3a09c410387f0bba3a550828a",
            "66002006d72545ca8b8be876b8dc5fcd",
            "73ca0e8eebce4b68a3aff76febc68655",
            "96dd4ac4b331463c887e9e92a9b25aa7",
            "d8e9d5f094c8467cb81945db5a26be72",
            "aace449e260b42ac9a642bb3d1838931",
            "a271d9eba38b4495a309b2176e36bab3",
            "0e3f9e6dea5f4cecb148cad430ef22cd",
            "175438e5f6aa49ba9918b72d55018abc",
            "6d9e9ca282e74ec8aad6d110b3d76c4e",
            "7e33add4747148859a3119ed9d857e50",
            "cbb09eb1114f4debabb5873c2befa20d",
            "e32014f7024547d69060ff5aa86ee04a",
            "b8ba4d2450664682acbd3ae65dc39f46"
          ]
        },
        "id": "_m6uUjjcfbjH",
        "outputId": "43cd3308-360e-44ba-a78f-3194e74c88f7"
      },
      "source": [
        "vocabs = timit.map(extract_all_chars, batched=True, batch_size=-1, keep_in_memory=True, remove_columns=timit.column_names[\"train\"])"
      ],
      "execution_count": null,
      "outputs": [
        {
          "output_type": "display_data",
          "data": {
            "application/vnd.jupyter.widget-view+json": {
              "model_id": "716e3323ef254a879104ab60fba84dd0",
              "version_minor": 0,
              "version_major": 2
            },
            "text/plain": [
              "  0%|          | 0/1 [00:00<?, ?ba/s]"
            ]
          },
          "metadata": {}
        },
        {
          "output_type": "display_data",
          "data": {
            "application/vnd.jupyter.widget-view+json": {
              "model_id": "96dd4ac4b331463c887e9e92a9b25aa7",
              "version_minor": 0,
              "version_major": 2
            },
            "text/plain": [
              "  0%|          | 0/1 [00:00<?, ?ba/s]"
            ]
          },
          "metadata": {}
        }
      ]
    },
    {
      "cell_type": "markdown",
      "metadata": {
        "id": "7oVgE8RZSJNP"
      },
      "source": [
        "Now, we create the union of all distinct letters in the training dataset and test dataset and convert the resulting list into an enumerated dictionary."
      ]
    },
    {
      "cell_type": "code",
      "metadata": {
        "id": "aQfneNsmlJI0"
      },
      "source": [
        "vocab_list = list(set(vocabs[\"train\"][\"vocab\"][0]) | set(vocabs[\"test\"][\"vocab\"][0]))"
      ],
      "execution_count": null,
      "outputs": []
    },
    {
      "cell_type": "code",
      "metadata": {
        "id": "_0kRndSvqaKk"
      },
      "source": [
        "vocab_dict = {v: k for k, v in enumerate(vocab_list)}\n",
        "vocab_dict"
      ],
      "execution_count": null,
      "outputs": []
    },
    {
      "cell_type": "code",
      "metadata": {
        "id": "iyAnmSQyoUig"
      },
      "source": [
        "vocab_dict_2 = {v: k for k, v in enumerate(vocab)}\n",
        "vocab_dict_2"
      ],
      "execution_count": null,
      "outputs": []
    },
    {
      "cell_type": "markdown",
      "metadata": {
        "id": "JOSzbvs9SXT1"
      },
      "source": [
        "Cool, we see that all letters of the alphabet occur in the dataset (which is not really surprising) and we also extracted the special characters `\" \"` and `'`. Note that we did not exclude those special characters because: \n",
        "\n",
        "- The model has to learn to predict when a word finished or else the model prediction would always be a sequence of chars which would make it impossible to separate words from each other.\n",
        "- In English, we need to keep the `'` character to differentiate between words, *e.g.*, `\"it's\"` and `\"its\"` which have very different meanings."
      ]
    },
    {
      "cell_type": "markdown",
      "metadata": {
        "id": "b1fBRCn-TRaO"
      },
      "source": [
        "To make it clearer that `\" \"` has its own token class, we give it a more visible character `|`. In addition, we also add an \"unknown\" token so that the model can later deal with characters not encountered in Timit's training set. \n",
        "\n",
        "Finally, we also add a padding token that corresponds to CTC's \"*blank token*\". The \"blank token\" is a core component of the CTC algorithm. For more information, please take a look at the \"Alignment\" section [here](https://distill.pub/2017/ctc/)."
      ]
    },
    {
      "cell_type": "code",
      "metadata": {
        "id": "npbIbBoLgaFX"
      },
      "source": [
        "vocab_dict[\"|\"] = vocab_dict[\" \"]\n",
        "del vocab_dict[\" \"]"
      ],
      "execution_count": null,
      "outputs": []
    },
    {
      "cell_type": "code",
      "metadata": {
        "id": "znF0bNunsjbl",
        "colab": {
          "base_uri": "https://localhost:8080/"
        },
        "outputId": "a8358f2c-a48f-4d7f-cc02-e2644920863c"
      },
      "source": [
        "vocab_dict[\"[UNK]\"] = len(vocab_dict)\n",
        "vocab_dict[\"[PAD]\"] = len(vocab_dict)\n",
        "len(vocab_dict)"
      ],
      "execution_count": null,
      "outputs": [
        {
          "output_type": "execute_result",
          "data": {
            "text/plain": [
              "30"
            ]
          },
          "metadata": {},
          "execution_count": 16
        }
      ]
    },
    {
      "cell_type": "markdown",
      "metadata": {
        "id": "SFPGfet8U5sL"
      },
      "source": [
        "Cool, now our vocabulary is complete and consists of 30 tokens, which means that the linear layer that we will add on top of the pretrained Wav2Vec2 checkpoint will have an output dimension of 30."
      ]
    },
    {
      "cell_type": "markdown",
      "metadata": {
        "id": "1CujRgBNVRaD"
      },
      "source": [
        "Let's now save the vocabulary as a json file."
      ]
    },
    {
      "cell_type": "code",
      "metadata": {
        "id": "ehyUoh9vk191"
      },
      "source": [
        "import json\n",
        "with open('vocab.json', 'w') as vocab_file:\n",
        "    json.dump(vocab_dict, vocab_file)"
      ],
      "execution_count": null,
      "outputs": []
    },
    {
      "cell_type": "markdown",
      "metadata": {
        "id": "SHJDaKlIVVim"
      },
      "source": [
        "In a final step, we use the json file to instantiate an object of the `Wav2Vec2CTCTokenizer` class."
      ]
    },
    {
      "cell_type": "code",
      "metadata": {
        "id": "xriFGEWQkO4M",
        "colab": {
          "base_uri": "https://localhost:8080/",
          "height": 352
        },
        "outputId": "9246b2f5-3e1c-4ccc-b0e4-e8b3318b58dd"
      },
      "source": [
        "from transformers import Wav2Vec2CTCTokenizer\n",
        "\n",
        "tokenizer = Wav2Vec2CTCTokenizer(\"./vocab.json\", unk_token=\"[UNK]\", pad_token=\"[PAD]\", word_delimiter_token=\"|\")"
      ],
      "execution_count": null,
      "outputs": [
        {
          "output_type": "error",
          "ename": "FileNotFoundError",
          "evalue": "ignored",
          "traceback": [
            "\u001b[0;31m---------------------------------------------------------------------------\u001b[0m",
            "\u001b[0;31mFileNotFoundError\u001b[0m                         Traceback (most recent call last)",
            "\u001b[0;32m<ipython-input-20-04b40ad445e2>\u001b[0m in \u001b[0;36m<module>\u001b[0;34m()\u001b[0m\n\u001b[1;32m      1\u001b[0m \u001b[0;32mfrom\u001b[0m \u001b[0mtransformers\u001b[0m \u001b[0;32mimport\u001b[0m \u001b[0mWav2Vec2CTCTokenizer\u001b[0m\u001b[0;34m\u001b[0m\u001b[0;34m\u001b[0m\u001b[0m\n\u001b[1;32m      2\u001b[0m \u001b[0;34m\u001b[0m\u001b[0m\n\u001b[0;32m----> 3\u001b[0;31m \u001b[0mtokenizer\u001b[0m \u001b[0;34m=\u001b[0m \u001b[0mWav2Vec2CTCTokenizer\u001b[0m\u001b[0;34m(\u001b[0m\u001b[0;34m\"./vocab.json\"\u001b[0m\u001b[0;34m,\u001b[0m \u001b[0munk_token\u001b[0m\u001b[0;34m=\u001b[0m\u001b[0;34m\"[UNK]\"\u001b[0m\u001b[0;34m,\u001b[0m \u001b[0mpad_token\u001b[0m\u001b[0;34m=\u001b[0m\u001b[0;34m\"[PAD]\"\u001b[0m\u001b[0;34m,\u001b[0m \u001b[0mword_delimiter_token\u001b[0m\u001b[0;34m=\u001b[0m\u001b[0;34m\"|\"\u001b[0m\u001b[0;34m)\u001b[0m\u001b[0;34m\u001b[0m\u001b[0;34m\u001b[0m\u001b[0m\n\u001b[0m",
            "\u001b[0;32m/usr/local/lib/python3.7/dist-packages/transformers/models/wav2vec2/tokenization_wav2vec2.py\u001b[0m in \u001b[0;36m__init__\u001b[0;34m(self, vocab_file, bos_token, eos_token, unk_token, pad_token, word_delimiter_token, do_lower_case, **kwargs)\u001b[0m\n\u001b[1;32m    139\u001b[0m         \u001b[0mself\u001b[0m\u001b[0;34m.\u001b[0m\u001b[0mdo_lower_case\u001b[0m \u001b[0;34m=\u001b[0m \u001b[0mdo_lower_case\u001b[0m\u001b[0;34m\u001b[0m\u001b[0;34m\u001b[0m\u001b[0m\n\u001b[1;32m    140\u001b[0m \u001b[0;34m\u001b[0m\u001b[0m\n\u001b[0;32m--> 141\u001b[0;31m         \u001b[0;32mwith\u001b[0m \u001b[0mopen\u001b[0m\u001b[0;34m(\u001b[0m\u001b[0mvocab_file\u001b[0m\u001b[0;34m,\u001b[0m \u001b[0mencoding\u001b[0m\u001b[0;34m=\u001b[0m\u001b[0;34m\"utf-8\"\u001b[0m\u001b[0;34m)\u001b[0m \u001b[0;32mas\u001b[0m \u001b[0mvocab_handle\u001b[0m\u001b[0;34m:\u001b[0m\u001b[0;34m\u001b[0m\u001b[0;34m\u001b[0m\u001b[0m\n\u001b[0m\u001b[1;32m    142\u001b[0m             \u001b[0mself\u001b[0m\u001b[0;34m.\u001b[0m\u001b[0mencoder\u001b[0m \u001b[0;34m=\u001b[0m \u001b[0mjson\u001b[0m\u001b[0;34m.\u001b[0m\u001b[0mload\u001b[0m\u001b[0;34m(\u001b[0m\u001b[0mvocab_handle\u001b[0m\u001b[0;34m)\u001b[0m\u001b[0;34m\u001b[0m\u001b[0;34m\u001b[0m\u001b[0m\n\u001b[1;32m    143\u001b[0m         \u001b[0mself\u001b[0m\u001b[0;34m.\u001b[0m\u001b[0mdecoder\u001b[0m \u001b[0;34m=\u001b[0m \u001b[0;34m{\u001b[0m\u001b[0mv\u001b[0m\u001b[0;34m:\u001b[0m \u001b[0mk\u001b[0m \u001b[0;32mfor\u001b[0m \u001b[0mk\u001b[0m\u001b[0;34m,\u001b[0m \u001b[0mv\u001b[0m \u001b[0;32min\u001b[0m \u001b[0mself\u001b[0m\u001b[0;34m.\u001b[0m\u001b[0mencoder\u001b[0m\u001b[0;34m.\u001b[0m\u001b[0mitems\u001b[0m\u001b[0;34m(\u001b[0m\u001b[0;34m)\u001b[0m\u001b[0;34m}\u001b[0m\u001b[0;34m\u001b[0m\u001b[0;34m\u001b[0m\u001b[0m\n",
            "\u001b[0;31mFileNotFoundError\u001b[0m: [Errno 2] No such file or directory: './vocab.json'"
          ]
        }
      ]
    },
    {
      "cell_type": "markdown",
      "metadata": {
        "id": "KvL12DrNV4cx"
      },
      "source": [
        "Next, we will create the feature extractor."
      ]
    },
    {
      "cell_type": "markdown",
      "metadata": {
        "id": "mYcIiR2FQ96i"
      },
      "source": [
        "### Create Wav2Vec2 Feature Extractor"
      ]
    },
    {
      "cell_type": "markdown",
      "metadata": {
        "id": "Y6mDEyW719rx"
      },
      "source": [
        "Speech is a continuous signal and to be treated by computers, it first has to be discretized, which is usually called **sampling**. The sampling rate hereby plays an important role in that it defines how many data points of the speech signal are measured per second. Therefore, sampling with a higher sampling rate results in a better approximation of the *real* speech signal but also necessitates more values per second.\n",
        "\n",
        "A pretrained checkpoint expects its input data to have been sampled more or less from the same distribution as the data it was trained on. The same speech signals sampled at two different rates have a very different distribution, *e.g.*, doubling the sampling rate results in data points being twice as long. Thus, \n",
        "before fine-tuning a pretrained checkpoint of an ASR model, it is crucial to verify that the sampling rate of the data that was used to pretrain the model matches the sampling rate of the dataset used to fine-tune the model.\n",
        "\n",
        "Wav2Vec2 was pretrained on the audio data of [LibriSpeech](https://huggingface.co/datasets/librispeech_asr) and LibriVox which both were sampling with 16kHz. Our fine-tuning dataset, [Timit](hhtps://huggingface.co/datasets/timit_asr), was luckily also sampled with 16kHz. If the fine-tuning dataset would have been sampled with a rate lower or higher than 16kHz, we first would have had to up or downsample the speech signal to match the sampling rate of the data used for pretraining. \n",
        "\n"
      ]
    },
    {
      "cell_type": "markdown",
      "metadata": {
        "id": "KuUbPW7oV-B5"
      },
      "source": [
        "A Wav2Vec2 feature extractor object requires the following parameters to be instantiated:\n",
        "\n",
        "- `feature_size`: Speech models take a sequence of feature vectors as an input. While the length of this sequence obviously varies, the feature size should not. In the case of Wav2Vec2, the feature size is 1 because the model was trained on the raw speech signal ${}^2$.\n",
        "- `sampling_rate`: The sampling rate at which the model is trained on.\n",
        "- `padding_value`: For batched inference, shorter inputs need to be padded with a specific value\n",
        "- `do_normalize`: Whether the input should be *zero-mean-unit-variance* normalized or not. Usually, speech models perform better when normalizing the input\n",
        "- `return_attention_mask`: Whether the model should make use of an `attention_mask` for batched inference. In general, models should **always** make use of the `attention_mask` to mask padded tokens. However, due to a very specific design choice of `Wav2Vec2`'s \"base\" checkpoint, better results are achieved when using no `attention_mask`. This is **not** recommended for other speech models. For more information, one can take a look at [this](https://github.com/pytorch/fairseq/issues/3227) issue. **Important** If you want to use this notebook to fine-tune [large-lv60](https://huggingface.co/facebook/wav2vec2-large-lv60), this parameter should be set to `True`."
      ]
    },
    {
      "cell_type": "code",
      "metadata": {
        "id": "kAR0-2KLkopp"
      },
      "source": [
        "from transformers import Wav2Vec2FeatureExtractor\n",
        "\n",
        "feature_extractor = Wav2Vec2FeatureExtractor(feature_size=1, sampling_rate=16000, padding_value=0.0, do_normalize=True, return_attention_mask=False)"
      ],
      "execution_count": null,
      "outputs": []
    },
    {
      "cell_type": "markdown",
      "metadata": {
        "id": "qUETetgqYC3W"
      },
      "source": [
        "Great, Wav2Vec2's feature extraction pipeline is thereby fully defined!\n",
        "\n",
        "To make the usage of Wav2Vec2 as user-friendly as possible, the feature extractor and tokenizer are *wrapped* into a single `Wav2Vec2Processor` class so that one only needs a `model` and `processor` object."
      ]
    },
    {
      "cell_type": "code",
      "metadata": {
        "id": "KYZtoW-tlZgl"
      },
      "source": [
        "from transformers import Wav2Vec2Processor\n",
        "\n",
        "processor = Wav2Vec2Processor(feature_extractor=feature_extractor, tokenizer=tokenizer)"
      ],
      "execution_count": null,
      "outputs": []
    },
    {
      "cell_type": "markdown",
      "metadata": {
        "id": "fTfFDSS0YfMN"
      },
      "source": [
        "If one wants to re-use the just created processor and the fine-tuned model of this notebook, one can mount his/her google drive to the notebook and save all relevant files there. To do so, please uncomment the following lines. \n",
        "\n",
        "We will give the fine-tuned model the name `\"wav2vec2-base-timit-demo\"`."
      ]
    },
    {
      "cell_type": "code",
      "metadata": {
        "id": "Par9rpypPsml"
      },
      "source": [
        "processor.save_pretrained(\"/content/drive/MyDrive/korean_english/files/wav2vec2-base-timit-demo\")"
      ],
      "execution_count": null,
      "outputs": []
    },
    {
      "cell_type": "markdown",
      "metadata": {
        "id": "DrKnYuvDIoOO"
      },
      "source": [
        "Next, we can prepare the dataset."
      ]
    },
    {
      "cell_type": "markdown",
      "metadata": {
        "id": "YFmShnl7RE35"
      },
      "source": [
        "### Preprocess Data\n",
        "\n",
        "So far, we have not looked at the actual values of the speech signal but just kept the path to its file in the dataset. `Wav2Vec2` expects the audio file in the format of a 1-dimensional array, so in the first step, let's load all audio files into the dataset object.\n",
        "\n",
        "Let's first check the serialization format of the downloaded audio files by looking at the first training sample."
      ]
    },
    {
      "cell_type": "code",
      "metadata": {
        "colab": {
          "base_uri": "https://localhost:8080/"
        },
        "id": "TTCS7W6XJ9BG",
        "outputId": "2f56e174-1d40-4e65-8810-9bbcf97628ea"
      },
      "source": [
        "timit[\"train\"][0]"
      ],
      "execution_count": null,
      "outputs": [
        {
          "output_type": "execute_result",
          "data": {
            "text/plain": [
              "{'file': '/root/.cache/huggingface/datasets/downloads/extracted/404950a46da14eac65eb4e2a8317b1372fb3971d980d91d5d5b221275b1fd7e0/data/TRAIN/DR4/MMDM0/SI681.WAV',\n",
              " 'text': 'would such an act of refusal be useful '}"
            ]
          },
          "metadata": {},
          "execution_count": 25
        }
      ]
    },
    {
      "cell_type": "markdown",
      "metadata": {
        "id": "wSBIGEiaKHMn"
      },
      "source": [
        "Alright, the audio file is saved in the `.WAV` format. There are a couple of python-based libraries to read and process audio files, such as [librosa](https://github.com/librosa/librosa), [soundfile](https://github.com/bastibe/python-soundfile), and [audioread](https://github.com/beetbox/audioread). \n",
        "\n",
        "`librosa` seems to be the most active and prominent library, but since it depends on `soundfile` for loading of audio files, we will just use `soundfile` directly in this notebook.\n",
        "\n",
        "An audio file usually stores both its values and the sampling rate with which the speech signal was digitalized. We want to store both in the dataset and write a `map(...)` function accordingly."
      ]
    },
    {
      "cell_type": "code",
      "metadata": {
        "id": "al9Luo4LPpwJ"
      },
      "source": [
        "import soundfile as sf\n",
        "\n",
        "def speech_file_to_array_fn(batch):\n",
        "    speech_array, sampling_rate = sf.read(batch[\"file\"])\n",
        "    batch[\"speech\"] = speech_array\n",
        "    batch[\"sampling_rate\"] = sampling_rate\n",
        "    batch[\"target_text\"] = batch[\"text\"]\n",
        "    return batch"
      ],
      "execution_count": null,
      "outputs": []
    },
    {
      "cell_type": "code",
      "metadata": {
        "id": "afeicUeWlrRL",
        "colab": {
          "base_uri": "https://localhost:8080/"
        },
        "outputId": "a084fc16-c711-4ca9-a2a9-6bec5ec3d2c7"
      },
      "source": [
        "timit = timit.map(speech_file_to_array_fn, remove_columns=timit.column_names[\"train\"], num_proc=4)"
      ],
      "execution_count": null,
      "outputs": [
        {
          "output_type": "stream",
          "name": "stderr",
          "text": [
            "Loading cached processed dataset at /root/.cache/huggingface/datasets/timit_asr/clean/2.0.1/bce749dca50ede2d9692e53bf7eede501996e25b8aa318280ec9041a9f4c3057/cache-d4d19164ee9ac15f.arrow\n",
            "Loading cached processed dataset at /root/.cache/huggingface/datasets/timit_asr/clean/2.0.1/bce749dca50ede2d9692e53bf7eede501996e25b8aa318280ec9041a9f4c3057/cache-ac67ac1bc40a9533.arrow\n",
            "Loading cached processed dataset at /root/.cache/huggingface/datasets/timit_asr/clean/2.0.1/bce749dca50ede2d9692e53bf7eede501996e25b8aa318280ec9041a9f4c3057/cache-34415ffd14ac4c04.arrow\n",
            "Loading cached processed dataset at /root/.cache/huggingface/datasets/timit_asr/clean/2.0.1/bce749dca50ede2d9692e53bf7eede501996e25b8aa318280ec9041a9f4c3057/cache-eeb448fe46f63738.arrow\n",
            "Loading cached processed dataset at /root/.cache/huggingface/datasets/timit_asr/clean/2.0.1/bce749dca50ede2d9692e53bf7eede501996e25b8aa318280ec9041a9f4c3057/cache-63133884bc68c2e8.arrow\n",
            "Loading cached processed dataset at /root/.cache/huggingface/datasets/timit_asr/clean/2.0.1/bce749dca50ede2d9692e53bf7eede501996e25b8aa318280ec9041a9f4c3057/cache-4aabdfdf8bec5432.arrow\n",
            "Loading cached processed dataset at /root/.cache/huggingface/datasets/timit_asr/clean/2.0.1/bce749dca50ede2d9692e53bf7eede501996e25b8aa318280ec9041a9f4c3057/cache-fd687fd08147e206.arrow\n",
            "Loading cached processed dataset at /root/.cache/huggingface/datasets/timit_asr/clean/2.0.1/bce749dca50ede2d9692e53bf7eede501996e25b8aa318280ec9041a9f4c3057/cache-b067324f93c0f7b1.arrow\n"
          ]
        }
      ]
    },
    {
      "cell_type": "code",
      "metadata": {
        "colab": {
          "base_uri": "https://localhost:8080/"
        },
        "id": "yhOKJb1nVFim",
        "outputId": "35bda4c0-a318-4483-8399-8cb2052b9f52"
      },
      "source": [
        "timit['train']['sampling_rate'][0]"
      ],
      "execution_count": null,
      "outputs": [
        {
          "output_type": "execute_result",
          "data": {
            "text/plain": [
              "16000"
            ]
          },
          "metadata": {},
          "execution_count": 38
        }
      ]
    },
    {
      "cell_type": "markdown",
      "metadata": {
        "id": "SOckzFd4Mbzq"
      },
      "source": [
        "Great, let's listen to a couple of audio files to better understand the dataset and verify that the audio was correctly loaded. \n",
        "\n",
        "**Note**: *You can click the following cell a couple of times to listen to different speech samples.*"
      ]
    },
    {
      "cell_type": "code",
      "metadata": {
        "colab": {
          "base_uri": "https://localhost:8080/",
          "height": 74
        },
        "id": "dueM6U7Ev0OA",
        "outputId": "15d2021f-4559-44b6-fe90-35c6ffafef75"
      },
      "source": [
        "import IPython.display as ipd\n",
        "import numpy as np\n",
        "import random\n",
        "\n",
        "rand_int = random.randint(0, len(timit[\"train\"]))\n",
        "\n",
        "ipd.Audio(data=np.asarray(timit[\"train\"][rand_int][\"speech\"]), autoplay=True, rate=16000)"
      ],
      "execution_count": null,
      "outputs": [
        {
          "output_type": "execute_result",
          "data": {
            "text/html": [
              "\n",
              "                <audio controls=\"controls\" autoplay=\"autoplay\">\n",
              "                    <source src=\"data:audio/wav;base64,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\" type=\"audio/wav\" />\n",
              "                    Your browser does not support the audio element.\n",
              "                </audio>\n",
              "              "
            ],
            "text/plain": [
              "<IPython.lib.display.Audio object>"
            ]
          },
          "metadata": {},
          "execution_count": 55
        }
      ]
    },
    {
      "cell_type": "markdown",
      "metadata": {
        "id": "1MaL9J2dNVtG"
      },
      "source": [
        "It can be heard, that the speakers change along with their speaking rate, accent, etc. Overall, the recordings sound relatively clear though, which is to be expected from a read speech corpus.\n",
        "\n",
        "Let's do a final check that the data is correctly prepared, but printing the shape of the speech input, its transcription, and the corresponding sampling rate.\n",
        "\n",
        "**Note**: *You can click the following cell a couple of times to verify multiple samples.*"
      ]
    },
    {
      "cell_type": "code",
      "metadata": {
        "colab": {
          "base_uri": "https://localhost:8080/"
        },
        "id": "1Po2g7YPuRTx",
        "outputId": "54211aa5-f669-46ea-d25f-6e21f0934240"
      },
      "source": [
        "rand_int = random.randint(0, len(timit[\"train\"]))\n",
        "\n",
        "print(\"Target text:\", timit[\"train\"][rand_int][\"target_text\"])\n",
        "print(\"Input array shape:\", np.asarray(timit[\"train\"][rand_int][\"speech\"]).shape)\n",
        "print(\"Sampling rate:\", timit[\"train\"][rand_int][\"sampling_rate\"])"
      ],
      "execution_count": null,
      "outputs": [
        {
          "output_type": "stream",
          "name": "stdout",
          "text": [
            "Target text: publicity and notoriety go hand in hand \n",
            "Input array shape: (46285,)\n",
            "Sampling rate: 16000\n"
          ]
        }
      ]
    },
    {
      "cell_type": "markdown",
      "metadata": {
        "id": "M9teZcSwOBJ4"
      },
      "source": [
        "Good! Everything looks fine - the data is a 1-dimensional array, the sampling rate always corresponds to 16kHz, and the target text is normalized."
      ]
    },
    {
      "cell_type": "markdown",
      "metadata": {
        "id": "k3Pbn5WvOYZF"
      },
      "source": [
        "Finally, we can process the dataset to the format expected by the model for training. We will again make use of the `map(...)` function.\n",
        "\n",
        "First, we check that all data samples have the same sampling rate (of 16kHz).\n",
        "Second, we extract the `input_values` from the loaded audio file. In our case, this includes only normalization, but for other speech models, this step could correspond to extracting, *e.g.* [Log-Mel features](https://en.wikipedia.org/wiki/Mel-frequency_cepstrum). \n",
        "Third, we encode the transcriptions to label ids.\n",
        "\n",
        "**Note**: This mapping function is a good example of how the `Wav2Vec2Processor` class should be used. In \"normal\" context, calling `processor(...)` is redirected to `Wav2Vec2FeatureExtractor`'s call method. When wrapping the processor into the `as_target_processor` context, however, the same method is redirected to `Wav2Vec2CTCTokenizer`'s call method.\n",
        "For more information please check the [docs](https://huggingface.co/transformers/master/model_doc/wav2vec2.html#transformers.Wav2Vec2Processor.__call__)."
      ]
    },
    {
      "cell_type": "code",
      "metadata": {
        "id": "eJY7I0XAwe9p"
      },
      "source": [
        "def prepare_dataset(batch):\n",
        "    # check that all files have the correct sampling rate\n",
        "    assert (\n",
        "        len(set(batch[\"sampling_rate\"])) == 1\n",
        "    ), f\"Make sure all inputs have the same sampling rate of {processor.feature_extractor.sampling_rate}.\"\n",
        "\n",
        "    batch[\"input_values\"] = processor(batch[\"speech\"], sampling_rate=batch[\"sampling_rate\"][0]).input_values\n",
        "    \n",
        "    with processor.as_target_processor():\n",
        "        batch[\"labels\"] = processor(batch[\"target_text\"]).input_ids\n",
        "    return batch"
      ],
      "execution_count": null,
      "outputs": []
    },
    {
      "cell_type": "code",
      "metadata": {
        "id": "-np9xYK-wl8q",
        "colab": {
          "base_uri": "https://localhost:8080/"
        },
        "outputId": "27346d91-6bc9-4192-913b-56af6693de53"
      },
      "source": [
        "timit_prepared = timit.map(prepare_dataset, remove_columns=timit.column_names[\"train\"], batch_size=8, num_proc=4, batched=True)"
      ],
      "execution_count": null,
      "outputs": [
        {
          "output_type": "stream",
          "name": "stderr",
          "text": [
            "/usr/local/lib/python3.7/dist-packages/numpy/core/_asarray.py:83: VisibleDeprecationWarning: Creating an ndarray from ragged nested sequences (which is a list-or-tuple of lists-or-tuples-or ndarrays with different lengths or shapes) is deprecated. If you meant to do this, you must specify 'dtype=object' when creating the ndarray\n",
            "  return array(a, dtype, copy=False, order=order)\n",
            "/usr/local/lib/python3.7/dist-packages/numpy/core/_asarray.py:83: VisibleDeprecationWarning: Creating an ndarray from ragged nested sequences (which is a list-or-tuple of lists-or-tuples-or ndarrays with different lengths or shapes) is deprecated. If you meant to do this, you must specify 'dtype=object' when creating the ndarray\n",
            "  return array(a, dtype, copy=False, order=order)\n",
            "/usr/local/lib/python3.7/dist-packages/numpy/core/_asarray.py:83: VisibleDeprecationWarning: Creating an ndarray from ragged nested sequences (which is a list-or-tuple of lists-or-tuples-or ndarrays with different lengths or shapes) is deprecated. If you meant to do this, you must specify 'dtype=object' when creating the ndarray\n",
            "  return array(a, dtype, copy=False, order=order)\n",
            "/usr/local/lib/python3.7/dist-packages/numpy/core/_asarray.py:83: VisibleDeprecationWarning: Creating an ndarray from ragged nested sequences (which is a list-or-tuple of lists-or-tuples-or ndarrays with different lengths or shapes) is deprecated. If you meant to do this, you must specify 'dtype=object' when creating the ndarray\n",
            "  return array(a, dtype, copy=False, order=order)\n",
            "/usr/local/lib/python3.7/dist-packages/numpy/core/_asarray.py:83: VisibleDeprecationWarning: Creating an ndarray from ragged nested sequences (which is a list-or-tuple of lists-or-tuples-or ndarrays with different lengths or shapes) is deprecated. If you meant to do this, you must specify 'dtype=object' when creating the ndarray\n",
            "  return array(a, dtype, copy=False, order=order)\n",
            "/usr/local/lib/python3.7/dist-packages/numpy/core/_asarray.py:83: VisibleDeprecationWarning: Creating an ndarray from ragged nested sequences (which is a list-or-tuple of lists-or-tuples-or ndarrays with different lengths or shapes) is deprecated. If you meant to do this, you must specify 'dtype=object' when creating the ndarray\n",
            "  return array(a, dtype, copy=False, order=order)\n",
            "/usr/local/lib/python3.7/dist-packages/numpy/core/_asarray.py:83: VisibleDeprecationWarning: Creating an ndarray from ragged nested sequences (which is a list-or-tuple of lists-or-tuples-or ndarrays with different lengths or shapes) is deprecated. If you meant to do this, you must specify 'dtype=object' when creating the ndarray\n",
            "  return array(a, dtype, copy=False, order=order)\n",
            "/usr/local/lib/python3.7/dist-packages/numpy/core/_asarray.py:83: VisibleDeprecationWarning: Creating an ndarray from ragged nested sequences (which is a list-or-tuple of lists-or-tuples-or ndarrays with different lengths or shapes) is deprecated. If you meant to do this, you must specify 'dtype=object' when creating the ndarray\n",
            "  return array(a, dtype, copy=False, order=order)\n"
          ]
        }
      ]
    },
    {
      "cell_type": "markdown",
      "metadata": {
        "id": "gYlQkKVoRUos"
      },
      "source": [
        "## Training & Evaluation\n",
        "\n",
        "The data is processed so that we are ready to start setting up the training pipeline. We will make use of 🤗's [Trainer](https://huggingface.co/transformers/master/main_classes/trainer.html?highlight=trainer) for which we essentially need to do the following:\n",
        "\n",
        "- Define a data collator. In contrast to most NLP models, Wav2Vec2 has a much larger input length than output length. *E.g.*, a sample of input length 50000 has an output length of no more than 100. Given the large input sizes, it is much more efficient to pad the training batches dynamically meaning that all training samples should only be padded to the longest sample in their batch and not the overall longest sample. Therefore, fine-tuning Wav2Vec2 requires a special padding data collator, which we will define below\n",
        "\n",
        "- Evaluation metric. During training, the model should be evaluated on the word error rate. We should define a `compute_metrics` function accordingly\n",
        "\n",
        "- Load a pretrained checkpoint. We need to load a pretrained checkpoint and configure it correctly for training.\n",
        "\n",
        "- Define the training configuration.\n",
        "\n",
        "After having fine-tuned the model, we will correctly evaluate it on the test data and verify that it has indeed learned to correctly transcribe speech."
      ]
    },
    {
      "cell_type": "markdown",
      "metadata": {
        "id": "Slk403unUS91"
      },
      "source": [
        "### Set-up Trainer\n",
        "\n",
        "Let's start by defining the data collator. The code for the data collator was copied from [this example](https://github.com/huggingface/transformers/blob/9a06b6b11bdfc42eea08fa91d0c737d1863c99e3/examples/research_projects/wav2vec2/run_asr.py#L81).\n",
        "\n",
        "Without going into too many details, in contrast to the common data collators, this data collator treats the `input_values` and `labels` differently and thus applies to separate padding functions on them (again making use of Wav2Vec2's context manager). This is necessary because in speech input and output are of different modalities meaning that they should not be treated by the same padding function.\n",
        "Analogous to the common data collators, the padding tokens in the labels with `-100` so that those tokens are **not** taken into account when computing the loss."
      ]
    },
    {
      "cell_type": "code",
      "metadata": {
        "id": "tborvC9hx88e"
      },
      "source": [
        "import torch\n",
        "\n",
        "from dataclasses import dataclass, field\n",
        "from typing import Any, Dict, List, Optional, Union\n",
        "\n",
        "@dataclass\n",
        "class DataCollatorCTCWithPadding:\n",
        "    \"\"\"\n",
        "    Data collator that will dynamically pad the inputs received.\n",
        "    Args:\n",
        "        processor (:class:`~transformers.Wav2Vec2Processor`)\n",
        "            The processor used for proccessing the data.\n",
        "        padding (:obj:`bool`, :obj:`str` or :class:`~transformers.tokenization_utils_base.PaddingStrategy`, `optional`, defaults to :obj:`True`):\n",
        "            Select a strategy to pad the returned sequences (according to the model's padding side and padding index)\n",
        "            among:\n",
        "            * :obj:`True` or :obj:`'longest'`: Pad to the longest sequence in the batch (or no padding if only a single\n",
        "              sequence if provided).\n",
        "            * :obj:`'max_length'`: Pad to a maximum length specified with the argument :obj:`max_length` or to the\n",
        "              maximum acceptable input length for the model if that argument is not provided.\n",
        "            * :obj:`False` or :obj:`'do_not_pad'` (default): No padding (i.e., can output a batch with sequences of\n",
        "              different lengths).\n",
        "        max_length (:obj:`int`, `optional`):\n",
        "            Maximum length of the ``input_values`` of the returned list and optionally padding length (see above).\n",
        "        max_length_labels (:obj:`int`, `optional`):\n",
        "            Maximum length of the ``labels`` returned list and optionally padding length (see above).\n",
        "        pad_to_multiple_of (:obj:`int`, `optional`):\n",
        "            If set will pad the sequence to a multiple of the provided value.\n",
        "            This is especially useful to enable the use of Tensor Cores on NVIDIA hardware with compute capability >=\n",
        "            7.5 (Volta).\n",
        "    \"\"\"\n",
        "\n",
        "    processor: Wav2Vec2Processor\n",
        "    padding: Union[bool, str] = True\n",
        "    max_length: Optional[int] = None\n",
        "    max_length_labels: Optional[int] = None\n",
        "    pad_to_multiple_of: Optional[int] = None\n",
        "    pad_to_multiple_of_labels: Optional[int] = None\n",
        "\n",
        "    def __call__(self, features: List[Dict[str, Union[List[int], torch.Tensor]]]) -> Dict[str, torch.Tensor]:\n",
        "        # split inputs and labels since they have to be of different lenghts and need\n",
        "        # different padding methods\n",
        "        input_features = [{\"input_values\": feature[\"input_values\"]} for feature in features]\n",
        "        label_features = [{\"input_ids\": feature[\"labels\"]} for feature in features]\n",
        "\n",
        "        batch = self.processor.pad(\n",
        "            input_features,\n",
        "            padding=self.padding,\n",
        "            max_length=self.max_length,\n",
        "            pad_to_multiple_of=self.pad_to_multiple_of,\n",
        "            return_tensors=\"pt\",\n",
        "        )\n",
        "        with self.processor.as_target_processor():\n",
        "            labels_batch = self.processor.pad(\n",
        "                label_features,\n",
        "                padding=self.padding,\n",
        "                max_length=self.max_length_labels,\n",
        "                pad_to_multiple_of=self.pad_to_multiple_of_labels,\n",
        "                return_tensors=\"pt\",\n",
        "            )\n",
        "\n",
        "        # replace padding with -100 to ignore loss correctly\n",
        "        labels = labels_batch[\"input_ids\"].masked_fill(labels_batch.attention_mask.ne(1), -100)\n",
        "\n",
        "        batch[\"labels\"] = labels\n",
        "\n",
        "        return batch"
      ],
      "execution_count": null,
      "outputs": []
    },
    {
      "cell_type": "code",
      "metadata": {
        "id": "lbQf5GuZyQ4_"
      },
      "source": [
        "data_collator = DataCollatorCTCWithPadding(processor=processor, padding=True)"
      ],
      "execution_count": null,
      "outputs": []
    },
    {
      "cell_type": "markdown",
      "metadata": {
        "id": "xO-Zdj-5cxXp"
      },
      "source": [
        "Next, the evaluation metric is defined. As mentioned earlier, the \n",
        "predominant metric in ASR is the word error rate (WER), hence we will use it in this notebook as well."
      ]
    },
    {
      "cell_type": "code",
      "metadata": {
        "id": "9Xsux2gmyXso"
      },
      "source": [
        "from datasets import load_dataset, load_metric\n",
        "\n",
        "wer_metric = load_metric(\"wer\")"
      ],
      "execution_count": null,
      "outputs": []
    },
    {
      "cell_type": "markdown",
      "metadata": {
        "id": "E1qZU5p-deqB"
      },
      "source": [
        "The model will return a sequence of logit vectors:\n",
        "$\\mathbf{y}_1, \\ldots, \\mathbf{y}_m$ with $\\mathbf{y}_1 = f_{\\theta}(x_1, \\ldots, x_n)[0]$ and $n >> m$.\n",
        "\n",
        "A logit vector $\\mathbf{y}_1$ contains the log-odds for each word in the vocabulary we defined earlier, thus $\\text{len}(\\mathbf{y}_i) =$ `config.vocab_size`. We are interested in the most likely prediction of the model and thus take the `argmax(...)` of the logits. Also, we transform the encoded labels back to the original string by replacing `-100` with the `pad_token_id` and decoding the ids while making sure that consecutive tokens are **not** grouped to the same token in CTC style ${}^1$."
      ]
    },
    {
      "cell_type": "code",
      "metadata": {
        "id": "1XZ-kjweyTy_"
      },
      "source": [
        "def compute_metrics(pred):\n",
        "    pred_logits = pred.predictions\n",
        "    pred_ids = np.argmax(pred_logits, axis=-1)\n",
        "\n",
        "    pred.label_ids[pred.label_ids == -100] = processor.tokenizer.pad_token_id\n",
        "\n",
        "    pred_str = processor.batch_decode(pred_ids)\n",
        "    # we do not want to group tokens when computing the metrics\n",
        "    label_str = processor.batch_decode(pred.label_ids, group_tokens=False)\n",
        "\n",
        "    wer = wer_metric.compute(predictions=pred_str, references=label_str)\n",
        "\n",
        "    return {\"wer\": wer}"
      ],
      "execution_count": null,
      "outputs": []
    },
    {
      "cell_type": "markdown",
      "metadata": {
        "id": "Xmgrx4bRwLIH"
      },
      "source": [
        "Now, we can load the pretrained `Wav2Vec2` checkpoint. The tokenizer's `pad_token_id` must be to define the model's `pad_token_id` or in the case of `Wav2Vec2ForCTC` also CTC's *blank token* ${}^2$. To save GPU memory, we enable PyTorch's [gradient checkpointing](https://pytorch.org/docs/stable/checkpoint.html) and also set the loss reduction to \"*mean*\"."
      ]
    },
    {
      "cell_type": "code",
      "metadata": {
        "id": "e7cqAWIayn6w"
      },
      "source": [
        "from transformers import Wav2Vec2ForCTC\n",
        "\n",
        "model = Wav2Vec2ForCTC.from_pretrained(\n",
        "    \"patrickvonplaten/wav2vec2-base-timit-demo\", \n",
        "    gradient_checkpointing=True, \n",
        "    ctc_loss_reduction=\"mean\", \n",
        "    pad_token_id=processor.tokenizer.pad_token_id,\n",
        ")"
      ],
      "execution_count": null,
      "outputs": []
    },
    {
      "cell_type": "markdown",
      "metadata": {
        "id": "1DwR3XLSzGDD"
      },
      "source": [
        "The first component of Wav2Vec2 consists of a stack of CNN layers that are used to extract acoustically meaningful - but contextually independent - features from the raw speech signal. This part of the model has already been sufficiently trained during pretrainind and as stated in the [paper](https://arxiv.org/abs/2006.11477) does not need to be fine-tuned anymore. \n",
        "Thus, we can set the `requires_grad` to `False` for all parameters of the *feature extraction* part."
      ]
    },
    {
      "cell_type": "code",
      "metadata": {
        "id": "oGI8zObtZ3V0"
      },
      "source": [
        "model.freeze_feature_extractor()"
      ],
      "execution_count": null,
      "outputs": []
    },
    {
      "cell_type": "markdown",
      "metadata": {
        "id": "lD4aGhQM0K-D"
      },
      "source": [
        "In a final step, we define all parameters related to training. \n",
        "To give more explanation on some of the parameters:\n",
        "- `group_by_length` makes training more efficient by grouping training samples of similar input length into one batch. This can significantly speed up training time by heavily reducing the overall number of useless padding tokens that are passed through the model\n",
        "- `learning_rate` and `weight_decay` were heuristically tuned until fine-tuning has become stable. Note that those parameters strongly depend on the Timit dataset and might be suboptimal for other speech datasets.\n",
        "\n",
        "For more explanations on other parameters, one can take a look at the [docs](https://huggingface.co/transformers/master/main_classes/trainer.html?highlight=trainer#trainingarguments).\n",
        "\n",
        "**Note**: If one wants to save the trained models in his/her google drive the commented-out `output_dir` can be used instead."
      ]
    },
    {
      "cell_type": "code",
      "metadata": {
        "id": "KbeKSV7uzGPP"
      },
      "source": [
        "from transformers import TrainingArguments\n",
        "\n",
        "training_args = TrainingArguments(\n",
        "  output_dir=\"/content/drive/MyDrive/korean_english/files/wav2vec2-base-timit-demo_2\", # demo 폴더에서 변경\n",
        "  #output_dir=\"./wav2vec2-base-timit-demo\",\n",
        "  group_by_length=True,\n",
        "  per_device_train_batch_size=32,\n",
        "  evaluation_strategy=\"steps\",\n",
        "  num_train_epochs=25, #30\n",
        "  fp16=True,\n",
        "  save_steps=500,\n",
        "  eval_steps=500,\n",
        "  logging_steps=500,\n",
        "  learning_rate=1e-4,\n",
        "  weight_decay=0.005,\n",
        "  warmup_steps=1000,\n",
        "  save_total_limit=2,\n",
        ")"
      ],
      "execution_count": null,
      "outputs": []
    },
    {
      "cell_type": "markdown",
      "metadata": {
        "id": "OsW-WZcL1ZtN"
      },
      "source": [
        "Now, all instances can be passed to Trainer and we are ready to start training!"
      ]
    },
    {
      "cell_type": "code",
      "metadata": {
        "colab": {
          "base_uri": "https://localhost:8080/"
        },
        "id": "Y6wkEumWxPQP",
        "outputId": "357f0f0e-e2d8-408b-9c8f-39256ab73c20"
      },
      "source": [
        "timit_prepared[\"train\"]"
      ],
      "execution_count": null,
      "outputs": [
        {
          "output_type": "execute_result",
          "data": {
            "text/plain": [
              "Dataset({\n",
              "    features: ['input_values', 'labels'],\n",
              "    num_rows: 4620\n",
              "})"
            ]
          },
          "metadata": {},
          "execution_count": 84
        }
      ]
    },
    {
      "cell_type": "code",
      "metadata": {
        "id": "rY7vBmFCPFgC"
      },
      "source": [
        "from transformers import Trainer\n",
        "\n",
        "trainer = Trainer(\n",
        "    model=model,\n",
        "    data_collator=data_collator,\n",
        "    args=training_args,\n",
        "    compute_metrics=compute_metrics,\n",
        "    train_dataset=timit_prepared[\"train\"],\n",
        "    eval_dataset=timit_prepared[\"test\"],\n",
        "    tokenizer=processor.feature_extractor,\n",
        ")"
      ],
      "execution_count": null,
      "outputs": []
    },
    {
      "cell_type": "markdown",
      "metadata": {
        "id": "UoXBx1JAA0DX"
      },
      "source": [
        "\n",
        "\n",
        "---\n",
        "\n",
        "${}^1$ To allow models to become independent of the speaker rate, in CTC, consecutive tokens that are identical are simply grouped as a single token. However, the encoded labels should not be grouped when decoding since they don't correspond to the predicted tokens of the model, which is why the `group_tokens=False` parameter has to be passed. If we wouldn't pass this parameter a word like `\"hello\"` would incorrectly be encoded, and decoded as `\"helo\"`.\n",
        "\n",
        "${}^2$ The blank token allows the model to predict a word, such as `\"hello\"` by forcing it to insert the blank token between the two l's. A CTC-conform prediction of `\"hello\"` of our model would be `[PAD] [PAD] \"h\" \"e\" \"e\" \"l\" \"l\" [PAD] \"l\" \"o\" \"o\" [PAD]`."
      ]
    },
    {
      "cell_type": "markdown",
      "metadata": {
        "id": "rpvZHM1xReIW"
      },
      "source": [
        "### Training"
      ]
    },
    {
      "cell_type": "markdown",
      "metadata": {
        "id": "j-3oKSzZ1hGq"
      },
      "source": [
        "Training will take between 90 and 180 minutes depending on the GPU allocated to this notebook. While the trained model yields satisfying results on *Timit*'s test data, it is by no means an optimally fine-tuned model. The purpose of this notebook is to demonstrate how Wav2Vec2's [base](https://huggingface.co/facebook/wav2vec2-base), [large](https://huggingface.co/facebook/wav2vec2-large), and [large-lv60](https://huggingface.co/facebook/wav2vec2-large-lv60) checkpoints can be fine-tuned on any English dataset.\n",
        "\n",
        "In case you want to use this google colab to fine-tune your model, you should make sure that your training doesn't stop due to inactivity. A simple hack to prevent this is to paste the following code into the console of this tab (*right mouse click -> inspect -> Console tab and insert code*)."
      ]
    },
    {
      "cell_type": "markdown",
      "metadata": {
        "id": "VYYAvgkW4P0m"
      },
      "source": [
        "```javascript\n",
        "function ConnectButton(){\n",
        "    console.log(\"Connect pushed\"); \n",
        "    document.querySelector(\"#top-toolbar > colab-connect-button\").shadowRoot.querySelector(\"#connect\").click() \n",
        "}\n",
        "setInterval(ConnectButton,60000);\n",
        "```"
      ]
    },
    {
      "cell_type": "code",
      "metadata": {
        "id": "xNJdNNCYvuz-",
        "colab": {
          "base_uri": "https://localhost:8080/",
          "height": 461
        },
        "outputId": "790521a8-177c-4255-8849-74599c26400e"
      },
      "source": [
        "trainer.train()"
      ],
      "execution_count": null,
      "outputs": [
        {
          "metadata": {
            "tags": null
          },
          "name": "stderr",
          "output_type": "stream",
          "text": [
            "/usr/local/lib/python3.7/dist-packages/transformers/trainer.py:1083: FutureWarning: Non-finite norm encountered in torch.nn.utils.clip_grad_norm_; continuing anyway. Note that the default behavior will change in a future release to error out if a non-finite total norm is encountered. At that point, setting error_if_nonfinite=false will be required to retain the old behavior.\n",
            "  self.args.max_grad_norm,\n",
            "/usr/local/lib/python3.7/dist-packages/torch/optim/lr_scheduler.py:134: UserWarning: Detected call of `lr_scheduler.step()` before `optimizer.step()`. In PyTorch 1.1.0 and later, you should call them in the opposite order: `optimizer.step()` before `lr_scheduler.step()`.  Failure to do this will result in PyTorch skipping the first value of the learning rate schedule. See more details at https://pytorch.org/docs/stable/optim.html#how-to-adjust-learning-rate\n",
            "  \"https://pytorch.org/docs/stable/optim.html#how-to-adjust-learning-rate\", UserWarning)\n"
          ]
        },
        {
          "data": {
            "text/html": [
              "\n",
              "    <div>\n",
              "        <style>\n",
              "            /* Turns off some styling */\n",
              "            progress {\n",
              "                /* gets rid of default border in Firefox and Opera. */\n",
              "                border: none;\n",
              "                /* Needs to be in here for Safari polyfill so background images work as expected. */\n",
              "                background-size: auto;\n",
              "            }\n",
              "        </style>\n",
              "      \n",
              "      <progress value='847' max='3175' style='width:300px; height:20px; vertical-align: middle;'></progress>\n",
              "      [ 847/3175 25:10 < 1:09:22, 0.56 it/s, Epoch 6.66/25]\n",
              "    </div>\n",
              "    <table border=\"1\" class=\"dataframe\">\n",
              "  <thead>\n",
              "    <tr style=\"text-align: left;\">\n",
              "      <th>Step</th>\n",
              "      <th>Training Loss</th>\n",
              "      <th>Validation Loss</th>\n",
              "      <th>Wer</th>\n",
              "      <th>Runtime</th>\n",
              "      <th>Samples Per Second</th>\n",
              "    </tr>\n",
              "  </thead>\n",
              "  <tbody>\n",
              "    <tr>\n",
              "      <td>500</td>\n",
              "      <td>6.995000</td>\n",
              "      <td>2.344070</td>\n",
              "      <td>0.981409</td>\n",
              "      <td>48.970600</td>\n",
              "      <td>14.621000</td>\n",
              "    </tr>\n",
              "  </tbody>\n",
              "</table><p>"
            ],
            "text/plain": [
              "<IPython.core.display.HTML object>"
            ]
          },
          "metadata": {},
          "output_type": "display_data"
        },
        {
          "output_type": "display_data",
          "data": {
            "text/html": [
              "\n",
              "    <div>\n",
              "        <style>\n",
              "            /* Turns off some styling */\n",
              "            progress {\n",
              "                /* gets rid of default border in Firefox and Opera. */\n",
              "                border: none;\n",
              "                /* Needs to be in here for Safari polyfill so background images work as expected. */\n",
              "                background-size: auto;\n",
              "            }\n",
              "        </style>\n",
              "      \n",
              "      <progress value='3175' max='3175' style='width:300px; height:20px; vertical-align: middle;'></progress>\n",
              "      [3175/3175 1:37:40, Epoch 25/25]\n",
              "    </div>\n",
              "    <table border=\"1\" class=\"dataframe\">\n",
              "  <thead>\n",
              "    <tr style=\"text-align: left;\">\n",
              "      <th>Step</th>\n",
              "      <th>Training Loss</th>\n",
              "      <th>Validation Loss</th>\n",
              "      <th>Wer</th>\n",
              "      <th>Runtime</th>\n",
              "      <th>Samples Per Second</th>\n",
              "    </tr>\n",
              "  </thead>\n",
              "  <tbody>\n",
              "    <tr>\n",
              "      <td>500</td>\n",
              "      <td>6.995000</td>\n",
              "      <td>2.344070</td>\n",
              "      <td>0.981409</td>\n",
              "      <td>48.970600</td>\n",
              "      <td>14.621000</td>\n",
              "    </tr>\n",
              "    <tr>\n",
              "      <td>1000</td>\n",
              "      <td>0.844100</td>\n",
              "      <td>0.452271</td>\n",
              "      <td>0.293140</td>\n",
              "      <td>49.715300</td>\n",
              "      <td>14.402000</td>\n",
              "    </tr>\n",
              "    <tr>\n",
              "      <td>1500</td>\n",
              "      <td>0.223800</td>\n",
              "      <td>0.392107</td>\n",
              "      <td>0.266038</td>\n",
              "      <td>50.029200</td>\n",
              "      <td>14.312000</td>\n",
              "    </tr>\n",
              "    <tr>\n",
              "      <td>2000</td>\n",
              "      <td>0.154000</td>\n",
              "      <td>0.449885</td>\n",
              "      <td>0.257004</td>\n",
              "      <td>50.135300</td>\n",
              "      <td>14.281000</td>\n",
              "    </tr>\n",
              "    <tr>\n",
              "      <td>2500</td>\n",
              "      <td>0.100900</td>\n",
              "      <td>0.447991</td>\n",
              "      <td>0.247840</td>\n",
              "      <td>49.909800</td>\n",
              "      <td>14.346000</td>\n",
              "    </tr>\n",
              "    <tr>\n",
              "      <td>3000</td>\n",
              "      <td>0.079900</td>\n",
              "      <td>0.480566</td>\n",
              "      <td>0.240508</td>\n",
              "      <td>50.138500</td>\n",
              "      <td>14.280000</td>\n",
              "    </tr>\n",
              "  </tbody>\n",
              "</table><p>"
            ],
            "text/plain": [
              "<IPython.core.display.HTML object>"
            ]
          },
          "metadata": {}
        },
        {
          "output_type": "execute_result",
          "data": {
            "text/plain": [
              "TrainOutput(global_step=3175, training_loss=1.3265151316725363, metrics={'train_runtime': 5865.3915, 'train_samples_per_second': 0.541, 'total_flos': 4.256001116504064e+18, 'epoch': 25.0, 'init_mem_cpu_alloc_delta': 52779, 'init_mem_gpu_alloc_delta': 378771968, 'init_mem_cpu_peaked_delta': 18306, 'init_mem_gpu_peaked_delta': 0, 'train_mem_cpu_alloc_delta': 726441, 'train_mem_gpu_alloc_delta': 1114333696, 'train_mem_cpu_peaked_delta': 190301950, 'train_mem_gpu_peaked_delta': 6145681920})"
            ]
          },
          "metadata": {},
          "execution_count": 123
        }
      ]
    },
    {
      "cell_type": "markdown",
      "metadata": {
        "id": "UCyp-v3n4Zlt"
      },
      "source": [
        "The final WER should be below 0.3 which is reasonable given that state-of-the-art phoneme error rates (PER) are just below 0.1 (see [leaderboard](https://paperswithcode.com/sota/speech-recognition-on-timit)) and that WER is usually worse than PER.\n",
        "\n",
        "The resulting model of this notebook has been saved to [patrickvonplaten/wav2vec2-base-timit-demo](https://huggingface.co/patrickvonplaten/wav2vec2-base-timit-demo)."
      ]
    },
    {
      "cell_type": "markdown",
      "metadata": {
        "id": "nD4XP5IHncsY"
      },
      "source": [
        "### Evaluate\n",
        "\n",
        "In the final part, we evaluate our fine-tuned model on the test set and play around with it a bit.\n",
        "\n",
        "Let's load the `processor` and `model`."
      ]
    },
    {
      "cell_type": "markdown",
      "metadata": {
        "id": "mXubwWdNq0OU"
      },
      "source": [
        "You can upload fine-tuned processor and model from below information  \n",
        "1. processor : base + finetuning(Korean-English dataset) ('/content/drive/MyDrive/korean_english/files/wav2vec2-base-timit-demo')\n",
        "2. processor2 : base + finetuning(huggingface timit_asr dataset) ('/patrickvonplaten/wav2vec2-base-timit-demo')\n",
        "3. processor3 : base + finetuning(TIMIT) + finetuning_2(korean-English) ('/content/drive/MyDrive/korean_english/files/wav2vec2-base-timit-demo_2)\n",
        "4. processor4 : Base + finetuning(960 hours of Librispeech) (\"/facebook/wav2vec2-base-960h\")\n",
        "\n",
        "**Above personal google drive links will be updated to hugging face model link soon**"
      ]
    },
    {
      "cell_type": "code",
      "metadata": {
        "id": "iy8Fpv_0xDRe",
        "colab": {
          "base_uri": "https://localhost:8080/"
        },
        "outputId": "12338197-30fa-4cce-baf8-3baee282c191"
      },
      "source": [
        "processor = Wav2Vec2Processor.from_pretrained(\"/content/drive/MyDrive/korean_english/files/wav2vec2-base-timit-demo\")\n",
        "#processor2 = Wav2Vec2Processor.from_pretrained(\"patrickvonplaten/wav2vec2-base-timit-demo\")\n",
        "#processor3 = Wav2Vec2Processor.from_pretrained(\"/content/drive/MyDrive/korean_english/files/wav2vec2-base-timit-demo_2\")\n",
        "#processor4 = Wav2Vec2Processor.from_pretrained(\"facebook/wav2vec2-base-960h\")"
      ],
      "execution_count": null,
      "outputs": [
        {
          "output_type": "stream",
          "name": "stderr",
          "text": [
            "Special tokens have been added in the vocabulary, make sure the associated word embedding are fine-tuned or trained.\n"
          ]
        }
      ]
    },
    {
      "cell_type": "code",
      "metadata": {
        "id": "b-q6P5y6xHXE"
      },
      "source": [
        "model = Wav2Vec2ForCTC.from_pretrained(\"/content/drive/MyDrive/korean_english/files/wav2vec2-base-timit-demo/checkpoint-3000\")\n",
        "#model2 = Wav2Vec2ForCTC.from_pretrained(\"patrickvonplaten/wav2vec2-base-timit-demo\")\n",
        "#model3 = Wav2Vec2ForCTC.from_pretrained(\"/content/drive/MyDrive/korean_english/files/wav2vec2-base-timit-demo_2/checkpoint-3000\")\n",
        "#model4 = Wav2Vec2ForCTC.from_pretrained(\"facebook/wav2vec2-base-960h\")"
      ],
      "execution_count": null,
      "outputs": []
    },
    {
      "cell_type": "markdown",
      "metadata": {
        "id": "TUuZpB0v5jn_"
      },
      "source": [
        "Now, we will make use of the `map(...)` function to predict the transcription of every test sample and to save the prediction in the dataset itself. We will call the resulting dictionary `\"results\"`. \n",
        "\n",
        "**Note**: we evaluate the test data set with `batch_size=1` on purpose due to this [issue](https://github.com/pytorch/fairseq/issues/3227). Since padded inputs don't yield the exact same output as non-padded inputs, a better WER can be achieved by not padding the input at all."
      ]
    },
    {
      "cell_type": "code",
      "metadata": {
        "id": "40naJl53n7jT"
      },
      "source": [
        "def map_to_result(batch):\n",
        "  model4.to(\"cuda\")\n",
        "  input_values = processor4(\n",
        "      batch[\"speech\"], \n",
        "      sampling_rate=batch[\"sampling_rate\"], \n",
        "      return_tensors=\"pt\"\n",
        "  ).input_values.to(\"cuda\")\n",
        "\n",
        "  with torch.no_grad():\n",
        "    logits = model4(input_values).logits\n",
        "\n",
        "  pred_ids = torch.argmax(logits, dim=-1)\n",
        "  batch[\"pred_str\"] = processor4.batch_decode(pred_ids)[0]\n",
        "  \n",
        "  return batch"
      ],
      "execution_count": null,
      "outputs": []
    },
    {
      "cell_type": "code",
      "metadata": {
        "id": "uPqH7gZqrGPi",
        "colab": {
          "base_uri": "https://localhost:8080/",
          "height": 49,
          "referenced_widgets": [
            "37304503f7734068bb958b49ebbc0b74",
            "4df08fc18b4b4a908707c347128f9def",
            "0c00927cba6542719c9579af48fe1799",
            "6f68e3a517754460bfe9d5c038f1e753",
            "2030c3a01215456da074ff83bde2167a",
            "818533bf8a904d69b4ff6719e2679e2a",
            "17c9ecaf6aed4350a09b9b17cbbc93e0",
            "8a8449746a374e60bcb49f1b597120bc",
            "76319b06f4ca464ba031e4709f7b860a",
            "c2fa71a8c9254123a340042684df91e2",
            "7e4744e7d58d4c4391863d7e9780df85"
          ]
        },
        "outputId": "ee5845da-0f26-4c7e-d372-c649e96afd53"
      },
      "source": [
        "results = timit[\"test\"].map(map_to_result)"
      ],
      "execution_count": null,
      "outputs": [
        {
          "output_type": "display_data",
          "data": {
            "application/vnd.jupyter.widget-view+json": {
              "model_id": "37304503f7734068bb958b49ebbc0b74",
              "version_minor": 0,
              "version_major": 2
            },
            "text/plain": [
              "  0%|          | 0/1680 [00:00<?, ?ex/s]"
            ]
          },
          "metadata": {}
        }
      ]
    },
    {
      "cell_type": "markdown",
      "metadata": {
        "id": "-mqpdB8R6rty"
      },
      "source": [
        "Let's compute the overall WER now."
      ]
    },
    {
      "cell_type": "code",
      "metadata": {
        "id": "GK-U7PLgr_cr"
      },
      "source": [
        "# if you are using processor4\n",
        "\n",
        "# result_temp = []\n",
        "\n",
        "# for i in range(len(results['pred_str'])):\n",
        "#     result_temp.append(results['pred_str'][i].lower())\n"
      ],
      "execution_count": null,
      "outputs": []
    },
    {
      "cell_type": "code",
      "metadata": {
        "id": "PmqAb4Isx8OK",
        "colab": {
          "base_uri": "https://localhost:8080/"
        },
        "outputId": "0644d307-71cd-49b1-a83a-9e10efd993fb"
      },
      "source": [
        "print(\"Test WER: {:.3f}\".format(wer_metric.compute(predictions=results[\"pred_str\"], references=results[\"target_text\"])))"
      ],
      "execution_count": null,
      "outputs": [
        {
          "output_type": "stream",
          "name": "stdout",
          "text": [
            "Test WER: 0.285\n"
          ]
        }
      ]
    },
    {
      "cell_type": "markdown",
      "metadata": {
        "id": "6Va94d8Y7Q98"
      },
      "source": [
        "18.6% WER - not bad! Our model would have surely made the top 20 on the official [leaderboard](https://paperswithcode.com/sota/speech-recognition-on-timit).\n",
        "\n",
        "Let's take a look at some predictions to see what errors are made by the model."
      ]
    },
    {
      "cell_type": "code",
      "metadata": {
        "id": "odNDiFVRy53w"
      },
      "source": [
        "show_random_elements(results.remove_columns([\"speech\", \"sampling_rate\"]))"
      ],
      "execution_count": null,
      "outputs": []
    },
    {
      "cell_type": "markdown",
      "metadata": {
        "id": "5HFCujhd9n4N"
      },
      "source": [
        "It becomes clear that the predicted transcriptions are acoustically very similar to the target transcriptions, but often contain spelling or grammatical errors. This shouldn't be very surprising though given that we purely rely on Wav2Vec2 without making use of a language model."
      ]
    },
    {
      "cell_type": "markdown",
      "metadata": {
        "id": "a3ydKvUl9FTK"
      },
      "source": [
        "Finally, to better understand how CTC works, it is worth taking a deeper look at the exact output of the model. Let's run the first test sample through the model, take the predicted ids and convert them to their corresponding tokens."
      ]
    },
    {
      "cell_type": "code",
      "metadata": {
        "id": "AqaM45t87uM4"
      },
      "source": [
        "model.to(\"cuda\")\n",
        "input_values = processor(timit[\"test\"][0][\"speech\"], sampling_rate=timit[\"test\"][0][\"sampling_rate\"], return_tensors=\"pt\").input_values.to(\"cuda\")\n",
        "\n",
        "with torch.no_grad():\n",
        "  logits = model(input_values).logits\n",
        "\n",
        "pred_ids = torch.argmax(logits, dim=-1)\n",
        "\n",
        "# convert ids to tokens\n",
        "\" \".join(processor.tokenizer.convert_ids_to_tokens(pred_ids[0].tolist()))"
      ],
      "execution_count": null,
      "outputs": []
    },
    {
      "cell_type": "markdown",
      "metadata": {
        "id": "tdO8E28g-n5C"
      },
      "source": [
        "The output should make it a bit clearer how CTC works in practice. The model is to some extent invariant to speaking rate since it has learned to either just repeat the same token in case the speech chunk to be classified still corresponds to the same token. This makes CTC a very powerful algorithm for speech recognition since the speech file's transcription is often very much independent of its length.\n",
        "\n",
        "I again advise the reader to take a look at [this](https://distill.pub/2017/ctc) very nice blog post to better understand CTC."
      ]
    }
  ]
}