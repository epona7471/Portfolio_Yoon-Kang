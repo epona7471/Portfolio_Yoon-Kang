{
  "nbformat": 4,
  "nbformat_minor": 0,
  "metadata": {
    "kernelspec": {
      "display_name": "Python 3",
      "language": "python",
      "name": "python3"
    },
    "language_info": {
      "codemirror_mode": {
        "name": "ipython",
        "version": 3
      },
      "file_extension": ".py",
      "mimetype": "text/x-python",
      "name": "python",
      "nbconvert_exporter": "python",
      "pygments_lexer": "ipython3",
      "version": "3.8.8"
    },
    "colab": {
      "name": "3_Magenta_to_Keras_Transferlearning_210706.ipynb",
      "provenance": [],
      "machine_shape": "hm"
    },
    "accelerator": "GPU"
  },
  "cells": [
    {
      "cell_type": "code",
      "metadata": {
        "id": "svY2dNJAj9HP"
      },
      "source": [
        "!pip install note_seq\n",
        "!pip install magenta"
      ],
      "execution_count": null,
      "outputs": []
    },
    {
      "cell_type": "code",
      "metadata": {
        "scrolled": false,
        "id": "YE_bK9vpjTKm",
        "colab": {
          "base_uri": "https://localhost:8080/"
        },
        "outputId": "cee9f8ca-711e-4657-99f7-7a89cdf90d46"
      },
      "source": [
        "from matplotlib import pyplot as plt\n",
        "%config InlineBackend.figure_format = 'retina'\n",
        "\n",
        "from glob import glob\n",
        "\n",
        "import numpy as np\n",
        "\n",
        "from tensorflow                                  import __version__\n",
        "from tensorflow.test                             import is_built_with_cuda, is_gpu_available, gpu_device_name\n",
        "from tensorflow.python.client                    import device_lib\n",
        "\n",
        "print('\\nTensorflow version = {},\\nbuilt with CUDA\\t= {},\\nGPU available\\t= {},\\nGPU device name = {}\\n\\nAll devices: {}'\n",
        "      .format(__version__, is_built_with_cuda(), is_gpu_available(), gpu_device_name(), device_lib.list_local_devices()))\n",
        "\n",
        "from tensorflow.compat.v1                        import Session\n",
        "from tensorflow.python.training.checkpoint_utils import list_variables, load_variable\n",
        "\n",
        "from keras                 import backend as K\n",
        "from keras.layers          import Activation, BatchNormalization, Bidirectional, concatenate, \\\n",
        "                                  Conv2D, Dense, Input, LSTM, MaxPool2D, Reshape\n",
        "from keras.models          import load_model, Model\n",
        "\n",
        "from librosa               import midi_to_hz\n",
        "from sklearn.metrics       import auc, roc_curve\n",
        "from sklearn.preprocessing import binarize\n",
        "\n",
        "from note_seq.sequences_lib                             import pianoroll_to_note_sequence\n",
        "from magenta.models.onsets_frames_transcription.metrics import sequence_to_valued_intervals\n",
        "from mir_eval.transcription                             import precision_recall_f1_overlap as Overlap\n",
        "from mir_eval.transcription_velocity                    import precision_recall_f1_overlap as OverlapVolumes\n",
        "from os.path               import exists, isdir\n",
        "from os import makedirs\n",
        "import gc\n"
      ],
      "execution_count": 2,
      "outputs": [
        {
          "output_type": "stream",
          "text": [
            "WARNING:tensorflow:From <ipython-input-2-010d3a31030f>:13: is_gpu_available (from tensorflow.python.framework.test_util) is deprecated and will be removed in a future version.\n",
            "Instructions for updating:\n",
            "Use `tf.config.list_physical_devices('GPU')` instead.\n",
            "\n",
            "Tensorflow version = 2.5.0,\n",
            "built with CUDA\t= True,\n",
            "GPU available\t= True,\n",
            "GPU device name = /device:GPU:0\n",
            "\n",
            "All devices: [name: \"/device:CPU:0\"\n",
            "device_type: \"CPU\"\n",
            "memory_limit: 268435456\n",
            "locality {\n",
            "}\n",
            "incarnation: 13368743461890981776\n",
            ", name: \"/device:GPU:0\"\n",
            "device_type: \"GPU\"\n",
            "memory_limit: 16183459840\n",
            "locality {\n",
            "  bus_id: 1\n",
            "  links {\n",
            "  }\n",
            "}\n",
            "incarnation: 11563831473410124688\n",
            "physical_device_desc: \"device: 0, name: Tesla P100-PCIE-16GB, pci bus id: 0000:00:04.0, compute capability: 6.0\"\n",
            "]\n"
          ],
          "name": "stdout"
        },
        {
          "output_type": "stream",
          "text": [
            "/usr/local/lib/python3.7/dist-packages/librosa/util/decorators.py:9: NumbaDeprecationWarning: An import was requested from a module that has moved location.\n",
            "Import requested from: 'numba.decorators', please update to use 'numba.core.decorators' or pin to Numba version 0.48.0. This alias will not be present in Numba version 0.50.0.\n",
            "  from numba.decorators import jit as optional_jit\n",
            "/usr/local/lib/python3.7/dist-packages/librosa/util/decorators.py:9: NumbaDeprecationWarning: An import was requested from a module that has moved location.\n",
            "Import of 'jit' requested from: 'numba.decorators', please update to use 'numba.core.decorators' or pin to Numba version 0.48.0. This alias will not be present in Numba version 0.50.0.\n",
            "  from numba.decorators import jit as optional_jit\n",
            "SoX could not be found!\n",
            "\n",
            "    If you do not have SoX, proceed here:\n",
            "     - - - http://sox.sourceforge.net/ - - -\n",
            "\n",
            "    If you do (or think that you should) have SoX, double-check your\n",
            "    path variables.\n",
            "    \n"
          ],
          "name": "stderr"
        }
      ]
    },
    {
      "cell_type": "code",
      "metadata": {
        "id": "OkTZRkgQLmNP",
        "colab": {
          "base_uri": "https://localhost:8080/"
        },
        "outputId": "86f4c3d0-2efa-41a5-ef98-28e404cffcb0"
      },
      "source": [
        "from google.colab import drive\n",
        "drive.mount('/content/drive')"
      ],
      "execution_count": 3,
      "outputs": [
        {
          "output_type": "stream",
          "text": [
            "Mounted at /content/drive\n"
          ],
          "name": "stdout"
        }
      ]
    },
    {
      "cell_type": "code",
      "metadata": {
        "id": "YYT8MwfIjTKy",
        "colab": {
          "base_uri": "https://localhost:8080/"
        },
        "outputId": "fdcf8149-d3b9-4a19-96bc-142d92055139"
      },
      "source": [
        "#Loading validation data for Maestro dataset\n",
        "\n",
        "# dataFolder, melsMinMin, melsMinMax, melsMeanMin, melsMeanMax, melsMaxMin, melsMaxMax \\\n",
        "#     = '/content/drive/MyDrive/Maestro/maestro-v1.0.0', -87, -86, -31, -30, 40, 41\n",
        "\n",
        "# melsVal = np.load(dataFolder + '/Mels validation.npy')\n",
        "# print(len(melsVal), 'validation samples,', end='\\t')\n",
        "# melsValMin, melsValMean, melsValMax = melsVal.min(), melsVal.mean(), melsVal.max()\n",
        "# # assert melsMinMin < melsValMin < melsMinMax and melsMeanMin < melsValMean < melsMeanMax \\\n",
        "# #     and melsMaxMin < melsValMax < melsMaxMax, 'Wrong mels decibels range'\n",
        "# print('Mels decibels in range [{:.0f} ... {:.0f} ... {:.0f}]'.format(melsValMin, melsValMean, melsValMax))\n",
        "\n",
        "# onVal, offVal, actVal, volsVal = map(np.load, ['{}/{} validation.npy'.format(\n",
        "#     dataFolder, name) for name in ['Onsets', 'Offsets', 'Actives', 'Volumes']])\n",
        "# volsValMin, volsValMean, volsValMax = volsVal.min(), volsVal.mean(), volsVal.max()\n",
        "# assert volsValMin == 0 and 0 < volsValMax <= 1, 'Wrong normalized MIDI volumes range'\n",
        "# print('Midi normalized volumes in range [{} ... {:.4f} ... {:.2f}]'.format(volsValMin, volsValMean, volsValMax))"
      ],
      "execution_count": null,
      "outputs": [
        {
          "output_type": "stream",
          "text": [
            "625 validation samples,\tMels decibels in range [-77 ... -30 ... 37]\n",
            "Midi normalized volumes in range [0.0 ... 0.0037 ... 0.96]\n"
          ],
          "name": "stdout"
        }
      ]
    },
    {
      "cell_type": "code",
      "metadata": {
        "colab": {
          "base_uri": "https://localhost:8080/"
        },
        "id": "jt5a-xcF1ZtE",
        "outputId": "098aee63-5ad0-4a97-9dbc-f3203976fdf2"
      },
      "source": [
        "## Loading mels validation data for Musicnet string dataset\n",
        "\n",
        "dataFolder_string, melsMinMin, melsMinMax, melsMeanMin, melsMeanMax, melsMaxMin, melsMaxMax \\\n",
        "    = '/content/drive/MyDrive/Musicnet/string', -87, -86, -31, -30, 40, 41\n",
        "\n",
        "melsVal_string = np.load(dataFolder_string + '/Mels validation.npy')\n",
        "print(len(melsVal_string), 'validation samples,', end='\\t')\n",
        "melsValMin_string, melsValMean_string, melsValMax_string = melsVal_string.min(), melsVal_string.mean(), melsVal_string.max()\n",
        "# assert melsMinMin < melsValMin < melsMinMax and melsMeanMin < melsValMean < melsMeanMax \\\n",
        "#     and melsMaxMin < melsValMax < melsMaxMax, 'Wrong mels decibels range'\n",
        "print('Mels decibels in range [{:.0f} ... {:.0f} ... {:.0f}]'.format(melsValMin_string, melsValMean_string, melsValMax_string))\n",
        "\n",
        "onVal_string, offVal_string, actVal_string, volsVal_string = map(np.load, ['{}/{} validation.npy'.format(\n",
        "    dataFolder_string, name) for name in ['Onsets', 'Offsets', 'Actives', 'Volumes']])\n",
        "volsValMin_string, volsValMean_string, volsValMax_string = volsVal_string.min(), volsVal_string.mean(), volsVal_string.max()\n",
        "assert volsValMin_string == 0 and 0 < volsValMax_string <= 1, 'Wrong normalized MIDI volumes range'\n",
        "print('Midi normalized volumes in range [{} ... {:.4f} ... {:.2f}]'.format(volsValMin_string, volsValMean_string, volsValMax_string))"
      ],
      "execution_count": 4,
      "outputs": [
        {
          "output_type": "stream",
          "text": [
            "274 validation samples,\tMels decibels in range [-69 ... -24 ... 39]\n",
            "Midi normalized volumes in range [0.0 ... 0.0036 ... 0.47]\n"
          ],
          "name": "stdout"
        }
      ]
    },
    {
      "cell_type": "code",
      "metadata": {
        "id": "6OaFrnpm7bzi",
        "colab": {
          "base_uri": "https://localhost:8080/"
        },
        "outputId": "a5f84432-6136-484e-a71e-2d16f415aa9f"
      },
      "source": [
        "## Loading mels training data for Musicnet string dataset\n",
        "\n",
        "dataFolder, melsMinMin, melsMinMax, melsMeanMin, melsMeanMax, melsMaxMin, melsMaxMax \\\n",
        "    = '/content/drive/MyDrive/Musicnet/string', -87, -85, -31, -30, 38, 41\n",
        "\n",
        "melsTrain_string, melsVal_string = map(lambda split: np.load('{}/Mels {}.npy'.format(dataFolder, split), 'r'), ['train', 'validation'])\n",
        "print('{} train, {} validation samples,'.format(len(melsTrain_string), len(melsVal_string)), end='\\t')\n",
        "\n",
        "melsTrainMin,  melsValMin  = map(np.min,  [melsTrain_string, melsVal_string])\n",
        "melsTrainMean, melsValMean = map(np.mean, [melsTrain_string, melsVal_string])\n",
        "melsTrainMax,  melsValMax  = map(np.max,  [melsTrain_string, melsVal_string])\n",
        "# assert  min(melsTrainMin,  melsValMin)  > melsMinMin  and max(melsTrainMin,  melsValMin)  < melsMinMax  \\\n",
        "#     and min(melsTrainMean, melsValMean) > melsMeanMin and max(melsTrainMean, melsValMean) < melsMeanMax \\\n",
        "#     and min(melsTrainMax,  melsValMax)  > melsMaxMin  and max(melsTrainMax,  melsValMax)  < melsMaxMax, \\\n",
        "#     'Wrong mels decibels range'\n",
        "print('Mels decibels in range [{:.0f} ... {:.0f} ... {:.0f}]'.format(\n",
        "    min(melsTrainMin, melsValMin), np.mean([melsTrainMean, melsValMean]), max(melsTrainMax, melsValMax)))"
      ],
      "execution_count": 5,
      "outputs": [
        {
          "output_type": "stream",
          "text": [
            "2079 train, 274 validation samples,\tMels decibels in range [-77 ... -24 ... 43]\n"
          ],
          "name": "stdout"
        }
      ]
    },
    {
      "cell_type": "code",
      "metadata": {
        "id": "Kqjo3JYA8JGU"
      },
      "source": [
        "## Loading onsets, offsets, volumes,actives  training data for Musicnet string dataset\n",
        "\n",
        "onsetsTrain_string, onsetsVal_string = map(lambda split: np.load('{}/Onsets {}.npy'.format(dataFolder, split), 'r'),\n",
        "                             ['train', 'validation'])\n",
        "offsetsTrain_string, offsetsVal_string = map(lambda split: np.load('{}/Offsets {}.npy'.format(dataFolder, split), 'r'),\n",
        "                               ['train', 'validation'])\n",
        "volumesTrain_string, volumesVal_string = map(lambda split: np.load('{}/Volumes {}.npy'.format(dataFolder, split), 'r'),\n",
        "                               ['train', 'validation'])"
      ],
      "execution_count": null,
      "outputs": []
    },
    {
      "cell_type": "code",
      "metadata": {
        "id": "KMYAALRDnOy5"
      },
      "source": [
        "activesTrain_string, activesVal_string = map(lambda split: np.load('{}/Actives {}.npy'.format(dataFolder, split), 'r'),\n",
        "                               ['train', 'validation'])"
      ],
      "execution_count": null,
      "outputs": []
    },
    {
      "cell_type": "markdown",
      "metadata": {
        "id": "b4M1C9TYjTK2"
      },
      "source": [
        "Instead of training my own model, I just copy the weights from the Google's pre-trained tensorflow checkpoint:\n",
        "https://storage.googleapis.com/magentadata/models/onsets_frames_transcription/maestro_checkpoint.zip\n",
        "(or look for the link here: https://github.com/tensorflow/magenta/tree/master/magenta/models/onsets_frames_transcription)"
      ]
    },
    {
      "cell_type": "code",
      "metadata": {
        "scrolled": false,
        "id": "83L6virpjTK4",
        "colab": {
          "base_uri": "https://localhost:8080/"
        },
        "outputId": "09d04903-aae5-45f3-f145-f9a79f1fad5e"
      },
      "source": [
        "#Loading checkpoint trained by Maestro piano data, you should download the checkpoint first\n",
        "\n",
        "cptDir, lstmWidth, inputs = '/content/drive/MyDrive/Maestro/maestro-v1.0.0/checkpoint/model.ckpt', 256, Input(shape=(melsVal.shape[1], melsVal.shape[2]))\n",
        "\n",
        "ConvBnRelu = lambda n: lambda x: Activation('relu')(BatchNormalization(scale=False)(\n",
        "    Conv2D(n, 3, padding='same', use_bias=False)(x)))\n",
        "outputs = MaxPool2D((1, 2))(ConvBnRelu(96)(MaxPool2D((1, 2))(ConvBnRelu(48)(\n",
        "    ConvBnRelu(48)(Reshape((melsVal.shape[1], melsVal.shape[2], 1))(inputs))))))\n",
        "\n",
        "model = Model(inputs, Dense(88, activation='sigmoid')(Bidirectional(LSTM(lstmWidth,\n",
        "    # https://github.com/tensorflow/tensorflow/blob/master/tensorflow/python/ops/rnn_cell_impl.py#L782\n",
        "    # Sigmoid activation for hidden units, also unroll must be True, otherwise weights will be different\n",
        "    # Cannot use stateful mode because backward LSTM would require reversed batch:\n",
        "    recurrent_activation='sigmoid', implementation=2, return_sequences=True, unroll=True))(Dense(768, activation='relu')(\n",
        "    Reshape((K.int_shape(outputs)[1], K.int_shape(outputs)[2] * K.int_shape(outputs)[3]))(outputs)))))\n",
        "\n",
        "for i in [2, 3, 5, 6, 9, 10, 14, 15, 16]:\n",
        "#    print(*model.layers[i].weights, sep='\\n', end='\\n\\n')\n",
        "    print()\n",
        "    for weights in model.layers[i].weights:\n",
        "        print(weights.name, weights.shape, sep='\\t', end='\\n')\n",
        "print()\n",
        "with Session() as sess: print(*['{}\\t{}'.format(name, shape) for name, shape in list_variables(cptDir)], sep='\\n')\n",
        "model.summary()"
      ],
      "execution_count": null,
      "outputs": [
        {
          "output_type": "stream",
          "text": [
            "WARNING:tensorflow:Layer lstm will not use cuDNN kernels since it doesn't meet the criteria. It will use a generic GPU kernel as fallback when running on GPU.\n",
            "WARNING:tensorflow:Layer lstm will not use cuDNN kernels since it doesn't meet the criteria. It will use a generic GPU kernel as fallback when running on GPU.\n",
            "WARNING:tensorflow:Layer lstm will not use cuDNN kernels since it doesn't meet the criteria. It will use a generic GPU kernel as fallback when running on GPU.\n"
          ],
          "name": "stdout"
        }
      ]
    },
    {
      "cell_type": "code",
      "metadata": {
        "scrolled": false,
        "id": "xJGjUtf6jTK6"
      },
      "source": [
        "def MagentaToKeras(modelName, xVal, yVal):\n",
        "    numLayers, varName, varProbName = 16, modelName.lower(), None\n",
        "    \n",
        "    for i, j in zip(range(3), [2, 5, 9]):\n",
        "        model.layers[j    ].set_weights([load_variable(cptDir, '{}/conv{}/weights'     .format(varName, i))])\n",
        "        model.layers[j + 1].set_weights([load_variable(cptDir, '{}/conv{}/BatchNorm/{}'.format(varName, i, name))\n",
        "                                         for name in ['beta', 'moving_mean', 'moving_variance']])\n",
        "    model.layers[14].set_weights([load_variable(cptDir, '{}/fc_end/{}'.format(varName, name))\n",
        "                                  for name in ['weights', 'biases']])\n",
        "    \n",
        "    if modelName in ['Onsets', 'Offsets']: varProbName = varName[:-1] + '_probs'\n",
        "    elif modelName == 'Velocity': numLayers, varProbName = 15, 'onset_velocities'\n",
        "    else:\n",
        "        assert modelName == 'Frame', 'Illegal model name'\n",
        "        numLayers, varProbName = 20, 'frame_probs'\n",
        "        model.layers[16].set_weights([load_variable(cptDir, 'frame/activation_probs/{}'.format(name))\n",
        "                                      for name in ['weights', 'biases']])\n",
        "\n",
        "    if modelName != 'Velocity':\n",
        "        fW, fB, bW, bB = [load_variable(cptDir, '{}/cudnn_lstm/stack_bidirectional_rnn/cell_0/bidirectional_rnn/'\n",
        "            '{}/cudnn_compatible_lstm_cell/{}'.format(varName, fb, kb)) for fb in ['fw', 'bw'] for kb in ['kernel', 'bias']]\n",
        "        # https://stackoverflow.com/questions/48212694/in-what-order-are-weights-saved-in-a-lstm-kernel-in-tensorflow\n",
        "        # Tensorflow order is I-C-F-O:\n",
        "        (fWi, fWc, fWf, fWo), (bWi, bWc, bWf, bWo) = map(lambda arr: np.split(arr, 4, 1), [fW, bW])\n",
        "        (fBi, fBc, fBf, fBo), (bBi, bBc, bBf, bBo) = map(lambda arr: np.split(arr, 4),    [fB, bB])\n",
        "        # https://stackoverflow.com/questions/47661105/order-of-lstm-weights-in-keras\n",
        "        # Keras order is I-F-C-O:\n",
        "        fWk, bWk, fBk, bBk = map(np.hstack, [[fWi, fWf, fWc, fWo], [bWi, bWf, bWc, bWo],\n",
        "                                             [fBi, fBf, fBc, fBo], [bBi, bBf, bBc, bBo]])\n",
        "        # https://stats.stackexchange.com/questions/280995/accessing-lstm-weights-tensors-in-tensorflow\n",
        "        # Input units first, then hidden (recurrent) nodes:\n",
        "        model.layers[numLayers - 1].set_weights([fWk[:-lstmWidth], fWk[-lstmWidth:], fBk,\n",
        "                                                 bWk[:-lstmWidth], bWk[-lstmWidth:], bBk])\n",
        "\n",
        "    model.layers[numLayers].set_weights([load_variable(cptDir, '{}/{}/{}'.format(\n",
        "        varName, varProbName, name)) for name in ['weights', 'biases']])\n",
        "    model.save('Magenta {} {:.2f}.hdf5'.format(modelName, model.evaluate(\n",
        "        xVal, yVal, 32, 1)[1] * 100), include_optimizer=False)\n",
        "\n",
        "def Dixon(yTrue, yPred):\n",
        "    # true (correct) positives, predicted positives = tp + fp, real (ground-truth) positives = tp + fn\n",
        "    tp, pp, rp = K.sum(yTrue * K.round(yPred)), K.sum(K.round(yPred)), K.sum(yTrue)\n",
        "    return 1. if pp == 0 and rp == 0 else tp / (pp + rp - tp + K.epsilon())\n",
        "\n",
        "# model.compile('Adam', 'categorical_crossentropy', [Dixon])\n",
        "# MagentaToKeras('Onsets', melsVal, onVal)\n",
        "# onProb = model.predict(melsVal, 16, 1)\n",
        "\n",
        "# MagentaToKeras('Offsets', melsVal, offVal)\n",
        "# offProb = model.predict(melsVal, 16, 1)\n",
        "\n",
        "def VolAcc(yTrue, yPred):\n",
        "    onsets = K.cast(yTrue > K.epsilon(), float)\n",
        "    yPredOnsets, numNotes = yPred * onsets, K.sum(onsets)\n",
        "    \n",
        "    # Linear regression:\n",
        "    sumX, sumY = map(K.sum, (yPredOnsets, yTrue))\n",
        "    m = (numNotes * K.sum(yPredOnsets * yTrue) - sumX * sumY) / (numNotes * K.sum(yPredOnsets ** 2) - sumX ** 2)\n",
        "    yPredOnsets = (m * yPredOnsets + (sumY - m * sumX) / numNotes) * onsets\n",
        "    \n",
        "    return (numNotes - K.sum(K.cast(K.abs(yPredOnsets - yTrue) > .1, float))) / numNotes\n",
        "\n",
        "# model = Model(model.input, Dense(volsVal.shape[2], activation='sigmoid')(model.layers[-3].output))\n",
        "# model.compile('Adam', 'categorical_crossentropy', [VolAcc])\n",
        "# MagentaToKeras('Velocity', melsVal, volsVal)\n",
        "# volsProb = model.predict(melsVal, 32, 1)\n",
        "\n",
        "# onsetsIn, offsetsIn = Input(shape=(onVal.shape[1], onVal.shape[2])), Input(shape=(offVal.shape[1], offVal.shape[2]))\n",
        "# model = Model([onsetsIn, model.input, offsetsIn], Dense(actVal.shape[2], activation='sigmoid')(\n",
        "#     Bidirectional(LSTM(lstmWidth, recurrent_activation='sigmoid', implementation=2, return_sequences=True,\n",
        "#                        unroll=True))(concatenate([onsetsIn, model.output, offsetsIn]))))\n",
        "# model.compile('Adam', 'categorical_crossentropy', [Dixon])\n",
        "# MagentaToKeras('Frame', [onProb, melsVal, offProb], actVal)\n",
        "# actProb = model.predict([onProb, melsVal, offProb], 16, 1)"
      ],
      "execution_count": null,
      "outputs": []
    },
    {
      "cell_type": "code",
      "metadata": {
        "id": "URSHN4vy-gXE"
      },
      "source": [
        "def Dixon(yTrue, yPred):\n",
        "    # true (correct) positives, predicted positives = tp + fp, real (ground-truth) positives = tp + fn\n",
        "    tp, pp, rp = K.sum(yTrue * K.round(yPred)), K.sum(K.round(yPred)), K.sum(yTrue)\n",
        "    return 1. if pp == 0 and rp == 0 else tp / (pp + rp - tp + K.epsilon())\n",
        "\n",
        "modelFolder = '/content/drive/MyDrive/Maestro/maestro-v1.0.0/Models' # HDF5-files\n",
        "if not isdir(modelFolder): makedirs(modelFolder)\n",
        "\n",
        "def GetModel(name, accs, accTrain, accVal, xVal, yVal, evalBatchSize, withLstm, loss):\n",
        "    if exists('{}/Training {} Model {:.2f} {:.2f}.hdf5'.format(modelFolder, name, accTrain * 100, accVal * 100)) \\\n",
        "            and exists('{}/Training {} History {:.2f} {:.2f}.npy'.format(modelFolder, name, accTrain * 100, accVal * 100)):\n",
        "        hist = np.load('{}/Training {} History {:.2f} {:.2f}.npy'.format(modelFolder, name, accTrain * 100, accVal * 100)\n",
        "                       , allow_pickle=True\n",
        "                      )[0]\n",
        "        print('Loading pre-trained {} model...'.format(name))\n",
        "        model = load_model('{}/Training {} Model {:.2f} {:.2f}.hdf5'.format(modelFolder, name, accTrain * 100, accVal * 100),\n",
        "                           compile=False) # Otherwise TypeError: '<' not supported between instances of 'function' and 'str'\n",
        "        model.compile('Adam', loss, list(accs.values())) # But have to compile manually\n",
        "        print('Spent {} epochs, current validation loss and {} are:'.format(len(hist['loss']), list(accs.keys())[0]))\n",
        "        print(model.evaluate(xVal, yVal, evalBatchSize, 1))\n",
        "        return model, hist\n",
        "\n",
        "    elif not exists('{}/Training {} Model {:.2f} {:.2f}.hdf5'.format(modelFolder, name, accTrain * 100, accVal * 100)) \\\n",
        "            and not exists('{}/Training {} History {:.2f} {:.2f}.npy'.format(modelFolder, name, accTrain * 100, accVal * 100)):\n",
        "        model = AcousticModel(withLstm)\n",
        "        model.compile('Adam', loss, list(accs.values()))\n",
        "        return model, None\n",
        "    \n",
        "    else: assert False, 'Either provide both training model & training history files, or none'\n",
        "\n",
        "PlotModel = lambda: SVG(model_to_dot(model, True, show_layer_names=False, dpi=72).create(format='svg'))"
      ],
      "execution_count": null,
      "outputs": []
    },
    {
      "cell_type": "code",
      "metadata": {
        "id": "we_UjZw-31cn"
      },
      "source": [
        "def TrainAndSave(xTrain, xVal, yTrain, yVal, batchSize, name, acc):\n",
        "    #global hist\n",
        "    \n",
        "#    class ValDixon_ProgbarLogger(ProgbarLogger):\n",
        "#        def __init__(self):\n",
        "#            super().__init__()\n",
        "#            self.verbose = 1 # ignore the argument from fit()\n",
        "\n",
        "#        def on_train_begin(self, logs=None):\n",
        "#            self.epochs = self.params['epochs']\n",
        "#            self.params['metrics'].remove('val_loss')\n",
        "\n",
        "    # if not hist: hist = model.fit(xTrain, yTrain, batchSize, validation_data=(xVal, yVal)).history\n",
        "    # loss = np.inf\n",
        "\n",
        "    # RAM으로 자꾸 터지고, epoch 조정을 위해 임시로 5 epoch으로 제한\n",
        "    t = 0\n",
        "    #while loss > hist['loss'][-1]:\n",
        "    while t<5:\n",
        "        loss, newHist = hist['loss'][-1], model.fit(xTrain, yTrain, batchSize,\n",
        "#            verbose=0, callbacks=[ValDixon_ProgbarLogger()],\n",
        "            validation_data=(xVal, yVal)).history\n",
        "        hist = {key: hist[key] + val for key, val in newHist.items()}\n",
        "        model.save('{}/Training {} Model {:.2f} {:.2f}.hdf5'.format(\n",
        "            modelFolder, name, hist[acc][-1] * 100, hist['val_' + acc][-1] * 100))\n",
        "        np.save('{}/Training {} History {:.2f} {:.2f}'.format(\n",
        "            modelFolder, name, hist[acc][-1] * 100, hist['val_' + acc][-1] * 100), [hist])\n",
        "        t = t+1"
      ],
      "execution_count": null,
      "outputs": []
    },
    {
      "cell_type": "code",
      "metadata": {
        "id": "RG88EO7h35sm"
      },
      "source": [
        "def HistoryGraph(acc, title):\n",
        "    plt.figure(figsize=(16, 16))\n",
        "\n",
        "    ax1 = plt.subplot(2, 1, 1)\n",
        "    plt.plot(range(1, len(hist['loss']) + 1), hist[         acc], color='#FF8000', linewidth=3, label='Training')\n",
        "    plt.plot(range(1, len(hist['loss']) + 1), hist['val_' + acc], color='r', linewidth=3, label='Validation')\n",
        "    plt.ylim(min(hist[acc][:-1] + hist['val_' + acc][:-1]), max(hist[acc] + hist['val_' + acc]))\n",
        "    plt.title(title)\n",
        "    \n",
        "    ax2 = plt.subplot(2, 1, 2)\n",
        "    plt.plot(range(1, len(hist['loss']) + 1), hist[    'loss'], color='g', linewidth=3, label='Training')\n",
        "    plt.plot(range(1, len(hist['loss']) + 1), hist['val_loss'], color='b', linewidth=3, label='Validation')\n",
        "    plt.ylim(min(hist['loss'] + hist['val_loss']), max(hist['loss'][:-1] + hist['val_loss'][:-1]))\n",
        "    plt.title('Loss history')\n",
        "    \n",
        "    minValLoss, maxValAcc = min(hist['val_loss']), max(hist['val_' + acc])\n",
        "    lossInd, accInd = hist['val_loss'].index(minValLoss), hist['val_' + acc].index(maxValAcc)\n",
        "    accTrain, accVal = hist[acc][lossInd], hist['val_' + acc][lossInd]\n",
        "    for a in [ax1, ax2]:\n",
        "        a.vlines(lossInd + 1, 0, 12, 'b', linewidth=3,\n",
        "                   label='Min validation loss, validation {} = {:.2%}'.format(acc, hist['val_' + acc][lossInd]))\n",
        "        a.vlines(accInd + 1, 0, 12, 'r', linewidth=3,\n",
        "                   label=                 'Max validation {} = {:.2%}'.format(acc, maxValAcc))\n",
        "        a.legend()\n",
        "        a.set_xlabel('Epoch')\n",
        "        a.set_xlim(1, len(hist['loss']))\n",
        "        a.grid()\n",
        "    \n",
        "    print('Maximum validation {0} = {1:.2%}, but the chosen ones are at the minimum validation loss:\\n'\n",
        "          'Train = {2:.2%}, Validation = {3:.2%}'.format(acc, maxValAcc, accTrain, accVal))\n",
        "    return accTrain, accVal"
      ],
      "execution_count": null,
      "outputs": []
    },
    {
      "cell_type": "markdown",
      "metadata": {
        "id": "YnMcwBqP6oYT"
      },
      "source": [
        "#Transfer-Learning"
      ]
    },
    {
      "cell_type": "code",
      "metadata": {
        "id": "dFMRkYF21EEH",
        "colab": {
          "base_uri": "https://localhost:8080/"
        },
        "outputId": "d6876f48-f83f-46e0-cd5f-001177062a49"
      },
      "source": [
        "#checkpoint model 불러오기\n",
        "onsetsModel, offsetsModel, activesModel, volumesModel = map(lambda name: load_model((dataFolder_string +'/Magenta {}.hdf5').format(\n",
        "    name), compile=False), ['Onsets 69.61', 'Offsets 52.52', 'Frame 81.52', 'Velocity 93.66'])"
      ],
      "execution_count": null,
      "outputs": [
        {
          "output_type": "stream",
          "text": [
            "WARNING:tensorflow:Layer lstm will not use cuDNN kernels since it doesn't meet the criteria. It will use a generic GPU kernel as fallback when running on GPU.\n",
            "WARNING:tensorflow:Layer lstm will not use cuDNN kernels since it doesn't meet the criteria. It will use a generic GPU kernel as fallback when running on GPU.\n",
            "WARNING:tensorflow:Layer lstm will not use cuDNN kernels since it doesn't meet the criteria. It will use a generic GPU kernel as fallback when running on GPU.\n",
            "WARNING:tensorflow:Layer lstm will not use cuDNN kernels since it doesn't meet the criteria. It will use a generic GPU kernel as fallback when running on GPU.\n",
            "WARNING:tensorflow:Layer lstm will not use cuDNN kernels since it doesn't meet the criteria. It will use a generic GPU kernel as fallback when running on GPU.\n",
            "WARNING:tensorflow:Layer lstm will not use cuDNN kernels since it doesn't meet the criteria. It will use a generic GPU kernel as fallback when running on GPU.\n",
            "WARNING:tensorflow:Layer lstm_1 will not use cuDNN kernels since it doesn't meet the criteria. It will use a generic GPU kernel as fallback when running on GPU.\n",
            "WARNING:tensorflow:Layer lstm_1 will not use cuDNN kernels since it doesn't meet the criteria. It will use a generic GPU kernel as fallback when running on GPU.\n",
            "WARNING:tensorflow:Layer lstm_1 will not use cuDNN kernels since it doesn't meet the criteria. It will use a generic GPU kernel as fallback when running on GPU.\n"
          ],
          "name": "stdout"
        }
      ]
    },
    {
      "cell_type": "code",
      "metadata": {
        "colab": {
          "base_uri": "https://localhost:8080/"
        },
        "id": "8Ip5npitIp7G",
        "outputId": "aba91115-a775-4132-c69e-3890b33c4bd5"
      },
      "source": [
        "offsetsModel_string = load_model('/content/drive/MyDrive/Musicnet/string/Models/Training Offsets Model 8.93 3.64.hdf5',compile=False)\n",
        "onsetsModel_string = load_model('/content/drive/MyDrive/Musicnet/string/Models/Training Onsets Model 14.19 5.03.hdf5',compile=False)"
      ],
      "execution_count": null,
      "outputs": [
        {
          "output_type": "stream",
          "text": [
            "WARNING:tensorflow:Layer lstm will not use cuDNN kernels since it doesn't meet the criteria. It will use a generic GPU kernel as fallback when running on GPU.\n",
            "WARNING:tensorflow:Layer lstm will not use cuDNN kernels since it doesn't meet the criteria. It will use a generic GPU kernel as fallback when running on GPU.\n",
            "WARNING:tensorflow:Layer lstm will not use cuDNN kernels since it doesn't meet the criteria. It will use a generic GPU kernel as fallback when running on GPU.\n",
            "WARNING:tensorflow:Layer lstm will not use cuDNN kernels since it doesn't meet the criteria. It will use a generic GPU kernel as fallback when running on GPU.\n",
            "WARNING:tensorflow:Layer lstm will not use cuDNN kernels since it doesn't meet the criteria. It will use a generic GPU kernel as fallback when running on GPU.\n",
            "WARNING:tensorflow:Layer lstm will not use cuDNN kernels since it doesn't meet the criteria. It will use a generic GPU kernel as fallback when running on GPU.\n"
          ],
          "name": "stdout"
        }
      ]
    },
    {
      "cell_type": "code",
      "metadata": {
        "colab": {
          "base_uri": "https://localhost:8080/"
        },
        "id": "gwcv-gVtP689",
        "outputId": "f0db8368-46e1-4c2b-814b-919b74f7b9ed"
      },
      "source": [
        "activesModel_string = load_model('/content/drive/MyDrive/Musicnet/string/Models/Training Actives Model 61.04 0.hdf5',compile=False)"
      ],
      "execution_count": null,
      "outputs": [
        {
          "output_type": "stream",
          "text": [
            "WARNING:tensorflow:Layer lstm_1 will not use cuDNN kernels since it doesn't meet the criteria. It will use a generic GPU kernel as fallback when running on GPU.\n",
            "WARNING:tensorflow:Layer lstm_1 will not use cuDNN kernels since it doesn't meet the criteria. It will use a generic GPU kernel as fallback when running on GPU.\n",
            "WARNING:tensorflow:Layer lstm_1 will not use cuDNN kernels since it doesn't meet the criteria. It will use a generic GPU kernel as fallback when running on GPU.\n"
          ],
          "name": "stdout"
        }
      ]
    },
    {
      "cell_type": "markdown",
      "metadata": {
        "id": "DNG-hzlT1yy-"
      },
      "source": [
        "##Fine-tuning pre-trained model by Magenta team, using musicnet string dataset"
      ]
    },
    {
      "cell_type": "markdown",
      "metadata": {
        "id": "m7EtuHRB_Icc"
      },
      "source": [
        "###1) Onset"
      ]
    },
    {
      "cell_type": "code",
      "metadata": {
        "id": "jN3dXe0NpsE-"
      },
      "source": [
        "modelFolder2 = '/content/drive/MyDrive/Musicnet/string/Models' # Directory for HDF5-files\n",
        "if not isdir(modelFolder2): makedirs(modelFolder2)"
      ],
      "execution_count": null,
      "outputs": []
    },
    {
      "cell_type": "code",
      "metadata": {
        "colab": {
          "base_uri": "https://localhost:8080/"
        },
        "id": "-vRvNa5P8X0k",
        "outputId": "9fa3297e-ba43-4802-97ea-efbb5540a0de"
      },
      "source": [
        "#onProb for frame model of checkpoint model \n",
        "\n",
        "onsetsModel.compile('Adam', 'binary_crossentropy', [Dixon])\n",
        "onProb = onsetsModel.predict(melsVal_string,4, 1)"
      ],
      "execution_count": null,
      "outputs": [
        {
          "output_type": "stream",
          "text": [
            "9/9 [==============================] - 314s 242ms/step - loss: 0.0551 - Dixon: 0.0890\n"
          ],
          "name": "stdout"
        }
      ]
    },
    {
      "cell_type": "code",
      "metadata": {
        "id": "jwispeL32Z19",
        "colab": {
          "base_uri": "https://localhost:8080/"
        },
        "outputId": "0092ae90-d188-4af1-d734-7bd01c5e0dae"
      },
      "source": [
        "#fine-training model with preprocessed musicnet data\n",
        "model = onsetsModel\n",
        "model.compile('Adam', 'binary_crossentropy', [Dixon])\n",
        "history = model.fit(melsTrain_string, onsetsTrain_string, batch_size=4, epochs=4,validation_data=(melsVal_string, onsetsVal_string))"
      ],
      "execution_count": null,
      "outputs": [
        {
          "output_type": "stream",
          "text": [
            "Epoch 1/4\n",
            "520/520 [==============================] - 832s 685ms/step - loss: 0.0260 - Dixon: 0.0595 - val_loss: 0.0308 - val_Dixon: 0.0190\n",
            "Epoch 2/4\n",
            "520/520 [==============================] - 214s 412ms/step - loss: 0.0189 - Dixon: 0.0856 - val_loss: 0.0299 - val_Dixon: 0.0269\n",
            "Epoch 3/4\n",
            "520/520 [==============================] - 211s 405ms/step - loss: 0.0171 - Dixon: 0.1154 - val_loss: 0.0291 - val_Dixon: 0.0493\n",
            "Epoch 4/4\n",
            "520/520 [==============================] - 211s 406ms/step - loss: 0.0162 - Dixon: 0.1388 - val_loss: 0.0291 - val_Dixon: 0.0503\n"
          ],
          "name": "stdout"
        }
      ]
    },
    {
      "cell_type": "code",
      "metadata": {
        "id": "bG77WUkvoB1A"
      },
      "source": [
        "#Save model and history\n",
        "\n",
        "hist = {key: val for key, val in history.history.items()}\n",
        "model.save('{}/Training {} Model {:.2f} {:.2f}.hdf5'.format(\n",
        "    modelFolder2, 'Onsets', hist['Dixon'][-1] * 100, hist['val_' + 'Dixon'][-1] * 100))\n",
        "np.save('{}/Training {} History {:.2f} {:.2f}'.format(\n",
        "    modelFolder2, 'Onsets', hist['Dixon'][-1] * 100, hist['val_' + 'Dixon'][-1] * 100), [hist])"
      ],
      "execution_count": null,
      "outputs": []
    },
    {
      "cell_type": "markdown",
      "metadata": {
        "id": "kBwsWHKmn71X"
      },
      "source": [
        "520/520 [==============================] - 756s 593ms/step - loss: 2.1275 - Dixon: 0.0184 - val_loss: 2.6049 - val_Dixon: 0.0169"
      ]
    },
    {
      "cell_type": "code",
      "metadata": {
        "id": "NtVSzOtU_tD0"
      },
      "source": [
        "#Load saved Onset model\n",
        "onsetsModel_string = load_model('/content/drive/MyDrive/Musicnet/string/Models/Training Onsets Model 14.19 5.03.hdf5',compile=False)"
      ],
      "execution_count": null,
      "outputs": []
    },
    {
      "cell_type": "code",
      "metadata": {
        "colab": {
          "base_uri": "https://localhost:8080/"
        },
        "id": "WQGcxw79KzA3",
        "outputId": "bf2994eb-d201-4523-e1e0-e52a516de364"
      },
      "source": [
        "#onProb Val for frame model, transfer learning\n",
        "onProb_string = onsetsModel_string.predict(melsVal_string, 4, 1)"
      ],
      "execution_count": null,
      "outputs": [
        {
          "output_type": "stream",
          "text": [
            "69/69 [==============================] - 221s 144ms/step\n"
          ],
          "name": "stdout"
        }
      ]
    },
    {
      "cell_type": "code",
      "metadata": {
        "colab": {
          "base_uri": "https://localhost:8080/"
        },
        "id": "G0qbD3Anppmd",
        "outputId": "34862e9a-5075-423a-f9fb-4fdad062d27c"
      },
      "source": [
        "#onProb train for frame model, transfer learning\n",
        "onProbTrain_string = onsetsModel_string.predict(melsTrain_string, 4, 1)"
      ],
      "execution_count": null,
      "outputs": [
        {
          "output_type": "stream",
          "text": [
            "520/520 [==============================] - 64s 123ms/step\n"
          ],
          "name": "stdout"
        }
      ]
    },
    {
      "cell_type": "markdown",
      "metadata": {
        "id": "5upX35fn_LK6"
      },
      "source": [
        "###2) Offset"
      ]
    },
    {
      "cell_type": "code",
      "metadata": {
        "colab": {
          "base_uri": "https://localhost:8080/"
        },
        "id": "460SpFNEFOQp",
        "outputId": "e21f594b-c05a-4f3a-865a-cee94604aa1d"
      },
      "source": [
        "#offProb for frame model of checkpoint model \n",
        "offsetsModel.compile('Adam', 'binary_crossentropy', [Dixon])\n",
        "offProb = offsetsModel.predict(melsVal_string, 4, 1)"
      ],
      "execution_count": null,
      "outputs": [
        {
          "output_type": "stream",
          "text": [
            "18/18 [==============================] - 134s 155ms/step\n"
          ],
          "name": "stdout"
        }
      ]
    },
    {
      "cell_type": "code",
      "metadata": {
        "colab": {
          "base_uri": "https://localhost:8080/"
        },
        "id": "_JL5ryP84qnu",
        "outputId": "d1028cb9-f65b-4c1e-c8c3-0bad65e9fb0c"
      },
      "source": [
        "#training model\n",
        "model = offsetsModel\n",
        "model.compile('Adam', 'binary_crossentropy', [Dixon])\n",
        "history = model.fit(melsTrain_string, offsetsTrain_string, batch_size=4, epochs=4,validation_data=(melsVal_string, offsetsVal_string))"
      ],
      "execution_count": null,
      "outputs": [
        {
          "output_type": "stream",
          "text": [
            "Epoch 1/4\n",
            "520/520 [==============================] - 824s 667ms/step - loss: 0.0208 - Dixon: 0.0340 - val_loss: 0.0292 - val_Dixon: 0.0101\n",
            "Epoch 2/4\n",
            "520/520 [==============================] - 211s 406ms/step - loss: 0.0178 - Dixon: 0.0508 - val_loss: 0.0284 - val_Dixon: 0.0359\n",
            "Epoch 3/4\n",
            "520/520 [==============================] - 214s 412ms/step - loss: 0.0173 - Dixon: 0.0691 - val_loss: 0.0284 - val_Dixon: 0.0299\n",
            "Epoch 4/4\n",
            "520/520 [==============================] - 215s 413ms/step - loss: 0.0167 - Dixon: 0.0883 - val_loss: 0.0296 - val_Dixon: 0.0364\n"
          ],
          "name": "stdout"
        }
      ]
    },
    {
      "cell_type": "code",
      "metadata": {
        "id": "RPZMY01zB-Wq"
      },
      "source": [
        "hist = {key: val for key, val in history.history.items()}"
      ],
      "execution_count": null,
      "outputs": []
    },
    {
      "cell_type": "code",
      "metadata": {
        "id": "mLdmE43z6A87"
      },
      "source": [
        "model.save('{}/Training {} Model {:.2f} {:.2f}.hdf5'.format(\n",
        "    modelFolder2, 'Offsets', hist['Dixon'][-1] * 100, hist['val_' + 'Dixon'][-1] * 100))\n",
        "np.save('{}/Training {} History {:.2f} {:.2f}'.format(\n",
        "    modelFolder2, 'Offsets', hist['Dixon'][-1] * 100, hist['val_' + 'Dixon'][-1] * 100), [hist])"
      ],
      "execution_count": null,
      "outputs": []
    },
    {
      "cell_type": "code",
      "metadata": {
        "id": "94nWzQp3_3DL"
      },
      "source": [
        "#Load saved Offset model\n",
        "offsetsModel_string = load_model('/content/drive/MyDrive/Musicnet/string/Models/Training Offsets Model 8.93 3.64.hdf5',compile=False)"
      ],
      "execution_count": null,
      "outputs": []
    },
    {
      "cell_type": "code",
      "metadata": {
        "id": "F1DOJ5cs_amO"
      },
      "source": [
        "#offProb Validation for frame model, transfer learning\n",
        "offProb_string = offsetsModel_string.predict(melsVal_string, 4, 1)"
      ],
      "execution_count": null,
      "outputs": []
    },
    {
      "cell_type": "code",
      "metadata": {
        "id": "wFu8i1NJ_aac"
      },
      "source": [
        "#offProb training for frame model, transfer learning\n",
        "offProbTrain_string = offsetsModel_string.predict(melsTrain_string, 4, 1)"
      ],
      "execution_count": null,
      "outputs": []
    },
    {
      "cell_type": "markdown",
      "metadata": {
        "id": "GYIb2rol_mgi"
      },
      "source": [
        "###3) Frame"
      ]
    },
    {
      "cell_type": "code",
      "metadata": {
        "id": "bztbkC7vA8Oz"
      },
      "source": [
        "# onsetsIn_string, offsetsIn_string = Input(shape=(onVal_string.shape[1], onVal_string.shape[2])), Input(shape=(offVal_string.shape[1], offVal_string.shape[2]))\n",
        "# model = Model([onsetsIn_string, model.input, offsetsIn_string], Dense(actVal_string.shape[2], activation='sigmoid')(\n",
        "#     Bidirectional(LSTM(lstmWidth, recurrent_activation='sigmoid', implementation=2, return_sequences=True,\n",
        "#                        unroll=True))(concatenate([onsetsIn_string, model.output, offsetsIn_string]))))\n",
        "# model.compile('Adam', 'categorical_crossentropy', [Dixon])\n",
        "# MagentaToKeras('Frame', [onProb, melsVal, offProb], actVal_string)\n",
        "# actProb = model.predict([onProb, melsVal, offProb], 16, 1)"
      ],
      "execution_count": null,
      "outputs": []
    },
    {
      "cell_type": "code",
      "metadata": {
        "colab": {
          "base_uri": "https://localhost:8080/"
        },
        "id": "51bEJrib67RO",
        "outputId": "e9ee50ec-6302-4b56-da26-02902da39665"
      },
      "source": [
        "activesModel.compile('Adam', 'binary_crossentropy', [Dixon])\n",
        "activesModel.evaluate([onProb_string, melsVal_string, offProb_string], actVal_string)"
      ],
      "execution_count": null,
      "outputs": [
        {
          "output_type": "stream",
          "text": [
            "9/9 [==============================] - 259s 229ms/step - loss: 18.3097 - Dixon: 0.3220\n"
          ],
          "name": "stdout"
        },
        {
          "output_type": "execute_result",
          "data": {
            "text/plain": [
              "[16.23215675354004, 0.3515265882015228]"
            ]
          },
          "metadata": {
            "tags": []
          },
          "execution_count": 10
        }
      ]
    },
    {
      "cell_type": "markdown",
      "metadata": {
        "id": "Jn1UX2aLjgtj"
      },
      "source": [
        "9/9 [==============================] - 259s 229ms/step - loss: 18.3097 - Dixon: 0.3220\n",
        "[16.23215675354004, 0.3515265882015228]"
      ]
    },
    {
      "cell_type": "code",
      "metadata": {
        "colab": {
          "base_uri": "https://localhost:8080/"
        },
        "id": "pmS50sCOmue0",
        "outputId": "b4d7e0e8-3aa2-44a2-f5f6-e8cbb7a7185a"
      },
      "source": [
        "#training model\n",
        "\n",
        "model = activesModel\n",
        "model.compile('Adam', 'binary_crossentropy', [Dixon])\n",
        "history = model.fit([onProbTrain_string, melsTrain_string, offProbTrain_string], activesTrain_string, batch_size=2, epochs=1)\n",
        "                   validation_data=([onProb_string, melsVal_string, offProb_string], activesVal_string))"
      ],
      "execution_count": null,
      "outputs": [
        {
          "output_type": "stream",
          "text": [
            "1040/1040 [==============================] - 845s 341ms/step - loss: 0.0435 - Dixon: 0.5962\n"
          ],
          "name": "stdout"
        }
      ]
    },
    {
      "cell_type": "code",
      "metadata": {
        "colab": {
          "base_uri": "https://localhost:8080/"
        },
        "id": "mAU-kksYQNyd",
        "outputId": "5a59bf9a-1b87-4c91-9f19-56cec8bb1681"
      },
      "source": [
        "# activesModel_string.compile('Adam', 'binary_crossentropy', [Dixon])\n",
        "# activesModel_string.evaluate([onProb_string, melsVal_string, offProb_string], activesVal_string)"
      ],
      "execution_count": null,
      "outputs": [
        {
          "output_type": "stream",
          "text": [
            "9/9 [==============================] - 358s 265ms/step - loss: 0.0947 - Dixon: 0.3897\n"
          ],
          "name": "stdout"
        },
        {
          "output_type": "execute_result",
          "data": {
            "text/plain": [
              "[0.08218064159154892, 0.43895599246025085]"
            ]
          },
          "metadata": {
            "tags": []
          },
          "execution_count": 15
        }
      ]
    },
    {
      "cell_type": "code",
      "metadata": {
        "id": "hmoKu6r-oc_b"
      },
      "source": [
        "hist = {key: val for key, val in history.history.items()}\n",
        "model.save('{}/Training {} Model {:.2f} {:.2f}.hdf5'.format(\n",
        "    modelFolder2, 'Actives', hist['Dixon'][-1] * 100), 0)          #None인데 양식상 0으로 지정\n",
        "np.save('{}/Training {} History {:.2f} {:.2f}'.format(\n",
        "    modelFolder2, 'Actives', hist['Dixon'][-1] * 100, 0), [hist])  #None인데 양식상 0으로 지정"
      ],
      "execution_count": null,
      "outputs": []
    },
    {
      "cell_type": "markdown",
      "metadata": {
        "id": "0Pw98H8qCDOt"
      },
      "source": [
        "###4) Volumes"
      ]
    },
    {
      "cell_type": "code",
      "metadata": {
        "colab": {
          "base_uri": "https://localhost:8080/"
        },
        "id": "0ln4mgSN0ZVA",
        "outputId": "489b77cc-d0f7-4d72-d7ff-826b3e1b1a8a"
      },
      "source": [
        "model = volumesModel\n",
        "model.compile('Adam', 'binary_crossentropy', [Dixon])\n",
        "history = model.fit(melsTrain_string, volumesTrain_string, batch_size=4, epochs=4,validation_data=(melsVal_string, volumesVal_string))"
      ],
      "execution_count": null,
      "outputs": [
        {
          "output_type": "stream",
          "text": [
            "Epoch 1/4\n",
            "520/520 [==============================] - 41s 40ms/step - loss: 0.0803 - Dixon: 9.5771e-04 - val_loss: 0.0186 - val_Dixon: 1.9111e-04\n",
            "Epoch 2/4\n",
            "520/520 [==============================] - 20s 38ms/step - loss: 0.0136 - Dixon: 8.7334e-04 - val_loss: 0.0180 - val_Dixon: 1.2718e-04\n",
            "Epoch 3/4\n",
            "520/520 [==============================] - 20s 38ms/step - loss: 0.0128 - Dixon: 0.0018 - val_loss: 0.0178 - val_Dixon: 7.5491e-05\n",
            "Epoch 4/4\n",
            "520/520 [==============================] - 20s 38ms/step - loss: 0.0123 - Dixon: 0.0016 - val_loss: 0.0174 - val_Dixon: 2.3252e-04\n"
          ],
          "name": "stdout"
        }
      ]
    },
    {
      "cell_type": "code",
      "metadata": {
        "id": "BE4pLHEP0Y-m"
      },
      "source": [
        "hist = {key: val for key, val in history.history.items()}\n",
        "model.save('{}/Training {} Model {:.2f} {:.2f}.hdf5'.format(\n",
        "    modelFolder2, 'Volumes', hist['Dixon'][-1] * 100, hist['val_' + 'Dixon'][-1] * 100))\n",
        "np.save('{}/Training {} History {:.2f} {:.2f}'.format(\n",
        "    modelFolder2, 'Volumes', hist['Dixon'][-1] * 100, hist['val_' + 'Dixon'][-1] * 100), [hist])"
      ],
      "execution_count": null,
      "outputs": []
    },
    {
      "cell_type": "markdown",
      "metadata": {
        "id": "EvsGy2CojTLB"
      },
      "source": [
        "# Testing."
      ]
    },
    {
      "cell_type": "code",
      "metadata": {
        "scrolled": true,
        "id": "iqsEMzWejTLC",
        "colab": {
          "base_uri": "https://localhost:8080/"
        },
        "outputId": "9f1c877a-c5f3-407e-8b0f-eb83be62f5fd"
      },
      "source": [
        "fps = 16_000 / 512\n",
        "\n",
        "#For pre-trained checkpoint model\n",
        "onsetsModel, offsetsModel, activesModel, volumesModel = map(lambda name: load_model((dataFolder_string +'/Magenta {}.hdf5').format(name), compile=False),\n",
        "                                    ['Onsets 69.61', 'Offsets 52.52', 'Frame 81.52', 'Velocity 93.66'])\n",
        "\n",
        "#For transfer learned model\n",
        "# onsetsModel = load_model('/content/drive/MyDrive/Musicnet/string/Models/Training Onsets Model 14.19 5.03.hdf5',compile=False)\n",
        "# offsetsModel = load_model('/content/drive/MyDrive/Musicnet/string/Models/Training Offsets Model 8.93 3.64.hdf5',compile=False)\n",
        "# activesModel = load_model('/content/drive/MyDrive/Musicnet/string/Models/Training Actives Model 61.04 0.hdf5',compile=False)\n",
        "# volumesModel = load_model('/content/drive/MyDrive/Musicnet/string/Models/Training Volumes Model 0.17 0.02.hdf5',compile=False)\n",
        "\n",
        "\n",
        "ps_total, rs_total, f1s_total, offPs_total, offRs_total, offF1s_total, volsPs_total, volsRs_total, volsF1s_total = [],[],[],[],[],[],[],[],[]\n",
        "\n",
        "result = [ps_total, rs_total, f1s_total, offPs_total, offRs_total, offF1s_total, volsPs_total, volsRs_total, volsF1s_total]\n",
        "# np.mean(ps), np.mean(rs), np.mean(f1s), np.mean(offPs), np.mean(offRs), np.mean(offF1s),\n",
        "#                   np.mean(volsPs), np.mean(volsRs), np.mean(volsF1s))\n",
        "\n",
        "\n",
        "for mels, onsetsTrue, offsetsTrue, activesTrue, volumesTrue in zip(*(glob(\n",
        "#        '{}/test/*{}.npy'.format(dataFolder, name)) for name in ['Mels', 'Onsets', 'Offsets', 'Actives', 'Volumes'])):\n",
        "        '/content/drive/MyDrive/Musicnet/string/test/*{}.npy'.format(name)) for name in ['Mels', 'Onsets', 'Offsets', 'Actives', 'Volumes'])):\n",
        "    print(' '.join(mels.split()[:-1]))\n",
        "    mels, onsetsTrue, offsetsTrue, activesTrue, volumesTrue = map(lambda arr: np.load(\n",
        "        arr, allow_pickle=True), [mels, onsetsTrue, offsetsTrue, activesTrue, volumesTrue])\n",
        "    \n",
        "    ps, rs, f1s, offPs, offRs, offF1s, volsPs, volsRs, volsF1s = [], [], [], [], [], [], [], [], []\n",
        "    onTrueAll, onPredAll, onProbAll, offProbAll, actProbAll, volProbAll = None, None, [], [], [], []\n",
        "    for i, [m, onTrue, offTrue, actTrue, volTrue] in enumerate(zip(mels, onsetsTrue, offsetsTrue, activesTrue, volumesTrue)):\n",
        "        print('\\t{} of {}'.format(i + 1, len(onsetsTrue)))\n",
        "\n",
        "        m, onTrue, offTrue, actTrue, volTrue = map(np.array, [m, onTrue, offTrue, actTrue, volTrue])\n",
        "        refIntervals, refPitches, refVolumes = sequence_to_valued_intervals(pianoroll_to_note_sequence(\n",
        "            actTrue, fps, 0, onset_predictions=onTrue, offset_predictions=offTrue, velocity_values=volTrue), 0)\n",
        "\n",
        "        m = np.pad(m, [(0, -len(m) % melsVal_string.shape[1]), (0, 0)], 'minimum').reshape((-1, melsVal_string.shape[1], melsVal_string.shape[2]))\n",
        "        onProb, offProb, volProb = map(lambda mod: mod.predict(m, 16, 1), [onsetsModel, offsetsModel, volumesModel])\n",
        "        actProb = activesModel.predict([onProb, m, offProb], 16, 1)\n",
        "\n",
        "        onProb, offProb, actProb, volProb = map(lambda arr: np.vstack(\n",
        "            arr)[:len(actTrue)], [onProb, offProb, actProb, volProb])\n",
        "        onPred, offPred, actPred = map(lambda arr: binarize(arr, .5), [onProb, offProb, actProb])\n",
        "        onTrueAll, onPredAll = map(lambda arr, newArr: newArr if arr is None else\n",
        "            np.vstack([arr, newArr]), [onTrueAll, onPredAll], [onTrue, onPred])\n",
        "\n",
        "        estIntervals, estPitches, estVolumes = sequence_to_valued_intervals(pianoroll_to_note_sequence(\n",
        "            actPred, fps, 0, onset_predictions=onPred, offset_predictions=offPred, velocity_values=volProb), 0)\n",
        "        refPitches, estPitches = map(lambda ps: midi_to_hz(ps + 21), [refPitches, estPitches])\n",
        "\n",
        "        p, r, f1, offP, offR, offF1, volsP, volsR, volsF1 = Overlap(refIntervals, refPitches, estIntervals, estPitches,\n",
        "                                  offset_ratio=None)[:-1] + Overlap(refIntervals, refPitches, estIntervals, estPitches)[:-1] \\\n",
        "                           + OverlapVolumes(refIntervals, refPitches, refVolumes, estIntervals, estPitches, estVolumes)[:-1]\n",
        "        ps, rs, f1s, offPs, offRs, offF1s, volsPs, volsRs, volsF1s = ps + [p], rs + [r], f1s + [f1], \\\n",
        "            offPs + [offP], offRs + [offR], offF1s + [offF1], volsPs + [volsP], volsRs + [volsR], volsF1s + [volsF1]\n",
        "    \n",
        "    temp = [np.mean(ps), np.mean(rs), np.mean(f1s), np.mean(offPs), np.mean(offRs), np.mean(offF1s),\n",
        "                  np.mean(volsPs), np.mean(volsRs), np.mean(volsF1s)]\n",
        "    for item, value in zip(result,temp):\n",
        "      item = item.append(value)\n",
        "\n",
        "    print('\\nOnsets: \\nPrecision (specificity) = {:.2%}\\nRecall    (sensitivity) = {:.2%}\\nF1-score                = {:.2%}\\n\\n'\n",
        "            'Frames: \\nPrecision (specificity) = {:.2%}\\nRecall    (sensitivity) = {:.2%}\\nF1-score                = {:.2%}\\n\\n'\n",
        "            'Volumes:\\nPrecision (specificity) = {:.2%}\\nRecall    (sensitivity) = {:.2%}\\nF1-score                = {:.2%}\\n'\n",
        "          .format(np.mean(ps), np.mean(rs), np.mean(f1s), np.mean(offPs), np.mean(offRs), np.mean(offF1s),\n",
        "                  np.mean(volsPs), np.mean(volsRs), np.mean(volsF1s)))\n",
        "\n",
        "    numOnsetsTrue, numOnsetsPred = map(lambda arr: arr.sum(1), [onTrueAll, onPredAll])\n",
        "    numOnsetsTrue, numOnsetsPred = map(lambda arr: arr.sum() / len(np.nonzero(arr)[0]), [numOnsetsTrue, numOnsetsPred])\n",
        "    print('Actual and predicted average number of onsets: {:.2f} {:.2f}'.format(numOnsetsTrue, numOnsetsPred))\n",
        "    print('Predicts',                'more' if numOnsetsPred > numOnsetsTrue else 'less',\n",
        "          'notes than actual', '(sensitive' if numOnsetsPred > numOnsetsTrue else '(specific', 'classifier)\\n')\n",
        "    #assert abs(numOnsetsTrue - numOnsetsPred) < .1\n",
        "\n",
        "print('\\n\\naverage result\\n\\n')\n",
        "print('\\nOnsets: \\nPrecision (specificity) = {:.2%}\\nRecall    (sensitivity) = {:.2%}\\nF1-score                = {:.2%}\\n\\n'\n",
        "        'Frames: \\nPrecision (specificity) = {:.2%}\\nRecall    (sensitivity) = {:.2%}\\nF1-score                = {:.2%}\\n\\n'\n",
        "        'Volumes:\\nPrecision (specificity) = {:.2%}\\nRecall    (sensitivity) = {:.2%}\\nF1-score                = {:.2%}\\n'\n",
        "      .format(np.mean(ps_total), np.mean(rs_total), np.mean(f1s_total), np.mean(offPs_total), np.mean(offRs_total), np.mean(offF1s_total),\n",
        "              np.mean(volsPs_total), np.mean(volsRs_total), np.mean(volsF1s_total)))"
      ],
      "execution_count": null,
      "outputs": [
        {
          "output_type": "stream",
          "text": [
            "WARNING:tensorflow:Layer lstm will not use cuDNN kernels since it doesn't meet the criteria. It will use a generic GPU kernel as fallback when running on GPU.\n",
            "WARNING:tensorflow:Layer lstm will not use cuDNN kernels since it doesn't meet the criteria. It will use a generic GPU kernel as fallback when running on GPU.\n",
            "WARNING:tensorflow:Layer lstm will not use cuDNN kernels since it doesn't meet the criteria. It will use a generic GPU kernel as fallback when running on GPU.\n",
            "WARNING:tensorflow:Layer lstm will not use cuDNN kernels since it doesn't meet the criteria. It will use a generic GPU kernel as fallback when running on GPU.\n",
            "WARNING:tensorflow:Layer lstm will not use cuDNN kernels since it doesn't meet the criteria. It will use a generic GPU kernel as fallback when running on GPU.\n",
            "WARNING:tensorflow:Layer lstm will not use cuDNN kernels since it doesn't meet the criteria. It will use a generic GPU kernel as fallback when running on GPU.\n",
            "WARNING:tensorflow:Layer lstm_1 will not use cuDNN kernels since it doesn't meet the criteria. It will use a generic GPU kernel as fallback when running on GPU.\n",
            "WARNING:tensorflow:Layer lstm_1 will not use cuDNN kernels since it doesn't meet the criteria. It will use a generic GPU kernel as fallback when running on GPU.\n",
            "WARNING:tensorflow:Layer lstm_1 will not use cuDNN kernels since it doesn't meet the criteria. It will use a generic GPU kernel as fallback when running on GPU.\n",
            "/content/drive/MyDrive/Musicnet/string/test/1933\n",
            "\t1 of 1\n",
            "2/2 [==============================] - 179s 223ms/step\n",
            "2/2 [==============================] - 161s 134ms/step\n",
            "2/2 [==============================] - 0s 15ms/step\n",
            "2/2 [==============================] - 164s 131ms/step\n"
          ],
          "name": "stdout"
        },
        {
          "output_type": "stream",
          "text": [
            "/usr/local/lib/python3.7/dist-packages/mir_eval/transcription_velocity.py:188: FutureWarning: `rcond` parameter will change to the default of machine precision times ``max(M, N)`` where M and N are the input matrix dimensions.\n",
            "To use the future default and silence this warning we advise to pass `rcond=None`, to keep using the old, explicitly pass `rcond=-1`.\n",
            "  ref_matched_velocities)[0]\n"
          ],
          "name": "stderr"
        },
        {
          "output_type": "stream",
          "text": [
            "\n",
            "Onsets: \n",
            "Precision (specificity) = 34.03%\n",
            "Recall    (sensitivity) = 37.09%\n",
            "F1-score                = 35.50%\n",
            "\n",
            "Frames: \n",
            "Precision (specificity) = 14.36%\n",
            "Recall    (sensitivity) = 15.65%\n",
            "F1-score                = 14.98%\n",
            "\n",
            "Volumes:\n",
            "Precision (specificity) = 14.36%\n",
            "Recall    (sensitivity) = 15.65%\n",
            "F1-score                = 14.98%\n",
            "\n",
            "Actual and predicted average number of onsets: 2.55 2.10\n",
            "Predicts less notes than actual (specific classifier)\n",
            "\n",
            "/content/drive/MyDrive/Musicnet/string/test/2104\n",
            "\t1 of 1\n",
            "2/2 [==============================] - 0s 244ms/step\n",
            "2/2 [==============================] - 0s 138ms/step\n",
            "2/2 [==============================] - 0s 16ms/step\n",
            "2/2 [==============================] - 0s 140ms/step\n"
          ],
          "name": "stdout"
        },
        {
          "output_type": "stream",
          "text": [
            "/usr/local/lib/python3.7/dist-packages/mir_eval/transcription_velocity.py:188: FutureWarning: `rcond` parameter will change to the default of machine precision times ``max(M, N)`` where M and N are the input matrix dimensions.\n",
            "To use the future default and silence this warning we advise to pass `rcond=None`, to keep using the old, explicitly pass `rcond=-1`.\n",
            "  ref_matched_velocities)[0]\n"
          ],
          "name": "stderr"
        },
        {
          "output_type": "stream",
          "text": [
            "\n",
            "Onsets: \n",
            "Precision (specificity) = 34.45%\n",
            "Recall    (sensitivity) = 50.04%\n",
            "F1-score                = 40.81%\n",
            "\n",
            "Frames: \n",
            "Precision (specificity) = 6.84%\n",
            "Recall    (sensitivity) = 9.93%\n",
            "F1-score                = 8.10%\n",
            "\n",
            "Volumes:\n",
            "Precision (specificity) = 6.84%\n",
            "Recall    (sensitivity) = 9.93%\n",
            "F1-score                = 8.10%\n",
            "\n",
            "Actual and predicted average number of onsets: 2.16 1.70\n",
            "Predicts less notes than actual (specific classifier)\n",
            "\n",
            "/content/drive/MyDrive/Musicnet/string/test/2105\n",
            "\t1 of 1\n",
            "1/1 [==============================] - 0s 463ms/step\n",
            "1/1 [==============================] - 0s 198ms/step\n",
            "1/1 [==============================] - 0s 64ms/step\n",
            "1/1 [==============================] - 0s 184ms/step\n"
          ],
          "name": "stdout"
        },
        {
          "output_type": "stream",
          "text": [
            "/usr/local/lib/python3.7/dist-packages/mir_eval/transcription_velocity.py:188: FutureWarning: `rcond` parameter will change to the default of machine precision times ``max(M, N)`` where M and N are the input matrix dimensions.\n",
            "To use the future default and silence this warning we advise to pass `rcond=None`, to keep using the old, explicitly pass `rcond=-1`.\n",
            "  ref_matched_velocities)[0]\n"
          ],
          "name": "stderr"
        },
        {
          "output_type": "stream",
          "text": [
            "\n",
            "Onsets: \n",
            "Precision (specificity) = 17.41%\n",
            "Recall    (sensitivity) = 33.16%\n",
            "F1-score                = 22.83%\n",
            "\n",
            "Frames: \n",
            "Precision (specificity) = 3.34%\n",
            "Recall    (sensitivity) = 6.37%\n",
            "F1-score                = 4.39%\n",
            "\n",
            "Volumes:\n",
            "Precision (specificity) = 3.34%\n",
            "Recall    (sensitivity) = 6.37%\n",
            "F1-score                = 4.39%\n",
            "\n",
            "Actual and predicted average number of onsets: 1.99 1.47\n",
            "Predicts less notes than actual (specific classifier)\n",
            "\n",
            "/content/drive/MyDrive/Musicnet/string/test/2106\n",
            "\t1 of 1\n",
            "1/1 [==============================] - 0s 413ms/step\n",
            "1/1 [==============================] - 0s 188ms/step\n",
            "1/1 [==============================] - 0s 59ms/step\n",
            "1/1 [==============================] - 0s 178ms/step\n"
          ],
          "name": "stdout"
        },
        {
          "output_type": "stream",
          "text": [
            "/usr/local/lib/python3.7/dist-packages/mir_eval/transcription_velocity.py:188: FutureWarning: `rcond` parameter will change to the default of machine precision times ``max(M, N)`` where M and N are the input matrix dimensions.\n",
            "To use the future default and silence this warning we advise to pass `rcond=None`, to keep using the old, explicitly pass `rcond=-1`.\n",
            "  ref_matched_velocities)[0]\n"
          ],
          "name": "stderr"
        },
        {
          "output_type": "stream",
          "text": [
            "\n",
            "Onsets: \n",
            "Precision (specificity) = 31.30%\n",
            "Recall    (sensitivity) = 38.96%\n",
            "F1-score                = 34.71%\n",
            "\n",
            "Frames: \n",
            "Precision (specificity) = 6.20%\n",
            "Recall    (sensitivity) = 7.72%\n",
            "F1-score                = 6.87%\n",
            "\n",
            "Volumes:\n",
            "Precision (specificity) = 6.20%\n",
            "Recall    (sensitivity) = 7.72%\n",
            "F1-score                = 6.87%\n",
            "\n",
            "Actual and predicted average number of onsets: 2.31 1.91\n",
            "Predicts less notes than actual (specific classifier)\n",
            "\n",
            "/content/drive/MyDrive/Musicnet/string/test/2112\n",
            "\t1 of 1\n",
            "3/3 [==============================] - 1s 307ms/step\n",
            "3/3 [==============================] - 1s 193ms/step\n",
            "3/3 [==============================] - 0s 53ms/step\n",
            "3/3 [==============================] - 1s 177ms/step\n"
          ],
          "name": "stdout"
        },
        {
          "output_type": "stream",
          "text": [
            "/usr/local/lib/python3.7/dist-packages/mir_eval/transcription_velocity.py:188: FutureWarning: `rcond` parameter will change to the default of machine precision times ``max(M, N)`` where M and N are the input matrix dimensions.\n",
            "To use the future default and silence this warning we advise to pass `rcond=None`, to keep using the old, explicitly pass `rcond=-1`.\n",
            "  ref_matched_velocities)[0]\n"
          ],
          "name": "stderr"
        },
        {
          "output_type": "stream",
          "text": [
            "\n",
            "Onsets: \n",
            "Precision (specificity) = 42.37%\n",
            "Recall    (sensitivity) = 48.16%\n",
            "F1-score                = 45.08%\n",
            "\n",
            "Frames: \n",
            "Precision (specificity) = 12.88%\n",
            "Recall    (sensitivity) = 14.64%\n",
            "F1-score                = 13.71%\n",
            "\n",
            "Volumes:\n",
            "Precision (specificity) = 12.88%\n",
            "Recall    (sensitivity) = 14.64%\n",
            "F1-score                = 13.71%\n",
            "\n",
            "Actual and predicted average number of onsets: 2.27 1.65\n",
            "Predicts less notes than actual (specific classifier)\n",
            "\n",
            "/content/drive/MyDrive/Musicnet/string/test/2113\n",
            "\t1 of 1\n",
            "2/2 [==============================] - 0s 138ms/step\n",
            "2/2 [==============================] - 0s 132ms/step\n",
            "2/2 [==============================] - 0s 14ms/step\n",
            "2/2 [==============================] - 0s 130ms/step\n"
          ],
          "name": "stdout"
        },
        {
          "output_type": "stream",
          "text": [
            "/usr/local/lib/python3.7/dist-packages/mir_eval/transcription_velocity.py:188: FutureWarning: `rcond` parameter will change to the default of machine precision times ``max(M, N)`` where M and N are the input matrix dimensions.\n",
            "To use the future default and silence this warning we advise to pass `rcond=None`, to keep using the old, explicitly pass `rcond=-1`.\n",
            "  ref_matched_velocities)[0]\n"
          ],
          "name": "stderr"
        },
        {
          "output_type": "stream",
          "text": [
            "\n",
            "Onsets: \n",
            "Precision (specificity) = 62.58%\n",
            "Recall    (sensitivity) = 62.92%\n",
            "F1-score                = 62.75%\n",
            "\n",
            "Frames: \n",
            "Precision (specificity) = 13.66%\n",
            "Recall    (sensitivity) = 13.74%\n",
            "F1-score                = 13.70%\n",
            "\n",
            "Volumes:\n",
            "Precision (specificity) = 13.66%\n",
            "Recall    (sensitivity) = 13.74%\n",
            "F1-score                = 13.70%\n",
            "\n",
            "Actual and predicted average number of onsets: 2.40 1.75\n",
            "Predicts less notes than actual (specific classifier)\n",
            "\n",
            "/content/drive/MyDrive/Musicnet/string/test/2114\n",
            "\t1 of 1\n",
            "2/2 [==============================] - 0s 258ms/step\n",
            "2/2 [==============================] - 0s 140ms/step\n",
            "2/2 [==============================] - 0s 21ms/step\n",
            "2/2 [==============================] - 0s 138ms/step\n"
          ],
          "name": "stdout"
        },
        {
          "output_type": "stream",
          "text": [
            "/usr/local/lib/python3.7/dist-packages/mir_eval/transcription_velocity.py:188: FutureWarning: `rcond` parameter will change to the default of machine precision times ``max(M, N)`` where M and N are the input matrix dimensions.\n",
            "To use the future default and silence this warning we advise to pass `rcond=None`, to keep using the old, explicitly pass `rcond=-1`.\n",
            "  ref_matched_velocities)[0]\n"
          ],
          "name": "stderr"
        },
        {
          "output_type": "stream",
          "text": [
            "\n",
            "Onsets: \n",
            "Precision (specificity) = 58.83%\n",
            "Recall    (sensitivity) = 55.25%\n",
            "F1-score                = 56.98%\n",
            "\n",
            "Frames: \n",
            "Precision (specificity) = 16.60%\n",
            "Recall    (sensitivity) = 15.59%\n",
            "F1-score                = 16.08%\n",
            "\n",
            "Volumes:\n",
            "Precision (specificity) = 16.60%\n",
            "Recall    (sensitivity) = 15.59%\n",
            "F1-score                = 16.08%\n",
            "\n",
            "Actual and predicted average number of onsets: 2.15 1.85\n",
            "Predicts less notes than actual (specific classifier)\n",
            "\n",
            "/content/drive/MyDrive/Musicnet/string/test/2127\n",
            "\t1 of 1\n",
            "2/2 [==============================] - 1s 378ms/step\n",
            "2/2 [==============================] - 0s 183ms/step\n",
            "2/2 [==============================] - 0s 42ms/step\n",
            "2/2 [==============================] - 0s 166ms/step\n"
          ],
          "name": "stdout"
        },
        {
          "output_type": "stream",
          "text": [
            "/usr/local/lib/python3.7/dist-packages/mir_eval/transcription_velocity.py:188: FutureWarning: `rcond` parameter will change to the default of machine precision times ``max(M, N)`` where M and N are the input matrix dimensions.\n",
            "To use the future default and silence this warning we advise to pass `rcond=None`, to keep using the old, explicitly pass `rcond=-1`.\n",
            "  ref_matched_velocities)[0]\n"
          ],
          "name": "stderr"
        },
        {
          "output_type": "stream",
          "text": [
            "\n",
            "Onsets: \n",
            "Precision (specificity) = 20.26%\n",
            "Recall    (sensitivity) = 26.76%\n",
            "F1-score                = 23.06%\n",
            "\n",
            "Frames: \n",
            "Precision (specificity) = 3.25%\n",
            "Recall    (sensitivity) = 4.29%\n",
            "F1-score                = 3.70%\n",
            "\n",
            "Volumes:\n",
            "Precision (specificity) = 3.25%\n",
            "Recall    (sensitivity) = 4.29%\n",
            "F1-score                = 3.70%\n",
            "\n",
            "Actual and predicted average number of onsets: 3.29 1.60\n",
            "Predicts less notes than actual (specific classifier)\n",
            "\n",
            "/content/drive/MyDrive/Musicnet/string/test/2131\n",
            "\t1 of 1\n",
            "1/1 [==============================] - 0s 443ms/step\n",
            "1/1 [==============================] - 0s 195ms/step\n",
            "1/1 [==============================] - 0s 68ms/step\n",
            "1/1 [==============================] - 0s 182ms/step\n"
          ],
          "name": "stdout"
        },
        {
          "output_type": "stream",
          "text": [
            "/usr/local/lib/python3.7/dist-packages/mir_eval/transcription_velocity.py:188: FutureWarning: `rcond` parameter will change to the default of machine precision times ``max(M, N)`` where M and N are the input matrix dimensions.\n",
            "To use the future default and silence this warning we advise to pass `rcond=None`, to keep using the old, explicitly pass `rcond=-1`.\n",
            "  ref_matched_velocities)[0]\n"
          ],
          "name": "stderr"
        },
        {
          "output_type": "stream",
          "text": [
            "\n",
            "Onsets: \n",
            "Precision (specificity) = 17.84%\n",
            "Recall    (sensitivity) = 13.50%\n",
            "F1-score                = 15.37%\n",
            "\n",
            "Frames: \n",
            "Precision (specificity) = 7.29%\n",
            "Recall    (sensitivity) = 5.52%\n",
            "F1-score                = 6.28%\n",
            "\n",
            "Volumes:\n",
            "Precision (specificity) = 7.29%\n",
            "Recall    (sensitivity) = 5.52%\n",
            "F1-score                = 6.28%\n",
            "\n",
            "Actual and predicted average number of onsets: 2.66 1.82\n",
            "Predicts less notes than actual (specific classifier)\n",
            "\n",
            "/content/drive/MyDrive/Musicnet/string/test/2138\n",
            "\t1 of 1\n",
            "2/2 [==============================] - 1s 309ms/step\n",
            "2/2 [==============================] - 0s 158ms/step\n",
            "2/2 [==============================] - 0s 27ms/step\n",
            "2/2 [==============================] - 0s 146ms/step\n",
            "\n",
            "Onsets: \n",
            "Precision (specificity) = 13.01%\n",
            "Recall    (sensitivity) = 29.58%\n",
            "F1-score                = 18.07%\n",
            "\n",
            "Frames: \n",
            "Precision (specificity) = 1.50%\n",
            "Recall    (sensitivity) = 3.42%\n",
            "F1-score                = 2.09%\n",
            "\n",
            "Volumes:\n",
            "Precision (specificity) = 1.50%\n",
            "Recall    (sensitivity) = 3.42%\n",
            "F1-score                = 2.09%\n",
            "\n",
            "Actual and predicted average number of onsets: 2.47 1.58\n",
            "Predicts less notes than actual (specific classifier)\n",
            "\n",
            "\n",
            "\n",
            "average result\n",
            "\n",
            "\n",
            "\n",
            "Onsets: \n",
            "Precision (specificity) = 33.21%\n",
            "Recall    (sensitivity) = 39.54%\n",
            "F1-score                = 35.52%\n",
            "\n",
            "Frames: \n",
            "Precision (specificity) = 8.59%\n",
            "Recall    (sensitivity) = 9.69%\n",
            "F1-score                = 8.99%\n",
            "\n",
            "Volumes:\n",
            "Precision (specificity) = 8.59%\n",
            "Recall    (sensitivity) = 9.69%\n",
            "F1-score                = 8.99%\n",
            "\n"
          ],
          "name": "stdout"
        },
        {
          "output_type": "stream",
          "text": [
            "/usr/local/lib/python3.7/dist-packages/mir_eval/transcription_velocity.py:188: FutureWarning: `rcond` parameter will change to the default of machine precision times ``max(M, N)`` where M and N are the input matrix dimensions.\n",
            "To use the future default and silence this warning we advise to pass `rcond=None`, to keep using the old, explicitly pass `rcond=-1`.\n",
            "  ref_matched_velocities)[0]\n"
          ],
          "name": "stderr"
        }
      ]
    },
    {
      "cell_type": "code",
      "metadata": {
        "colab": {
          "base_uri": "https://localhost:8080/"
        },
        "id": "vWKTXgsMlybG",
        "outputId": "4d91b9bc-3801-41cf-a8f7-a64d361f9caa"
      },
      "source": [
        "onsetsModel, offsetsModel, activesModel, volumesModel = map(lambda name: load_model((dataFolder_string +'/Magenta {}.hdf5').format(name), compile=False),\n",
        "                                    ['Onsets 69.61', 'Offsets 52.52', 'Frame 81.52', 'Velocity 93.66'])"
      ],
      "execution_count": null,
      "outputs": [
        {
          "output_type": "stream",
          "text": [
            "WARNING:tensorflow:Layer lstm will not use cuDNN kernels since it doesn't meet the criteria. It will use a generic GPU kernel as fallback when running on GPU.\n",
            "WARNING:tensorflow:Layer lstm will not use cuDNN kernels since it doesn't meet the criteria. It will use a generic GPU kernel as fallback when running on GPU.\n",
            "WARNING:tensorflow:Layer lstm will not use cuDNN kernels since it doesn't meet the criteria. It will use a generic GPU kernel as fallback when running on GPU.\n",
            "WARNING:tensorflow:Layer lstm will not use cuDNN kernels since it doesn't meet the criteria. It will use a generic GPU kernel as fallback when running on GPU.\n",
            "WARNING:tensorflow:Layer lstm will not use cuDNN kernels since it doesn't meet the criteria. It will use a generic GPU kernel as fallback when running on GPU.\n",
            "WARNING:tensorflow:Layer lstm will not use cuDNN kernels since it doesn't meet the criteria. It will use a generic GPU kernel as fallback when running on GPU.\n",
            "WARNING:tensorflow:Layer lstm_1 will not use cuDNN kernels since it doesn't meet the criteria. It will use a generic GPU kernel as fallback when running on GPU.\n",
            "WARNING:tensorflow:Layer lstm_1 will not use cuDNN kernels since it doesn't meet the criteria. It will use a generic GPU kernel as fallback when running on GPU.\n",
            "WARNING:tensorflow:Layer lstm_1 will not use cuDNN kernels since it doesn't meet the criteria. It will use a generic GPU kernel as fallback when running on GPU.\n"
          ],
          "name": "stdout"
        }
      ]
    },
    {
      "cell_type": "code",
      "metadata": {
        "scrolled": false,
        "id": "YqZ31gcZjTLF",
        "colab": {
          "base_uri": "https://localhost:8080/",
          "height": 908
        },
        "outputId": "29ee4b11-17f6-401d-9702-87c4086bdb8e"
      },
      "source": [
        "fps = 16_000 / 512\n",
        "mels2014, onTrue2014, offTrue2014, actTrue2014, volTrue2014 = map(lambda name: np.vstack(np.load(\n",
        "#    '{}/test/2014/MIDI-UNPROCESSED_19-20_R1_2014_MID--AUDIO_20_R1_2014_wav--2 {}.npy'.format(dataFolder, name),\n",
        "    '/content/drive/MyDrive/Musicnet/string/test/2104 {}.npy'.format(name),         #test set에서 임의로 선정\n",
        "    allow_pickle=True)), ['Mels', 'Onsets', 'Offsets', 'Actives', 'Volumes'])\n",
        "\n",
        "mels2014 = np.pad(mels2014, [(0, -len(mels2014) % melsVal_string.shape[1]), (0, 0)],\n",
        "                  'minimum').reshape((-1, melsVal_string.shape[1], melsVal_string.shape[2]))\n",
        "onProb2014, offProb2014, volProb2014 = map(lambda mod: mod.predict(mels2014, 16, 1), [onsetsModel, offsetsModel, volumesModel])\n",
        "actProb2014 = activesModel.predict([onProb2014, mels2014, offProb2014], 16, 1)\n",
        "onProb2014, offProb2014, actProb2014, volProb2014 = map(lambda arr: np.vstack(\n",
        "    arr)[:len(actTrue2014)], [onProb2014, offProb2014, actProb2014, volProb2014])\n",
        "\n",
        "def VolumesF1(onPred, offPred, actPred):\n",
        "    refIntervals, refPitches, refVolumes, estIntervals, estPitches, estVolumes = sequence_to_valued_intervals(\n",
        "        pianoroll_to_note_sequence(actTrue2014, fps, 0, onset_predictions=onTrue2014, offset_predictions=offTrue2014,\n",
        "            velocity_values=volTrue2014), 0) + sequence_to_valued_intervals(pianoroll_to_note_sequence(\n",
        "        actPred, fps, 0, onset_predictions=onPred, offset_predictions=offPred, velocity_values=volProb2014), 0)\n",
        "    refPitches, estPitches = map(lambda ps: midi_to_hz(ps + 21), [refPitches, estPitches])\n",
        "    return OverlapVolumes(refIntervals, refPitches, refVolumes, estIntervals, estPitches, estVolumes)[2]\n",
        "\n",
        "\n",
        "precision = 10\n",
        "th = [i / precision for i in range(precision + 1)]\n",
        "acc = [0] + [VolumesF1(*map(lambda arr: binarize(arr, t), [onProb2014, offProb2014, actProb2014])) for t in th[1:]]\n",
        "\n",
        "plt.figure(figsize=(16, 4))\n",
        "plt.subplot(1, 3, 1)\n",
        "\n",
        "plt.plot(th, acc, linewidth=3)\n",
        "plt.title('Max Overlap Accuracy = {:.2%}'.format(max(acc)))\n",
        "plt.xlabel('Threshold')\n",
        "\n",
        "thBest = acc.index(max(acc)) / precision\n",
        "plt.vlines(thBest, 0, max(acc), 'r', label='Best threshold = ' + str(thBest), linewidth=3)\n",
        "\n",
        "plt.legend()\n",
        "plt.grid()\n",
        "\n",
        "def PlotROC(i, yTrue, yProb, name):\n",
        "    plt.subplot(1, 3, i)\n",
        "\n",
        "    fpr, tpr, ths = roc_curve(yTrue.ravel(), yProb.ravel()) # micro-average ROC curve\n",
        "    plt.plot(fpr, tpr, linewidth = 3)\n",
        "\n",
        "    plt.title(name + ' ROC curve')\n",
        "    plt.xlabel('False positive rate (1 - Specificity)')\n",
        "    plt.ylabel('True positive rate (Sensitivity)')\n",
        "\n",
        "    plt.scatter(fpr[ths > .5][-1], tpr[ths > .5][-1], s=100, c='g', marker='x',\n",
        "                linewidth=2, label='Default threshold = 0.50')\n",
        "    plt.scatter(fpr[ths > thBest][-1], tpr[ths > thBest][-1], s=100, c='r', marker='x',\n",
        "                linewidth=2, label='Best threshold = ' + str(thBest))\n",
        "\n",
        "    plt.legend()\n",
        "    plt.grid()\n",
        "    plt.text(.5, .5, 'Area = {:.2%}'.format(auc(fpr, tpr)), horizontalalignment='center', verticalalignment='center',\n",
        "             bbox={'facecolor': 'w', 'alpha': 1}, color='r'); # micro-average area under the ROC curve\n",
        "\n",
        "PlotROC(2,  onTrue2014,  onProb2014, 'Onsets')\n",
        "PlotROC(3, actTrue2014, actProb2014, 'Frames')"
      ],
      "execution_count": null,
      "outputs": [
        {
          "output_type": "stream",
          "text": [
            "2/2 [==============================] - 0s 145ms/step\n",
            "2/2 [==============================] - 0s 148ms/step\n",
            "2/2 [==============================] - 0s 17ms/step\n",
            "2/2 [==============================] - 0s 148ms/step\n"
          ],
          "name": "stdout"
        },
        {
          "output_type": "stream",
          "text": [
            "/usr/local/lib/python3.7/dist-packages/mir_eval/transcription_velocity.py:188: FutureWarning: `rcond` parameter will change to the default of machine precision times ``max(M, N)`` where M and N are the input matrix dimensions.\n",
            "To use the future default and silence this warning we advise to pass `rcond=None`, to keep using the old, explicitly pass `rcond=-1`.\n",
            "  ref_matched_velocities)[0]\n",
            "/usr/local/lib/python3.7/dist-packages/mir_eval/transcription_velocity.py:188: FutureWarning: `rcond` parameter will change to the default of machine precision times ``max(M, N)`` where M and N are the input matrix dimensions.\n",
            "To use the future default and silence this warning we advise to pass `rcond=None`, to keep using the old, explicitly pass `rcond=-1`.\n",
            "  ref_matched_velocities)[0]\n",
            "/usr/local/lib/python3.7/dist-packages/mir_eval/transcription_velocity.py:188: FutureWarning: `rcond` parameter will change to the default of machine precision times ``max(M, N)`` where M and N are the input matrix dimensions.\n",
            "To use the future default and silence this warning we advise to pass `rcond=None`, to keep using the old, explicitly pass `rcond=-1`.\n",
            "  ref_matched_velocities)[0]\n",
            "/usr/local/lib/python3.7/dist-packages/mir_eval/transcription_velocity.py:188: FutureWarning: `rcond` parameter will change to the default of machine precision times ``max(M, N)`` where M and N are the input matrix dimensions.\n",
            "To use the future default and silence this warning we advise to pass `rcond=None`, to keep using the old, explicitly pass `rcond=-1`.\n",
            "  ref_matched_velocities)[0]\n",
            "/usr/local/lib/python3.7/dist-packages/mir_eval/transcription_velocity.py:188: FutureWarning: `rcond` parameter will change to the default of machine precision times ``max(M, N)`` where M and N are the input matrix dimensions.\n",
            "To use the future default and silence this warning we advise to pass `rcond=None`, to keep using the old, explicitly pass `rcond=-1`.\n",
            "  ref_matched_velocities)[0]\n",
            "/usr/local/lib/python3.7/dist-packages/mir_eval/transcription_velocity.py:188: FutureWarning: `rcond` parameter will change to the default of machine precision times ``max(M, N)`` where M and N are the input matrix dimensions.\n",
            "To use the future default and silence this warning we advise to pass `rcond=None`, to keep using the old, explicitly pass `rcond=-1`.\n",
            "  ref_matched_velocities)[0]\n",
            "/usr/local/lib/python3.7/dist-packages/mir_eval/transcription_velocity.py:188: FutureWarning: `rcond` parameter will change to the default of machine precision times ``max(M, N)`` where M and N are the input matrix dimensions.\n",
            "To use the future default and silence this warning we advise to pass `rcond=None`, to keep using the old, explicitly pass `rcond=-1`.\n",
            "  ref_matched_velocities)[0]\n",
            "/usr/local/lib/python3.7/dist-packages/mir_eval/transcription_velocity.py:188: FutureWarning: `rcond` parameter will change to the default of machine precision times ``max(M, N)`` where M and N are the input matrix dimensions.\n",
            "To use the future default and silence this warning we advise to pass `rcond=None`, to keep using the old, explicitly pass `rcond=-1`.\n",
            "  ref_matched_velocities)[0]\n",
            "/usr/local/lib/python3.7/dist-packages/mir_eval/transcription_velocity.py:188: FutureWarning: `rcond` parameter will change to the default of machine precision times ``max(M, N)`` where M and N are the input matrix dimensions.\n",
            "To use the future default and silence this warning we advise to pass `rcond=None`, to keep using the old, explicitly pass `rcond=-1`.\n",
            "  ref_matched_velocities)[0]\n",
            "/usr/local/lib/python3.7/dist-packages/mir_eval/transcription.py:167: UserWarning: Estimated notes are empty.\n",
            "  warnings.warn(\"Estimated notes are empty.\")\n"
          ],
          "name": "stderr"
        },
        {
          "output_type": "display_data",
          "data": {
            "image/png": "[encoded data removed]",
            "text/plain": [
              "<Figure size 1152x288 with 3 Axes>"
            ]
          },
          "metadata": {
            "tags": [],
            "image/png": {
              "width": 936,
              "height": 277
            },
            "needs_background": "light"
          }
        }
      ]
    },
    {
      "cell_type": "code",
      "metadata": {
        "scrolled": false,
        "id": "BiIZiCNqjTLG",
        "colab": {
          "base_uri": "https://localhost:8080/",
          "height": 626
        },
        "outputId": "6bef5cbd-f4b9-4e0e-f41c-57f5485b6c64"
      },
      "source": [
        "yPresize, yDefault = map(lambda t: binarize(onProb2014, t).astype(int), [thBest, .5])\n",
        "counts = [onTrue2014.sum(1), yDefault.sum(1), yPresize.sum(1)]\n",
        "maxCount = int(np.max(counts))\n",
        "\n",
        "plt.figure(figsize=(16, 8))\n",
        "plt.hist(counts, maxCount, rwidth=.9, log=True, label=['True distribution',\n",
        "    'Threshold = 0.5, Overlap accuracy = {:.2%} (default)'.format(        VolumesF1(\n",
        "          yDefault, binarize(offProb2014, .5),     binarize(actProb2014, .5))),\n",
        "      'Threshold = {}, Overlap accuracy = {:.2%} (best)'  .format(thBest, VolumesF1(\n",
        "          yPresize, binarize(offProb2014, thBest), binarize(actProb2014, thBest)))])\n",
        "\n",
        "plt.title('Predicted chord sizes (too many notes in a chord up to 88 - is significant error)')\n",
        "plt.xlim(0)\n",
        "plt.xticks(range(maxCount + 1))\n",
        "plt.grid(axis='x')\n",
        "plt.legend();"
      ],
      "execution_count": null,
      "outputs": [
        {
          "output_type": "stream",
          "text": [
            "/usr/local/lib/python3.7/dist-packages/mir_eval/transcription_velocity.py:188: FutureWarning: `rcond` parameter will change to the default of machine precision times ``max(M, N)`` where M and N are the input matrix dimensions.\n",
            "To use the future default and silence this warning we advise to pass `rcond=None`, to keep using the old, explicitly pass `rcond=-1`.\n",
            "  ref_matched_velocities)[0]\n",
            "/usr/local/lib/python3.7/dist-packages/mir_eval/transcription_velocity.py:188: FutureWarning: `rcond` parameter will change to the default of machine precision times ``max(M, N)`` where M and N are the input matrix dimensions.\n",
            "To use the future default and silence this warning we advise to pass `rcond=None`, to keep using the old, explicitly pass `rcond=-1`.\n",
            "  ref_matched_velocities)[0]\n"
          ],
          "name": "stderr"
        },
        {
          "output_type": "display_data",
          "data": {
            "image/png": "[encoded data removed]",
            "text/plain": [
              "<Figure size 1152x576 with 1 Axes>"
            ]
          },
          "metadata": {
            "tags": [],
            "image/png": {
              "width": 932,
              "height": 481
            },
            "needs_background": "light"
          }
        }
      ]
    },
    {
      "cell_type": "markdown",
      "metadata": {
        "id": "rzBvxw8zjTLH"
      },
      "source": [
        "# Keras model HDF5-file to JSON conversion<br>(without optimizer, for using just forward-pass predictions in C++):\n",
        "https://github.com/Dobiasd/frugally-deep/tree/master/keras_export"
      ]
    },
    {
      "cell_type": "code",
      "metadata": {
        "scrolled": false,
        "id": "biTxaEqqjTLI",
        "outputId": "6747f606-7a2b-44bd-d41c-17d4533ee235"
      },
      "source": [
        "%run convert_model.py   \"Magenta Onsets 67.72.hdf5\"  \"Magenta Onsets.json\"\n",
        "print()\n",
        "%run convert_model.py  \"Magenta Offsets 44.53.hdf5\" \"Magenta Offsets.json\"\n",
        "print()\n",
        "%run convert_model.py    \"Magenta Frame 76.98.hdf5\"  \"Magenta Frames.json\"\n",
        "print()\n",
        "%run convert_model.py \"Magenta Velocity 93.40.hdf5\" \"Magenta Volumes.json\""
      ],
      "execution_count": null,
      "outputs": [
        {
          "output_type": "stream",
          "text": [
            "loading Magenta Onsets 67.72.hdf5\n",
            "WARNING:tensorflow:Layer lstm will not use cuDNN kernel since it doesn't meet the cuDNN kernel criteria. It will use generic GPU kernel as fallback when running on GPU\n",
            "WARNING:tensorflow:Layer lstm will not use cuDNN kernel since it doesn't meet the cuDNN kernel criteria. It will use generic GPU kernel as fallback when running on GPU\n",
            "WARNING:tensorflow:Layer lstm will not use cuDNN kernel since it doesn't meet the cuDNN kernel criteria. It will use generic GPU kernel as fallback when running on GPU\n",
            "WARNING:tensorflow:No training configuration found in the save file, so the model was *not* compiled. Compile it manually.\n",
            "Forward pass took 35.720829 s.\n",
            "Forward pass took 0.508255 s.\n",
            "Forward pass took 0.473182 s.\n",
            "Starting performance measurements.\n",
            "Forward pass took 0.515449 s.\n",
            "Forward pass took 0.453743 s.\n",
            "Forward pass took 0.437429 s.\n",
            "Forward pass took 0.467689 s.\n",
            "Forward pass took 0.480895 s.\n",
            "Forward pass took 0.47104100000000004 s on average.\n",
            "Converting model architecture.\n",
            "Converting model weights.\n",
            "Done converting model weights.\n",
            "Calculating model hash.\n",
            "Model conversion finished.\n",
            "writing Magenta Onsets.json\n",
            "\n",
            "loading Magenta Offsets 44.53.hdf5\n",
            "WARNING:tensorflow:Layer lstm will not use cuDNN kernel since it doesn't meet the cuDNN kernel criteria. It will use generic GPU kernel as fallback when running on GPU\n",
            "WARNING:tensorflow:Layer lstm will not use cuDNN kernel since it doesn't meet the cuDNN kernel criteria. It will use generic GPU kernel as fallback when running on GPU\n",
            "WARNING:tensorflow:Layer lstm will not use cuDNN kernel since it doesn't meet the cuDNN kernel criteria. It will use generic GPU kernel as fallback when running on GPU\n",
            "WARNING:tensorflow:No training configuration found in the save file, so the model was *not* compiled. Compile it manually.\n",
            "Forward pass took 34.224986 s.\n",
            "Forward pass took 0.468311 s.\n",
            "Forward pass took 0.480288 s.\n",
            "Starting performance measurements.\n",
            "Forward pass took 0.464745 s.\n",
            "Forward pass took 0.446169 s.\n",
            "Forward pass took 0.41117 s.\n",
            "Forward pass took 0.443116 s.\n",
            "Forward pass took 0.484776 s.\n",
            "Forward pass took 0.44999520000000004 s on average.\n",
            "Converting model architecture.\n",
            "Converting model weights.\n",
            "Done converting model weights.\n",
            "Calculating model hash.\n",
            "Model conversion finished.\n",
            "writing Magenta Offsets.json\n",
            "\n",
            "loading Magenta Frame 76.98.hdf5\n",
            "WARNING:tensorflow:Layer lstm_1 will not use cuDNN kernel since it doesn't meet the cuDNN kernel criteria. It will use generic GPU kernel as fallback when running on GPU\n",
            "WARNING:tensorflow:Layer lstm_1 will not use cuDNN kernel since it doesn't meet the cuDNN kernel criteria. It will use generic GPU kernel as fallback when running on GPU\n",
            "WARNING:tensorflow:Layer lstm_1 will not use cuDNN kernel since it doesn't meet the cuDNN kernel criteria. It will use generic GPU kernel as fallback when running on GPU\n",
            "WARNING:tensorflow:No training configuration found in the save file, so the model was *not* compiled. Compile it manually.\n",
            "Forward pass took 37.304826 s.\n",
            "Forward pass took 0.419077 s.\n",
            "Forward pass took 0.509366 s.\n",
            "Starting performance measurements.\n",
            "Forward pass took 0.418003 s.\n",
            "Forward pass took 0.444959 s.\n",
            "Forward pass took 0.494941 s.\n",
            "Forward pass took 0.407204 s.\n",
            "Forward pass took 0.458223 s.\n",
            "Forward pass took 0.44466599999999995 s on average.\n",
            "Converting model architecture.\n",
            "Converting model weights.\n",
            "Done converting model weights.\n",
            "Calculating model hash.\n",
            "Model conversion finished.\n",
            "writing Magenta Frames.json\n",
            "\n",
            "loading Magenta Velocity 93.40.hdf5\n",
            "WARNING:tensorflow:No training configuration found in the save file, so the model was *not* compiled. Compile it manually.\n",
            "Forward pass took 0.190459 s.\n",
            "Forward pass took 0.066814 s.\n",
            "Forward pass took 0.057792 s.\n",
            "Starting performance measurements.\n",
            "Forward pass took 0.056848 s.\n",
            "Forward pass took 0.058114 s.\n",
            "Forward pass took 0.061046 s.\n",
            "Forward pass took 0.054856 s.\n",
            "Forward pass took 0.057615 s.\n",
            "Forward pass took 0.057695800000000005 s on average.\n",
            "Converting model architecture.\n",
            "Converting model weights.\n",
            "Done converting model weights.\n",
            "Calculating model hash.\n",
            "Model conversion finished.\n",
            "writing Magenta Volumes.json\n"
          ],
          "name": "stdout"
        }
      ]
    }
  ]
}